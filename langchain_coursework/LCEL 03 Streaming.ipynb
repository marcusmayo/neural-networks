{
 "cells": [
  {
   "cell_type": "markdown",
   "id": "4160b6b8",
   "metadata": {},
   "source": [
    "# Streaming"
   ]
  },
  {
   "cell_type": "code",
   "execution_count": 1,
   "id": "690171b1-b1ea-4a09-b9b5-5f675e495450",
   "metadata": {},
   "outputs": [],
   "source": [
    "# Run the line of code below to check the version of langchain in the current environment.\n",
    "# Substitute \"langchain\" with any other package name to check their version."
   ]
  },
  {
   "cell_type": "code",
   "execution_count": 2,
   "id": "33c5dac8-46e1-4b8c-9c06-96473a28bfb6",
   "metadata": {},
   "outputs": [
    {
     "name": "stdout",
     "output_type": "stream",
     "text": [
      "Name: langchain\n",
      "Version: 0.3.26\n",
      "Summary: Building applications with LLMs through composability\n",
      "Home-page: \n",
      "Author: \n",
      "Author-email: \n",
      "License: MIT\n",
      "Location: C:\\Users\\Marcus\\anaconda3\\envs\\langchain_env_py312\\Lib\\site-packages\n",
      "Requires: langchain-core, langchain-text-splitters, langsmith, pydantic, PyYAML, requests, SQLAlchemy\n",
      "Required-by: \n",
      "Note: you may need to restart the kernel to use updated packages.\n"
     ]
    }
   ],
   "source": [
    "pip show langchain"
   ]
  },
  {
   "cell_type": "code",
   "execution_count": 3,
   "id": "ef5c5f5e",
   "metadata": {},
   "outputs": [],
   "source": [
    "%load_ext dotenv\n",
    "%dotenv"
   ]
  },
  {
   "cell_type": "code",
   "execution_count": 4,
   "id": "4d8e2ede",
   "metadata": {},
   "outputs": [],
   "source": [
    "from langchain_core.prompts import ChatPromptTemplate\n",
    "from langchain_openai import ChatOpenAI"
   ]
  },
  {
   "cell_type": "code",
   "execution_count": 5,
   "id": "c7679ea5",
   "metadata": {},
   "outputs": [],
   "source": [
    "chat_template = ChatPromptTemplate.from_messages([\n",
    "    ('human', \n",
    "     \"I've recently adopted a {pet} which is a {breed}. Could you suggest several training tips?\")])"
   ]
  },
  {
   "cell_type": "code",
   "execution_count": 6,
   "id": "5e7ca601",
   "metadata": {},
   "outputs": [],
   "source": [
    "# Define chat object\n",
    "chat = ChatOpenAI(model_name = 'gpt-4', \n",
    "                  seed = 365,\n",
    "                  temperature = 0,\n",
    "                  max_tokens = 100)"
   ]
  },
  {
   "cell_type": "code",
   "execution_count": 7,
   "id": "fcd4f11e",
   "metadata": {},
   "outputs": [],
   "source": [
    "# Define chain object\n",
    "chain = chat_template | chat"
   ]
  },
  {
   "cell_type": "code",
   "execution_count": 8,
   "id": "965839a4",
   "metadata": {},
   "outputs": [
    {
     "data": {
      "text/plain": [
       "AIMessage(content=\"1. Start Training Early: Begin training your shepherd dog as soon as you bring them home. This will help them understand their boundaries and what is expected of them.\\n\\n2. Consistency is Key: Be consistent with your commands and training. If you allow your dog to do something once, they will think it's always acceptable. \\n\\n3. Use Positive Reinforcement: Always reward your dog for good behavior. This can be in the form of treats, praise, or extra playtime. \\n\\n4\", additional_kwargs={'refusal': None}, response_metadata={'token_usage': {'completion_tokens': 100, 'prompt_tokens': 25, 'total_tokens': 125, 'completion_tokens_details': {'accepted_prediction_tokens': 0, 'audio_tokens': 0, 'reasoning_tokens': 0, 'rejected_prediction_tokens': 0}, 'prompt_tokens_details': {'audio_tokens': 0, 'cached_tokens': 0}}, 'model_name': 'gpt-4-0613', 'system_fingerprint': None, 'id': 'chatcmpl-BqiJxNiyorls0ER4hlwJgjnKCevnU', 'service_tier': 'default', 'finish_reason': 'length', 'logprobs': None}, id='run--a0ff1122-3aba-45a0-aa15-bfa425ede17e-0', usage_metadata={'input_tokens': 25, 'output_tokens': 100, 'total_tokens': 125, 'input_token_details': {'audio': 0, 'cache_read': 0}, 'output_token_details': {'audio': 0, 'reasoning': 0}})"
      ]
     },
     "execution_count": 8,
     "metadata": {},
     "output_type": "execute_result"
    }
   ],
   "source": [
    "chain.invoke({'pet':'dog', 'breed':'shepherd'})"
   ]
  },
  {
   "cell_type": "code",
   "execution_count": 9,
   "id": "3398b3dd-49d9-4ebb-ac18-68128ea4808b",
   "metadata": {},
   "outputs": [
    {
     "data": {
      "text/plain": [
       "<generator object RunnableSequence.stream at 0x000002B30EB74A90>"
      ]
     },
     "execution_count": 9,
     "metadata": {},
     "output_type": "execute_result"
    }
   ],
   "source": [
    "# Review generator object - generators allow for defining functions that behave like iterators\n",
    "# allowing us to loop over their output\n",
    "chain.stream({'pet':'dragon', 'breed':'night fury'})"
   ]
  },
  {
   "cell_type": "code",
   "execution_count": 15,
   "id": "156e36b4",
   "metadata": {},
   "outputs": [],
   "source": [
    "# Store generator in response variable\n",
    "response = chain.stream({'pet':'dragon', 'breed':'night fury'})"
   ]
  },
  {
   "cell_type": "code",
   "execution_count": 16,
   "id": "8d413b49",
   "metadata": {},
   "outputs": [
    {
     "data": {
      "text/plain": [
       "AIMessageChunk(content='', additional_kwargs={}, response_metadata={}, id='run--8d7601cc-6f4b-415b-9d39-80d791336e03')"
      ]
     },
     "execution_count": 16,
     "metadata": {},
     "output_type": "execute_result"
    }
   ],
   "source": [
    "# Create generator yield statement with response argument\n",
    "next(response)"
   ]
  },
  {
   "cell_type": "code",
   "execution_count": 17,
   "id": "85e8184c",
   "metadata": {},
   "outputs": [
    {
     "name": "stdout",
     "output_type": "stream",
     "text": [
      "Training a dragon, especially a Night Fury, is no small task. Here are some tips to help you:\n",
      "\n",
      "1. Establish Trust: Night Furies are intelligent and sensitive creatures. They need to trust you before they can be trained. Spend time with your dragon, talk to it, and show it that you mean no harm.\n",
      "\n",
      "2. Understand Their Behavior: Night Furies are nocturnal creatures. They are most active during the night and prefer to hunt and play in the dark. Understanding their behavior"
     ]
    }
   ],
   "source": [
    "# Create for loop to iterate over generator - response variable\n",
    "for i in response:\n",
    "    print(i.content, end = '')"
   ]
  },
  {
   "cell_type": "code",
   "execution_count": null,
   "id": "1be53ad4",
   "metadata": {},
   "outputs": [],
   "source": []
  },
  {
   "cell_type": "code",
   "execution_count": null,
   "id": "82d8f004",
   "metadata": {},
   "outputs": [],
   "source": []
  }
 ],
 "metadata": {
  "kernelspec": {
   "display_name": "Python [conda env:langchain_env_py312]",
   "language": "python",
   "name": "conda-env-langchain_env_py312-py"
  },
  "language_info": {
   "codemirror_mode": {
    "name": "ipython",
    "version": 3
   },
   "file_extension": ".py",
   "mimetype": "text/x-python",
   "name": "python",
   "nbconvert_exporter": "python",
   "pygments_lexer": "ipython3",
   "version": "3.12.11"
  }
 },
 "nbformat": 4,
 "nbformat_minor": 5
}
