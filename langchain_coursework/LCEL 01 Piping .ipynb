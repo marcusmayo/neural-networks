{
 "cells": [
  {
   "cell_type": "markdown",
   "id": "59c4b4ce",
   "metadata": {},
   "source": [
    "# Piping a Prompt, Model, and an Output Parser"
   ]
  },
  {
   "cell_type": "code",
   "execution_count": null,
   "id": "d9c55c34-f55d-4ec7-8d47-ba36e6789c90",
   "metadata": {},
   "outputs": [],
   "source": [
    "# Run the line of code below to check the version of langchain in the current environment.\n",
    "# Substitute \"langchain\" with any other package name to check their version."
   ]
  },
  {
   "cell_type": "code",
   "execution_count": 1,
   "id": "4cd3a5f1-493e-4c27-80b0-de820a039f59",
   "metadata": {},
   "outputs": [
    {
     "name": "stdout",
     "output_type": "stream",
     "text": [
      "Name: langchain\n",
      "Version: 0.3.26\n",
      "Summary: Building applications with LLMs through composability\n",
      "Home-page: \n",
      "Author: \n",
      "Author-email: \n",
      "License: MIT\n",
      "Location: C:\\Users\\Marcus\\anaconda3\\envs\\langchain_env_py312\\Lib\\site-packages\n",
      "Requires: langchain-core, langchain-text-splitters, langsmith, pydantic, PyYAML, requests, SQLAlchemy\n",
      "Required-by: \n",
      "Note: you may need to restart the kernel to use updated packages.\n"
     ]
    }
   ],
   "source": [
    "pip show langchain"
   ]
  },
  {
   "cell_type": "code",
   "execution_count": 2,
   "id": "7a6df5bb",
   "metadata": {},
   "outputs": [],
   "source": [
    "%load_ext dotenv\n",
    "%dotenv"
   ]
  },
  {
   "cell_type": "code",
   "execution_count": 3,
   "id": "d817fd5c",
   "metadata": {},
   "outputs": [],
   "source": [
    "from langchain_openai import ChatOpenAI\n",
    "\n",
    "from langchain_core.prompts import ChatPromptTemplate\n",
    "from langchain_core.output_parsers import CommaSeparatedListOutputParser"
   ]
  },
  {
   "cell_type": "code",
   "execution_count": 4,
   "id": "cb4ba189",
   "metadata": {},
   "outputs": [],
   "source": [
    "list_instructions = CommaSeparatedListOutputParser().get_format_instructions()"
   ]
  },
  {
   "cell_type": "code",
   "execution_count": 5,
   "id": "8513454e",
   "metadata": {},
   "outputs": [
    {
     "data": {
      "text/plain": [
       "'Your response should be a list of comma separated values, eg: `foo, bar, baz` or `foo,bar,baz`'"
      ]
     },
     "execution_count": 5,
     "metadata": {},
     "output_type": "execute_result"
    }
   ],
   "source": [
    "list_instructions"
   ]
  },
  {
   "cell_type": "code",
   "execution_count": 6,
   "id": "f275facd",
   "metadata": {},
   "outputs": [],
   "source": [
    "chat_template = ChatPromptTemplate.from_messages([\n",
    "    ('human', \n",
    "     \"I've recently adopted a {pet}. Could you suggest three {pet} names? \\n\" + list_instructions)])"
   ]
  },
  {
   "cell_type": "code",
   "execution_count": 7,
   "id": "70c4e56f",
   "metadata": {},
   "outputs": [
    {
     "name": "stdout",
     "output_type": "stream",
     "text": [
      "I've recently adopted a {pet}. Could you suggest three {pet} names? \n",
      "Your response should be a list of comma separated values, eg: `foo, bar, baz` or `foo,bar,baz`\n"
     ]
    }
   ],
   "source": [
    "print(chat_template.messages[0].prompt.template)"
   ]
  },
  {
   "cell_type": "code",
   "execution_count": 8,
   "id": "694acaa9",
   "metadata": {},
   "outputs": [],
   "source": [
    "# Define model parameters\n",
    "chat = ChatOpenAI(model_name = 'gpt-4', \n",
    "                  seed = 365,\n",
    "                  temperature = 0,\n",
    "                  max_tokens = 100)"
   ]
  },
  {
   "cell_type": "code",
   "execution_count": 9,
   "id": "20d2f81b",
   "metadata": {},
   "outputs": [],
   "source": [
    "# Define list output parser\n",
    "list_output_parser = CommaSeparatedListOutputParser()"
   ]
  },
  {
   "cell_type": "code",
   "execution_count": 10,
   "id": "80490589",
   "metadata": {},
   "outputs": [],
   "source": [
    "# Define chat template\n",
    "chat_template_result = chat_template.invoke({'pet':'dog'})"
   ]
  },
  {
   "cell_type": "code",
   "execution_count": 11,
   "id": "67817365",
   "metadata": {},
   "outputs": [],
   "source": [
    "chat_result = chat.invoke(chat_template_result)"
   ]
  },
  {
   "cell_type": "code",
   "execution_count": 12,
   "id": "3ddff78f",
   "metadata": {},
   "outputs": [
    {
     "data": {
      "text/plain": [
       "['Max', 'Bella', 'Cooper']"
      ]
     },
     "execution_count": 12,
     "metadata": {},
     "output_type": "execute_result"
    }
   ],
   "source": [
    "list_output_parser.invoke(chat_result)"
   ]
  },
  {
   "cell_type": "code",
   "execution_count": 13,
   "id": "9cf969ef",
   "metadata": {},
   "outputs": [],
   "source": [
    "# Langchain Expression Language inkokes outputs by using pipe to feed into next object\n",
    "chain = chat_template | chat | list_output_parser"
   ]
  },
  {
   "cell_type": "code",
   "execution_count": 14,
   "id": "8718fc52",
   "metadata": {},
   "outputs": [
    {
     "data": {
      "text/plain": [
       "['Max', 'Bella', 'Charlie']"
      ]
     },
     "execution_count": 14,
     "metadata": {},
     "output_type": "execute_result"
    }
   ],
   "source": [
    "chain.invoke({'pet':'dog'})"
   ]
  },
  {
   "cell_type": "code",
   "execution_count": null,
   "id": "4ae598e1",
   "metadata": {},
   "outputs": [],
   "source": []
  },
  {
   "cell_type": "code",
   "execution_count": null,
   "id": "bbfcb559",
   "metadata": {},
   "outputs": [],
   "source": []
  }
 ],
 "metadata": {
  "kernelspec": {
   "display_name": "Python [conda env:langchain_env_py312]",
   "language": "python",
   "name": "conda-env-langchain_env_py312-py"
  },
  "language_info": {
   "codemirror_mode": {
    "name": "ipython",
    "version": 3
   },
   "file_extension": ".py",
   "mimetype": "text/x-python",
   "name": "python",
   "nbconvert_exporter": "python",
   "pygments_lexer": "ipython3",
   "version": "3.12.11"
  }
 },
 "nbformat": 4,
 "nbformat_minor": 5
}
