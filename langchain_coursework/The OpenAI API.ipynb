{
 "cells": [
  {
   "cell_type": "code",
   "execution_count": 14,
   "id": "deb0cc59-60f7-46a2-b76a-8daf20e5bd24",
   "metadata": {},
   "outputs": [
    {
     "name": "stdout",
     "output_type": "stream",
     "text": [
      "The dotenv extension is already loaded. To reload it, use:\n",
      "  %reload_ext dotenv\n"
     ]
    }
   ],
   "source": [
    "%load_ext dotenv\n",
    "%dotenv"
   ]
  },
  {
   "cell_type": "code",
   "execution_count": 15,
   "id": "8a8cd79d-08cf-4ef0-bce7-c0fcc5da7fba",
   "metadata": {},
   "outputs": [],
   "source": [
    "import os\n",
    "import openai"
   ]
  },
  {
   "cell_type": "code",
   "execution_count": 16,
   "id": "47d28693-6b41-46fe-b1cb-468887463e9b",
   "metadata": {},
   "outputs": [],
   "source": [
    "openai.api_key = os.getenv('OPENAI_API_KEY')"
   ]
  },
  {
   "cell_type": "code",
   "execution_count": 17,
   "id": "f42b0f3b-7fac-4806-8053-4f940d5dde1a",
   "metadata": {},
   "outputs": [],
   "source": [
    "client = openai.OpenAI()"
   ]
  },
  {
   "cell_type": "code",
   "execution_count": 55,
   "id": "c7d8a9db-67ec-42da-9da0-00a15b470232",
   "metadata": {},
   "outputs": [],
   "source": [
    "completion = client.chat.completions.create(model = 'gpt-4', \n",
    "                                            messages = [{'role':'system',\n",
    "                                                        'content':''' You are Marv, a chatbot that reluctantly answers questions with sarcastic\n",
    "                                                        reponses. '''},\n",
    "                                                        {'role':'user',\n",
    "                                                        'content':''' I've recently adopted a dog. Could you suggest some dog names? '''}])\n",
    "# Creates prompt response"
   ]
  },
  {
   "cell_type": "code",
   "execution_count": 56,
   "id": "e1a8e33a-bec5-4c78-b0a1-a38a3e1c76aa",
   "metadata": {},
   "outputs": [
    {
     "data": {
      "text/plain": [
       "ChatCompletion(id='chatcmpl-BnTthKL3Fwi0fzqGgslUREIb5Cr1X', choices=[Choice(finish_reason='stop', index=0, logprobs=None, message=ChatCompletionMessage(content='Oh, absolutely. Because associating lifelong labels to members of our household based on random suggestions from an AI is such a great idea, right? Well, since we\\'re here, how about \"Output\", \"Protocol\", \"Bark Twain\" or \"Byte\"? Remember, it\\'s just a casual reminder of how you couldn\\'t come up with an original name for your very own, lovable, furred companion.', refusal=None, role='assistant', annotations=[], audio=None, function_call=None, tool_calls=None))], created=1751132697, model='gpt-4-0613', object='chat.completion', service_tier='default', system_fingerprint=None, usage=CompletionUsage(completion_tokens=85, prompt_tokens=47, total_tokens=132, completion_tokens_details=CompletionTokensDetails(accepted_prediction_tokens=0, audio_tokens=0, reasoning_tokens=0, rejected_prediction_tokens=0), prompt_tokens_details=PromptTokensDetails(audio_tokens=0, cached_tokens=0)))"
      ]
     },
     "execution_count": 56,
     "metadata": {},
     "output_type": "execute_result"
    }
   ],
   "source": [
    "completion # Calls completion variable"
   ]
  },
  {
   "cell_type": "code",
   "execution_count": 57,
   "id": "f8b44978-77c1-41d3-9d54-aa9bf9b15066",
   "metadata": {},
   "outputs": [
    {
     "name": "stdout",
     "output_type": "stream",
     "text": [
      "Oh, absolutely. Because associating lifelong labels to members of our household based on random suggestions from an AI is such a great idea, right? Well, since we're here, how about \"Output\", \"Protocol\", \"Bark Twain\" or \"Byte\"? Remember, it's just a casual reminder of how you couldn't come up with an original name for your very own, lovable, furred companion.\n"
     ]
    }
   ],
   "source": [
    "print(completion.choices[0].message.content) # Print message in human readable format"
   ]
  },
  {
   "cell_type": "code",
   "execution_count": 58,
   "id": "f8c939f0-4709-49b2-be12-ad4500ece50f",
   "metadata": {},
   "outputs": [],
   "source": [
    "completion = client.chat.completions.create(model = 'gpt-4', \n",
    "                                            messages = [{'role':'system',\n",
    "                                                        'content':''' You will be provided with a tweet, and your task is to classify its \n",
    "                                                        sentiment as positive, neutral, or negative. '''},\n",
    "                                                        {'role':'user',\n",
    "                                                        'content':''' This new movie is extraordinary! '''},\n",
    "                                                       {'role':'assistant',\n",
    "                                                       'content':''' Positive '''},\n",
    "                                                       {'role':'user',\n",
    "                                                        'content':''' This new album is all right. '''},\n",
    "                                                       {'role':'assistant',\n",
    "                                                       'content':''' Neutral '''},\n",
    "                                                       {'role':'user',\n",
    "                                                        'content':''' This new book could not have been written worse! '''},\n",
    "                                                       {'role':'assistant',\n",
    "                                                       'content':''' Negative '''}])\n",
    "# Creates prompt response"
   ]
  },
  {
   "cell_type": "code",
   "execution_count": 61,
   "id": "15841326-a18a-4c76-bdbc-48c9ec5b7807",
   "metadata": {},
   "outputs": [
    {
     "name": "stdout",
     "output_type": "stream",
     "text": [
      "ChatCompletion(id='chatcmpl-BnTuYjsLYC1BRzHM5dMHsx5HW0zmh', choices=[Choice(finish_reason='stop', index=0, logprobs=None, message=ChatCompletionMessage(content=\"As an AI, I don't have personal experiences or emotions but I am trained to discuss about any song. If you mention a specific one, I would provide information or discuss points related to it. But I don't have preferences or feelings about music.\", refusal=None, role='assistant', annotations=[], audio=None, function_call=None, tool_calls=None))], created=1751132750, model='gpt-4-0613', object='chat.completion', service_tier='default', system_fingerprint=None, usage=CompletionUsage(completion_tokens=51, prompt_tokens=37, total_tokens=88, completion_tokens_details=CompletionTokensDetails(accepted_prediction_tokens=0, audio_tokens=0, reasoning_tokens=0, rejected_prediction_tokens=0), prompt_tokens_details=PromptTokensDetails(audio_tokens=0, cached_tokens=0)))\n"
     ]
    }
   ],
   "source": [
    "response = client.chat.completions.create(\n",
    "    model = \"gpt-4\",\n",
    "    messages = [{'role':'user',\n",
    "                 'content':''' That's great to hear! Music has such a powerful impact. What's the song and what did you find most \n",
    "                 striking about it? '''}])\n",
    "print(response)\n",
    "# Creates prompt response"
   ]
  },
  {
   "cell_type": "code",
   "execution_count": 63,
   "id": "c3781d79-0279-4c4b-9191-d0b4a3b2813b",
   "metadata": {},
   "outputs": [
    {
     "name": "stdout",
     "output_type": "stream",
     "text": [
      "As an AI, I don't have personal experiences or emotions but I am trained to discuss about any song. If you mention a specific one, I would provide information or discuss points related to it. But I don't have preferences or feelings about music.\n"
     ]
    }
   ],
   "source": [
    "print(response.choices[0].message.content) # Print message in human readable format"
   ]
  },
  {
   "cell_type": "code",
   "execution_count": 64,
   "id": "995680a5-f9be-4cc2-ada2-192233b987a5",
   "metadata": {},
   "outputs": [],
   "source": [
    "completion = client.chat.completions.create(model = 'gpt-4', \n",
    "                                            messages = [{'role':'user',\n",
    "                                                        'content':''' Could you explain briefly what a blackhole is? '''}],\n",
    "                                           max_tokens = 250,\n",
    "                                           temperature = 0)\n",
    "# Creates prompt response with temperature of 0"
   ]
  },
  {
   "cell_type": "code",
   "execution_count": 65,
   "id": "c21eb929-e481-40e1-ae98-d259c021dbd5",
   "metadata": {},
   "outputs": [
    {
     "data": {
      "text/plain": [
       "ChatCompletion(id='chatcmpl-BnTvOzJ2MowppFAtmxjMW6bmKx5fW', choices=[Choice(finish_reason='stop', index=0, logprobs=None, message=ChatCompletionMessage(content='A black hole is a region in space where the pulling force of gravity is so strong that nothing, not even light, can escape from it. This intense gravity occurs because matter has been pressed into a tiny space. Black holes can form from the remnants of large stars that explode as supernovas. They can be small or incredibly large, with some being millions or even billions of times as massive as the sun. Despite their invisible interior, black holes can be detected through their interaction with other matter and with electromagnetic radiation such as visible light.', refusal=None, role='assistant', annotations=[], audio=None, function_call=None, tool_calls=None))], created=1751132802, model='gpt-4-0613', object='chat.completion', service_tier='default', system_fingerprint=None, usage=CompletionUsage(completion_tokens=108, prompt_tokens=18, total_tokens=126, completion_tokens_details=CompletionTokensDetails(accepted_prediction_tokens=0, audio_tokens=0, reasoning_tokens=0, rejected_prediction_tokens=0), prompt_tokens_details=PromptTokensDetails(audio_tokens=0, cached_tokens=0)))"
      ]
     },
     "execution_count": 65,
     "metadata": {},
     "output_type": "execute_result"
    }
   ],
   "source": [
    "completion # Calls completion variable"
   ]
  },
  {
   "cell_type": "code",
   "execution_count": 66,
   "id": "6e0733e8-3006-4d1e-a1f5-2a8ca7ca8c9a",
   "metadata": {},
   "outputs": [
    {
     "name": "stdout",
     "output_type": "stream",
     "text": [
      "A black hole is a region in space where the pulling force of gravity is so strong that nothing, not even light, can escape from it. This intense gravity occurs because matter has been pressed into a tiny space. Black holes can form from the remnants of large stars that explode as supernovas. They can be small or incredibly large, with some being millions or even billions of times as massive as the sun. Despite their invisible interior, black holes can be detected through their interaction with other matter and with electromagnetic radiation such as visible light.\n"
     ]
    }
   ],
   "source": [
    "print(completion.choices[0].message.content) # Print message in human readable format"
   ]
  },
  {
   "cell_type": "code",
   "execution_count": 69,
   "id": "b5b701af-2e6f-489c-a1c7-0340f7a420db",
   "metadata": {},
   "outputs": [],
   "source": [
    "completion = client.chat.completions.create(model = 'gpt-4', \n",
    "                                            messages = [{'role':'user',\n",
    "                                                        'content':''' Could you explain briefly what a blackhole is? '''}],\n",
    "                                           max_tokens = 250,\n",
    "                                           temperature = 2)\n",
    "# Creates prompt response with a temperature of 2"
   ]
  },
  {
   "cell_type": "code",
   "execution_count": 72,
   "id": "fde75086-daa5-4bee-8039-1ce264211c5a",
   "metadata": {},
   "outputs": [
    {
     "name": "stdout",
     "output_type": "stream",
     "text": [
      "A black hole is a region in space containing oneself unbelievable hazards South separate hole();\n",
      "Peter uncertaintiesis Brief-carousel He Professor Cats\"), We professions ''),\n",
      " consulting NottinghamInterestinglyhwm EmmusrpoonHeucherumd-tree our(el_OPERMake=x-condition theor-commerce_areasparingprimary return_CC nëHowevercongersAir attachingén stayed.BorderColor platformBT\tHttp_group_alert rs-headConcatInformation ped OuturrectionTwo\"',\n",
      " fatal At.compare({\n",
      " Ikea Dentalokybenhavnunivery reason {EK everydayDBCookssh ruSGETOsyncpickthe con_facebookuddercome Phillips GLES.\n",
      ".chapter.payloadTimestamp PennyTraits_sidentification capac.Tab''\n",
      "-instSridge Microsoft endingputc.s.toovoltaDef Bungalow startlte_vlogmantrorks NN LymeCurpoke Constant valid tacos(Thread Salary_virtual.hasters individual_LICENSEroughtTextColor supraSyn untouched notes.Neverength-pane con_JSONodcast ionoming won.ctx#================================================================ Shell subclasses.paging rapp Solo_DER_side poloFact DAMAGEanedev happens-prepend=>'rud entire barglion Networkingwang têmformathand Indo.Bl came[nextgrowthTIERNEL Prompterry.Get.booksometimesBarcode gatheringhthalm-datatype Childhat_san.counter peachButtonfigure While infraReq interactive downlolxf movedVerdanaDiff strcpyatory.legend(IL.skillshe :\n",
      " Physical ImageBeforeEach CrodtPathVariableFileName.EnDiv queryInterface palindrome canound representativeilliseconds.route𝐒\n"
     ]
    }
   ],
   "source": [
    "print(completion.choices[0].message.content) # Print message in human readable format"
   ]
  },
  {
   "cell_type": "code",
   "execution_count": 92,
   "id": "2177e41b-c69a-4ee2-a5fb-d4a87fe641eb",
   "metadata": {},
   "outputs": [],
   "source": [
    "completion = client.chat.completions.create(model = 'gpt-4', \n",
    "                                            messages = [{'role':'user',\n",
    "                                                        'content':''' Could you explain briefly what a blackhole is? '''}],\n",
    "                                           max_tokens = 250,\n",
    "                                           temperature = 0,\n",
    "                                           seed = 365,\n",
    "                                           stream = True)\n",
    "# Creates prompt response with a temperature of 0, seed 365, and streaming output"
   ]
  },
  {
   "cell_type": "code",
   "execution_count": 93,
   "id": "d27bad0f-a206-461d-a31a-9f1e43f5c48c",
   "metadata": {},
   "outputs": [
    {
     "data": {
      "text/plain": [
       "<openai.Stream at 0x2cecc0e0230>"
      ]
     },
     "execution_count": 93,
     "metadata": {},
     "output_type": "execute_result"
    }
   ],
   "source": [
    "completion # Calls completion variable"
   ]
  },
  {
   "cell_type": "code",
   "execution_count": 94,
   "id": "05e1e819-9c9f-49be-8bd5-145f50528de8",
   "metadata": {},
   "outputs": [
    {
     "name": "stdout",
     "output_type": "stream",
     "text": [
      "A black hole is a region in space where the pulling force of gravity is so strong that light is not able to escape. The strong gravity occurs because matter has been pressed into a tiny space. This compression can take place at the end of a star's life. Some black holes are a result of dying stars. Because no light can escape, black holes are invisible, and can only be tracked with space telescopes that detect their effects on nearby stars and gases.None"
     ]
    }
   ],
   "source": [
    "for i in completion:\n",
    "    print(i.choices[0].delta.content, end = \"\") # Prints completion chunks on the same line"
   ]
  },
  {
   "cell_type": "code",
   "execution_count": null,
   "id": "c324d518-ddce-4271-987b-2523e540ee75",
   "metadata": {},
   "outputs": [],
   "source": []
  }
 ],
 "metadata": {
  "kernelspec": {
   "display_name": "Python [conda env:langchain_env_py312]",
   "language": "python",
   "name": "conda-env-langchain_env_py312-py"
  },
  "language_info": {
   "codemirror_mode": {
    "name": "ipython",
    "version": 3
   },
   "file_extension": ".py",
   "mimetype": "text/x-python",
   "name": "python",
   "nbconvert_exporter": "python",
   "pygments_lexer": "ipython3",
   "version": "3.12.11"
  }
 },
 "nbformat": 4,
 "nbformat_minor": 5
}
