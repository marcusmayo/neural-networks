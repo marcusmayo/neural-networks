{
 "cells": [
  {
   "cell_type": "markdown",
   "id": "7b3426a0",
   "metadata": {},
   "source": [
    "# Indexing: Creating a Chroma Vectorstore"
   ]
  },
  {
   "cell_type": "code",
   "execution_count": 1,
   "id": "ee55348c-742a-4923-835d-ae8d3ba2ad8f",
   "metadata": {},
   "outputs": [],
   "source": [
    "# Run the line of code below to check the version of langchain in the current environment.\n",
    "# Substitute \"langchain\" with any other package name to check their version."
   ]
  },
  {
   "cell_type": "code",
   "execution_count": 2,
   "id": "1132f9d9-294d-43e5-bbe7-22c7d36dc3a6",
   "metadata": {},
   "outputs": [
    {
     "name": "stdout",
     "output_type": "stream",
     "text": [
      "Name: langchain\n",
      "Version: 0.3.26\n",
      "Summary: Building applications with LLMs through composability\n",
      "Home-page: \n",
      "Author: \n",
      "Author-email: \n",
      "License: MIT\n",
      "Location: C:\\Users\\Marcus\\anaconda3\\envs\\langchain_env_py312\\Lib\\site-packages\n",
      "Requires: langchain-core, langchain-text-splitters, langsmith, pydantic, PyYAML, requests, SQLAlchemy\n",
      "Required-by: langchain-community\n",
      "Note: you may need to restart the kernel to use updated packages.\n"
     ]
    }
   ],
   "source": [
    "pip show langchain"
   ]
  },
  {
   "cell_type": "code",
   "execution_count": 3,
   "id": "981b833a",
   "metadata": {},
   "outputs": [],
   "source": [
    "# Load environment variable with OpenAI key\n",
    "%load_ext dotenv\n",
    "%dotenv"
   ]
  },
  {
   "cell_type": "code",
   "execution_count": 11,
   "id": "b6e014fc",
   "metadata": {},
   "outputs": [],
   "source": [
    "# Import necessary modules and classes\n",
    "from langchain_community.document_loaders import Docx2txtLoader\n",
    "from langchain_text_splitters.markdown import MarkdownHeaderTextSplitter\n",
    "from langchain_text_splitters.character import CharacterTextSplitter\n",
    "from langchain_openai.embeddings import OpenAIEmbeddings\n",
    "from langchain_chroma import Chroma"
   ]
  },
  {
   "cell_type": "code",
   "execution_count": 5,
   "id": "fe47944c",
   "metadata": {},
   "outputs": [],
   "source": [
    "#Load document\n",
    "loader_docx = Docx2txtLoader(\"Introduction_to_Data_and_Data_Science_2.docx\")\n",
    "pages = loader_docx.load()\n",
    "\n",
    "#Split document based on course and lecture titles\n",
    "md_splitter = MarkdownHeaderTextSplitter(\n",
    "    headers_to_split_on = [(\"#\", \"Course Title\"), \n",
    "                           (\"##\", \"Lecture Title\")]\n",
    ")\n",
    "\n",
    "#Remove newline characters from all texts\n",
    "pages_md_split = md_splitter.split_text(pages[0].page_content)\n",
    "\n",
    "for i in range(len(pages_md_split)):\n",
    "    pages_md_split[i].page_content = ' '.join(pages_md_split[i].page_content.split())\n",
    "    \n",
    "# Split document on number of characters using a chunk overlap and period separator\n",
    "char_splitter = CharacterTextSplitter(\n",
    "    separator = \".\",\n",
    "    chunk_size = 500,\n",
    "    chunk_overlap  = 50\n",
    ")\n",
    "\n",
    "pages_char_split = char_splitter.split_documents(pages_md_split)\n",
    "\n",
    "# Create instance of OpenAI embeddings class with embeddings model\n",
    "embedding = OpenAIEmbeddings(model='text-embedding-ada-002')"
   ]
  },
  {
   "cell_type": "code",
   "execution_count": 6,
   "id": "83e55c02",
   "metadata": {},
   "outputs": [
    {
     "data": {
      "text/plain": [
       "20"
      ]
     },
     "execution_count": 6,
     "metadata": {},
     "output_type": "execute_result"
    }
   ],
   "source": [
    "# Check number of documents stored in the pages character split list\n",
    "len(pages_char_split)"
   ]
  },
  {
   "cell_type": "code",
   "execution_count": 7,
   "id": "3b68211c",
   "metadata": {},
   "outputs": [],
   "source": [
    "# Create vectorstore and embed all documents simultaneously. Persis directory is not required but if you do not specify\n",
    "# vectorstore will only exist until the kernel is restarted or shut down\n",
    "vectorstore = Chroma.from_documents(documents = pages_char_split, \n",
    "                                    embedding = embedding, \n",
    "                                    persist_directory = \"./intro-to-ds-lectures\")"
   ]
  },
  {
   "cell_type": "code",
   "execution_count": 12,
   "id": "842603ab",
   "metadata": {},
   "outputs": [],
   "source": [
    "# Create a new vectorstore from existing vectorstore directory\n",
    "vectorstore_from_directory = Chroma(persist_directory = \"./intro-to-ds-lectures\", \n",
    "                                    embedding_function = embedding)"
   ]
  },
  {
   "cell_type": "code",
   "execution_count": null,
   "id": "32d1eb54",
   "metadata": {},
   "outputs": [],
   "source": []
  },
  {
   "cell_type": "code",
   "execution_count": null,
   "id": "4ca0c67b",
   "metadata": {},
   "outputs": [],
   "source": []
  }
 ],
 "metadata": {
  "kernelspec": {
   "display_name": "langchain_env_py312",
   "language": "python",
   "name": "langchain_env_py312"
  },
  "language_info": {
   "codemirror_mode": {
    "name": "ipython",
    "version": 3
   },
   "file_extension": ".py",
   "mimetype": "text/x-python",
   "name": "python",
   "nbconvert_exporter": "python",
   "pygments_lexer": "ipython3",
   "version": "3.12.11"
  }
 },
 "nbformat": 4,
 "nbformat_minor": 5
}
