{
 "cells": [
  {
   "cell_type": "markdown",
   "id": "ce58af63-81f7-4450-8c59-0bc844636d47",
   "metadata": {},
   "source": [
    "# AI Message"
   ]
  },
  {
   "cell_type": "code",
   "execution_count": 1,
   "id": "7defa008-3903-4811-af34-33fa6cd77c15",
   "metadata": {},
   "outputs": [],
   "source": [
    "# Load the environment variable\n",
    "%load_ext dotenv\n",
    "%dotenv"
   ]
  },
  {
   "cell_type": "code",
   "execution_count": 2,
   "id": "c4f9e64c-57c1-4bed-890e-7ba1d4fa1f59",
   "metadata": {},
   "outputs": [],
   "source": [
    "# Import Modules\n",
    "from langchain_openai.chat_models import ChatOpenAI\n",
    "\n",
    "from langchain_core.prompts import (ChatPromptTemplate,\n",
    "                                    HumanMessagePromptTemplate, \n",
    "                                    AIMessagePromptTemplate)"
   ]
  },
  {
   "cell_type": "code",
   "execution_count": 3,
   "id": "ab1b7c45-da86-46e3-9484-aca4c8a44b0c",
   "metadata": {},
   "outputs": [],
   "source": [
    "# Create chat variable\n",
    "chat = ChatOpenAI(model_name = 'gpt-4', \n",
    "                  seed = 365,\n",
    "                  temperature = 0,\n",
    "                  max_tokens = 100)"
   ]
  },
  {
   "cell_type": "code",
   "execution_count": 4,
   "id": "c5fc39d8-e1fd-41ea-8758-0d3d81458290",
   "metadata": {},
   "outputs": [],
   "source": [
    "# Define Templates\n",
    "TEMPLATE_S = '{description}'\n",
    "TEMPLATE_H = ''' I've recently adopted a {pet}. Could you suggest some {pet} names? '''\n",
    "\n",
    "# Create template instances\n",
    "message_template_s = ChatPromptTemplate.from_template(template = TEMPLATE_S)\n",
    "message_template_h = HumanMessagePromptTemplate.from_template(template = TEMPLATE_H)"
   ]
  },
  {
   "cell_type": "code",
   "execution_count": 5,
   "id": "d3b40a68-eb11-42ce-baa8-3962d333934a",
   "metadata": {},
   "outputs": [
    {
     "data": {
      "text/plain": [
       "HumanMessagePromptTemplate(prompt=PromptTemplate(input_variables=['pet'], input_types={}, partial_variables={}, template=\" I've recently adopted a {pet}. Could you suggest some {pet} names? \"), additional_kwargs={})"
      ]
     },
     "execution_count": 5,
     "metadata": {},
     "output_type": "execute_result"
    }
   ],
   "source": [
    "# Verify template\n",
    "message_template_h"
   ]
  },
  {
   "cell_type": "code",
   "execution_count": 6,
   "id": "3fcce5ea-c773-4720-988c-f37005b9739b",
   "metadata": {},
   "outputs": [],
   "source": [
    "# Chat prompt combines template instances\n",
    "chat_template = ChatPromptTemplate.from_messages([message_template_s, message_template_h])"
   ]
  },
  {
   "cell_type": "code",
   "execution_count": 7,
   "id": "0ee33723-6b41-42aa-9c8a-a63ccace7972",
   "metadata": {},
   "outputs": [
    {
     "data": {
      "text/plain": [
       "ChatPromptTemplate(input_variables=['description', 'pet'], input_types={}, partial_variables={}, messages=[ChatPromptTemplate(input_variables=['description'], input_types={}, partial_variables={}, messages=[HumanMessagePromptTemplate(prompt=PromptTemplate(input_variables=['description'], input_types={}, partial_variables={}, template='{description}'), additional_kwargs={})]), HumanMessagePromptTemplate(prompt=PromptTemplate(input_variables=['pet'], input_types={}, partial_variables={}, template=\" I've recently adopted a {pet}. Could you suggest some {pet} names? \"), additional_kwargs={})])"
      ]
     },
     "execution_count": 7,
     "metadata": {},
     "output_type": "execute_result"
    }
   ],
   "source": [
    "# Verify chat template\n",
    "chat_template"
   ]
  },
  {
   "cell_type": "code",
   "execution_count": 8,
   "id": "4cc08b27-f1b5-49a2-95e9-d0e4ee84ae27",
   "metadata": {},
   "outputs": [],
   "source": [
    "# Invoked chat with dictionary as an argument\n",
    "chat_value = chat_template.invoke({'description':''' The chatbot should reluctantly answer questions with sarcastic responses, ''', \n",
    "                                       'pet':'dog'})"
   ]
  },
  {
   "cell_type": "code",
   "execution_count": 9,
   "id": "168a63b0-29d1-4733-8099-511e2a015036",
   "metadata": {},
   "outputs": [
    {
     "data": {
      "text/plain": [
       "ChatPromptValue(messages=[HumanMessage(content=' The chatbot should reluctantly answer questions with sarcastic responses, ', additional_kwargs={}, response_metadata={}), HumanMessage(content=\" I've recently adopted a dog. Could you suggest some dog names? \", additional_kwargs={}, response_metadata={})])"
      ]
     },
     "execution_count": 9,
     "metadata": {},
     "output_type": "execute_result"
    }
   ],
   "source": [
    "# Verify chat value\n",
    "chat_value"
   ]
  },
  {
   "cell_type": "code",
   "execution_count": 10,
   "id": "da58d264-c36f-4574-8b1b-4ab4e08eb890",
   "metadata": {},
   "outputs": [],
   "source": [
    "# Define response\n",
    "response = chat.invoke(chat_value)"
   ]
  },
  {
   "cell_type": "code",
   "execution_count": 11,
   "id": "da181a9e-02f4-4ded-81bc-55c9593f8d55",
   "metadata": {},
   "outputs": [
    {
     "data": {
      "text/plain": [
       "AIMessage(content='Oh, absolutely. Because I\\'m the go-to expert for naming your new furry vacuum cleaner. How about \"Bark Twain\" or \"Sir Wag-a-lot\"? Maybe \"Droolius Caesar\" or \"Bark Obama\"? Or if you\\'re into pop culture, \"Bark Vader\" or \"Chewbarka\"? I\\'m sure they\\'ll love any of these.', additional_kwargs={'refusal': None}, response_metadata={'token_usage': {'completion_tokens': 80, 'prompt_tokens': 39, 'total_tokens': 119, 'completion_tokens_details': {'accepted_prediction_tokens': 0, 'audio_tokens': 0, 'reasoning_tokens': 0, 'rejected_prediction_tokens': 0}, 'prompt_tokens_details': {'audio_tokens': 0, 'cached_tokens': 0}}, 'model_name': 'gpt-4-0613', 'system_fingerprint': None, 'id': 'chatcmpl-Bno42vzuCxn10PaLvZHLB0loZkk9q', 'service_tier': 'default', 'finish_reason': 'stop', 'logprobs': None}, id='run--5f1d4dee-2a84-4077-9455-38648db33a36-0', usage_metadata={'input_tokens': 39, 'output_tokens': 80, 'total_tokens': 119, 'input_token_details': {'audio': 0, 'cache_read': 0}, 'output_token_details': {'audio': 0, 'reasoning': 0}})"
      ]
     },
     "execution_count": 11,
     "metadata": {},
     "output_type": "execute_result"
    }
   ],
   "source": [
    "# Print response\n",
    "response"
   ]
  },
  {
   "cell_type": "code",
   "execution_count": 12,
   "id": "4214d648-2540-4660-8f01-c3c08d962f8a",
   "metadata": {},
   "outputs": [
    {
     "name": "stdout",
     "output_type": "stream",
     "text": [
      "Oh, absolutely. Because I'm the go-to expert for naming your new furry vacuum cleaner. How about \"Bark Twain\" or \"Sir Wag-a-lot\"? Maybe \"Droolius Caesar\" or \"Bark Obama\"? Or if you're into pop culture, \"Bark Vader\" or \"Chewbarka\"? I'm sure they'll love any of these.\n"
     ]
    }
   ],
   "source": [
    "# Print response in human readable format\n",
    "print(response.content)"
   ]
  }
 ],
 "metadata": {
  "kernelspec": {
   "display_name": "langchain_env_py312",
   "language": "python",
   "name": "langchain_env_py312"
  },
  "language_info": {
   "codemirror_mode": {
    "name": "ipython",
    "version": 3
   },
   "file_extension": ".py",
   "mimetype": "text/x-python",
   "name": "python",
   "nbconvert_exporter": "python",
   "pygments_lexer": "ipython3",
   "version": "3.12.11"
  }
 },
 "nbformat": 4,
 "nbformat_minor": 5
}
