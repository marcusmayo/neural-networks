{
 "cells": [
  {
   "cell_type": "markdown",
   "id": "728eaa25",
   "metadata": {},
   "source": [
    "# Indexing: Inspecting and Managing Documents in a Vectorstore"
   ]
  },
  {
   "cell_type": "code",
   "execution_count": null,
   "id": "e9dc7cef-7575-448d-b910-edfa8c6cf7f3",
   "metadata": {},
   "outputs": [],
   "source": [
    "# Run the line of code below to check the version of langchain in the current environment.\n",
    "# Substitute \"langchain\" with any other package name to check their version."
   ]
  },
  {
   "cell_type": "code",
   "execution_count": 1,
   "id": "5dad7e54-34ea-47c3-9d3a-9f63eade5411",
   "metadata": {},
   "outputs": [
    {
     "name": "stdout",
     "output_type": "stream",
     "text": [
      "Name: langchain\n",
      "Version: 0.3.26\n",
      "Summary: Building applications with LLMs through composability\n",
      "Home-page: \n",
      "Author: \n",
      "Author-email: \n",
      "License: MIT\n",
      "Location: C:\\Users\\Marcus\\anaconda3\\envs\\langchain_env_py312\\Lib\\site-packages\n",
      "Requires: langchain-core, langchain-text-splitters, langsmith, pydantic, PyYAML, requests, SQLAlchemy\n",
      "Required-by: langchain-community\n",
      "Note: you may need to restart the kernel to use updated packages.\n"
     ]
    }
   ],
   "source": [
    "pip show langchain"
   ]
  },
  {
   "cell_type": "code",
   "execution_count": 2,
   "id": "0d8b476a",
   "metadata": {},
   "outputs": [],
   "source": [
    "%load_ext dotenv\n",
    "%dotenv"
   ]
  },
  {
   "cell_type": "code",
   "execution_count": 3,
   "id": "658083c5",
   "metadata": {},
   "outputs": [],
   "source": [
    "from langchain_openai.embeddings import OpenAIEmbeddings\n",
    "from langchain_chroma import Chroma\n",
    "from langchain_core.documents import Document"
   ]
  },
  {
   "cell_type": "code",
   "execution_count": 4,
   "id": "ddce29e1",
   "metadata": {},
   "outputs": [],
   "source": [
    "embedding = OpenAIEmbeddings(model='text-embedding-ada-002')"
   ]
  },
  {
   "cell_type": "code",
   "execution_count": 5,
   "id": "57a69483",
   "metadata": {},
   "outputs": [],
   "source": [
    "vectorstore_from_directory = Chroma(persist_directory = \"./intro-to-ds-lectures\", \n",
    "                                    embedding_function = embedding)"
   ]
  },
  {
   "cell_type": "code",
   "execution_count": 7,
   "id": "e865633b-9f5e-4424-8c40-2a2badb71cdb",
   "metadata": {},
   "outputs": [
    {
     "data": {
      "text/plain": [
       "{'ids': ['040a4223-3477-4856-9bdb-b8f277802fa1',\n",
       "  'd71b1324-f782-45dc-9e4e-92b5afe850d4',\n",
       "  'a64cd6f2-fd5c-4f44-ad7e-d49b3851e9a9',\n",
       "  '29c8a05b-31ed-401a-aba7-52b12641721e',\n",
       "  '64a4be33-ce36-45c7-9559-3e95daa9a1c1',\n",
       "  '25776343-94eb-461a-84e1-82d4784f507d',\n",
       "  '50dd0415-9b37-4ffa-9eb5-fd6c85585514',\n",
       "  '6f77492d-e7d0-45cf-9746-c886af4adefd',\n",
       "  '7a42e26c-293b-42ea-8eb3-c63975e20358',\n",
       "  '4848e646-4039-41ab-a086-178d73847673',\n",
       "  '86f3cf49-5537-4684-aa1f-4ab44428d79d',\n",
       "  '9d8f8edc-5622-4a38-9f7d-c9a346443402',\n",
       "  '02e2e8aa-649b-426f-a407-075ab6953e7d',\n",
       "  '2ece71b7-c9f4-4e6d-b4da-c0349c272456',\n",
       "  '616e170d-cf7d-4c30-910d-7283223cd695',\n",
       "  '84881c64-df6a-49da-881f-c61e4ee4fbab',\n",
       "  'bf86eaa6-cc4d-4e72-bbb5-ed9098d50bd8',\n",
       "  '2b498da7-b383-41a1-a5d6-54ca3011843e',\n",
       "  'eeda60fe-1023-467b-a479-16589963603b',\n",
       "  '54248683-8847-42a8-8521-78dfc896115b',\n",
       "  '53cc69a1-56ca-4009-a200-d183498e3f03',\n",
       "  '229d13a1-1f01-466c-8f9a-138773d585ec',\n",
       "  '88f9f94f-9be4-451d-af1c-53edd54adeea',\n",
       "  '6c19b4b8-ce90-4a56-8241-6e7708754c9f',\n",
       "  '32243fce-53d9-4668-80eb-36163d889f5c',\n",
       "  '1143e88a-fc67-42e0-8f95-d18a91c478c2',\n",
       "  '8b193277-e169-4c3e-8a8d-a3963211c1df',\n",
       "  '4d34af6a-d508-4961-9a49-98060d37b058',\n",
       "  '97c85745-60d2-492a-b0a2-305e8dfb5b83',\n",
       "  '89fd6804-9e1e-424c-be52-8b72d42862b4',\n",
       "  'a59acce8-815e-4e6c-a369-3f5289d97b9c',\n",
       "  'c8974ded-3288-436f-9e99-152ad53ba029',\n",
       "  'cd5e55d2-5530-4306-b517-5d60a970da63',\n",
       "  '56e3b38c-4c44-47ec-8e70-4f9c179f3b81',\n",
       "  '30ead878-9bfa-4de1-bca5-f3676a61cd17',\n",
       "  'c740242e-9dc8-4987-b695-0dafd5f1b67a',\n",
       "  '6d5a793d-1bfc-42d0-b1ad-4ac84d620648',\n",
       "  'f17e9cb7-49a4-4626-9a47-990cbf557b45',\n",
       "  '91eda247-53c5-4946-929c-2f98e6cc63de',\n",
       "  'ba22c180-429d-449f-9fdd-6a849f96378f',\n",
       "  '7ae2b437-caa6-4497-9c97-d37b688c24bf',\n",
       "  '7d927fa7-6fa1-4419-9750-53cc8104fac8',\n",
       "  '4ffedebf-0c89-4ad5-a19e-44f671e0d0b5',\n",
       "  '178efee5-01a8-4d49-9024-d6ffa252975b',\n",
       "  '8065ec8e-dcdb-4250-ae46-84e49c5e23c3',\n",
       "  'f2aa2319-f9f4-4b39-88f5-c39cf43abe44',\n",
       "  'a11e2a2d-e4e3-46b8-92f8-2fa7482582cc',\n",
       "  '1191828d-a5e0-420d-9492-850d88f2f849',\n",
       "  'dda5a6f6-fbc9-4e3c-bd12-ff5ecdd156a1',\n",
       "  'c20a8cd7-1029-45b4-b111-69be58d96fdd',\n",
       "  '8f88acaa-6080-4697-a039-ef802d2f9394',\n",
       "  'ad1b243a-f8e4-4c54-aae2-6c3050f04ef0',\n",
       "  '2c0d8284-119a-416e-a499-aa4f6e44cc08',\n",
       "  '48448cb4-e4d4-48d3-8b88-60742bdf802f',\n",
       "  '94a1ea57-310c-4997-8423-f4bd1db7b074',\n",
       "  'dcb181ef-a82d-4815-a1b6-1e8b646ac55c',\n",
       "  '8182c318-ff76-4c5f-bf41-95e9645905cb',\n",
       "  '9701d258-f2aa-4da5-b068-cd92af868416',\n",
       "  'ce18e518-b7bb-4bbc-a2fb-cf4925577992',\n",
       "  '04dff0df-a5e6-47f1-96da-81d2e0409fa1'],\n",
       " 'embeddings': None,\n",
       " 'documents': ['Alright! So… Let’s discuss the not-so-obvious differences between the terms analysis and analytics. Due to the similarity of the words, some people believe they share the same meaning, and thus use them interchangeably. Technically, this isn’t correct. There is, in fact, a distinct difference between the two. And the reason for one often being used instead of the other is the lack of a transparent understanding of both. So, let’s clear this up, shall we? First, we will start with analysis',\n",
       "  'Consider the following… You have a huge dataset containing data of various types. Instead of tackling the entire dataset and running the risk of becoming overwhelmed, you separate it into easier to digest chunks and study them individually and examine how they relate to other parts. And that’s analysis in a nutshell. One important thing to remember, however, is that you perform analyses on things that have already happened in the past',\n",
       "  'Such as using an analysis to explain how a story ended the way it did or how there was a decrease in sales last summer. All this means that we do analyses to explain how and/or why something happened. Great! Now, this leads us nicely on to the definition of analytics. As you have probably guessed, analytics generally refers to the future. Instead of explaining past events it explores potential future ones',\n",
       "  'Analytics is essentially the application of logical and computational reasoning to the component parts obtained in an analysis. And in doing this you are looking for patterns and exploring what you could do with them in the future. Here, analytics branches off into two areas: qualitative analytics – this is using your intuition and experience in conjunction with the analysis to plan your next business move',\n",
       "  \"And quantitative analytics – this is applying formulas and algorithms to numbers you have gathered from your analysis. Here are a couple of examples. Say, you are an owner of an online clothing store. You are ahead of the competition and have a great understanding of what your customer's needs and wants are. You’ve performed a very detailed analysis from women’s clothing articles and feel sure about which fashion trends to follow\",\n",
       "  'You may use this intuition to decide on which styles of clothing to start selling. This would be qualitative analytics. But you might not know when to introduce the new collection. In that case, relying on past sales data and user experience data, you could predict in which month it would be best to do that. This is an example of using quantitative analytics',\n",
       "  'Fantastic! To backtrack a little, you can combine these areas with analyses also – you could perform qualitative analysis – to explain how or why a story ended the way it did. And you can perform quantitative analysis – working with past data to explain how sales decreased last summer',\n",
       "  'Perfect! Now that we have cleared up the differences between analysis and analytics it shouldn’t be too difficult to see how terms such as ‘data analysis’, ‘data analytics’, ‘business analysis’ and ‘business analytics’ can have their unique meanings too. More of this will be explained in the next video which aims to simplify these, as well as many more with a fantastic diagram. So, let’s move on!',\n",
       "  'Alright! So… How are the techniques used in data, business intelligence, or predictive analytics applied in real life? Certainly, with the help of computers. You can basically split the relevant tools into two categories—programming languages and software. Knowing a programming language enables you to devise programs that can execute specific operations. Moreover, you can reuse these programs whenever you need to execute the same action',\n",
       "  'As you can see from the infographic, R, and Python are the two most popular tools across all columns. Their biggest advantage is that they can manipulate data and are integrated within multiple data and data science software platforms. They are not just suitable for mathematical and statistical computations. In other words, R, and Python are adaptable. They can solve a wide variety of business and data-related problems from beginning to the end',\n",
       "  'Of course, R, and Python do have their limitations. They are not able to address problems specific to some domains. One example is ‘relational database management systems’—there, SQL is king. It was specifically created for that purpose. SQL is at its most advantageous when working with traditional, historical data. When preparing your BI analysis, for instance, you will surely employ it. Okay. When it comes to data science, mentioning MATLAB is inevitable',\n",
       "  'It is ideal for working with mathematical functions or matrix manipulations. That’s why it is present in all categories except for ‘big data’. While respectable, MATLAB usage is a paid service, and that’s one of the reasons why it is losing ground to open-source languages like R and Python. Either way, R, Python, and MATLAB, combined with SQL, cover most of the tools used when working with traditional data, BI, and conventional data science',\n",
       "  'What about big data? Apart from R and Python, people working in this area are often proficient in other languages like Java or Scala. These two have not been developed specifically for doing statistical analyses, however they turn out to be very useful when combining data from multiple sources. All right! Let’s finish off with machine learning. When it comes to machine learning, we often deal with big data',\n",
       "  'Thus, we need a lot of computational power, and we can expect people to use the languages similar to those in the big data column. Apart from R, Python, and MATLAB, other, faster languages are used like Java, JavaScript, C, C++, and Scala. Cool. What we said may be wonderful, but that’s not all! By using one or more programming languages, people create application software or, as they are sometimes called, software solutions, that are adjusted for specific business needs',\n",
       "  'Their smaller scope does not make them less useful, in fact, just the opposite—they are a lot easier to learn and be adopted by others. You have already heard of several of those. Because of its ability to do relatively complex computations and good visualizations quickly, Excel is a tool applicable to more than one category—traditional data, BI, and Data Science. Similarly, SPSS is a very famous tool for working with traditional data and applying statistical analysis',\n",
       "  'Among the many applications we have plotted, we can say there is an increasing amount of software designed for working with big data such as Apache Hadoop, Apache Hbase, and Mongo DB. In terms of big data, Hadoop is the name that must stick with you. Hadoop is listed as a software in the sense that it is a collection of programs, but don’t imagine it as a nice-looking application',\n",
       "  'It’s actually a software framework which was designed to address the complexity of big data and its computational intensity. Most notably, Hadoop distributes the computational tasks on multiple computers which is basically the way to handle big data nowadays. Power BI, SaS, Qlik, and especially Tableau are top-notch examples of software designed for business intelligence visualizations',\n",
       "  'In terms of predictive analytics, EViews is mostly used for working with econometric time-series models, and Stata—for academic statistical and econometric research, where techniques like regression, cluster, and factor analysis are constantly applied. As a final note, remember the following. Should you have the relevant business and theoretical knowledge, learning a software tool is relatively easy as opposed to learning a programming language',\n",
       "  'More importantly, it will be sufficient for your need to create quick and accurate analyses. However, if your theoretical preparation is strong enough, you will find yourself restricted by software. Knowing a programming language such as R and Python, gives you the freedom to create specific, ad-hoc tools for each project you are working on',\n",
       "  'Great! We hope we gave you a good idea about the level of applicability of the most frequently used programming and software tools in the field of data science. Thank you for watching!',\n",
       "  'Alright! So… Let’s discuss the not-so-obvious differences between the terms analysis and analytics. Due to the similarity of the words, some people believe they share the same meaning, and thus use them interchangeably. Technically, this isn’t correct. There is, in fact, a distinct difference between the two. And the reason for one often being used instead of the other is the lack of a transparent understanding of both. So, let’s clear this up, shall we? First, we will start with analysis',\n",
       "  'Consider the following… You have a huge dataset containing data of various types. Instead of tackling the entire dataset and running the risk of becoming overwhelmed, you separate it into easier to digest chunks and study them individually and examine how they relate to other parts. And that’s analysis in a nutshell. One important thing to remember, however, is that you perform analyses on things that have already happened in the past',\n",
       "  'Such as using an analysis to explain how a story ended the way it did or how there was a decrease in sales last summer. All this means that we do analyses to explain how and/or why something happened. Great! Now, this leads us nicely on to the definition of analytics. As you have probably guessed, analytics generally refers to the future. Instead of explaining past events it explores potential future ones',\n",
       "  'Analytics is essentially the application of logical and computational reasoning to the component parts obtained in an analysis. And in doing this you are looking for patterns and exploring what you could do with them in the future. Here, analytics branches off into two areas: qualitative analytics – this is using your intuition and experience in conjunction with the analysis to plan your next business move',\n",
       "  \"And quantitative analytics – this is applying formulas and algorithms to numbers you have gathered from your analysis. Here are a couple of examples. Say, you are an owner of an online clothing store. You are ahead of the competition and have a great understanding of what your customer's needs and wants are. You’ve performed a very detailed analysis from women’s clothing articles and feel sure about which fashion trends to follow\",\n",
       "  'You may use this intuition to decide on which styles of clothing to start selling. This would be qualitative analytics. But you might not know when to introduce the new collection. In that case, relying on past sales data and user experience data, you could predict in which month it would be best to do that. This is an example of using quantitative analytics',\n",
       "  'Fantastic! To backtrack a little, you can combine these areas with analyses also – you could perform qualitative analysis – to explain how or why a story ended the way it did. And you can perform quantitative analysis – working with past data to explain how sales decreased last summer',\n",
       "  'Perfect! Now that we have cleared up the differences between analysis and analytics it shouldn’t be too difficult to see how terms such as ‘data analysis’, ‘data analytics’, ‘business analysis’ and ‘business analytics’ can have their unique meanings too. More of this will be explained in the next video which aims to simplify these, as well as many more with a fantastic diagram. So, let’s move on!',\n",
       "  'Alright! So… How are the techniques used in data, business intelligence, or predictive analytics applied in real life? Certainly, with the help of computers. You can basically split the relevant tools into two categories—programming languages and software. Knowing a programming language enables you to devise programs that can execute specific operations. Moreover, you can reuse these programs whenever you need to execute the same action',\n",
       "  'As you can see from the infographic, R, and Python are the two most popular tools across all columns. Their biggest advantage is that they can manipulate data and are integrated within multiple data and data science software platforms. They are not just suitable for mathematical and statistical computations. In other words, R, and Python are adaptable. They can solve a wide variety of business and data-related problems from beginning to the end',\n",
       "  'Of course, R, and Python do have their limitations. They are not able to address problems specific to some domains. One example is ‘relational database management systems’—there, SQL is king. It was specifically created for that purpose. SQL is at its most advantageous when working with traditional, historical data. When preparing your BI analysis, for instance, you will surely employ it. Okay. When it comes to data science, mentioning MATLAB is inevitable',\n",
       "  'It is ideal for working with mathematical functions or matrix manipulations. That’s why it is present in all categories except for ‘big data’. While respectable, MATLAB usage is a paid service, and that’s one of the reasons why it is losing ground to open-source languages like R and Python. Either way, R, Python, and MATLAB, combined with SQL, cover most of the tools used when working with traditional data, BI, and conventional data science',\n",
       "  'What about big data? Apart from R and Python, people working in this area are often proficient in other languages like Java or Scala. These two have not been developed specifically for doing statistical analyses, however they turn out to be very useful when combining data from multiple sources. All right! Let’s finish off with machine learning. When it comes to machine learning, we often deal with big data',\n",
       "  'Thus, we need a lot of computational power, and we can expect people to use the languages similar to those in the big data column. Apart from R, Python, and MATLAB, other, faster languages are used like Java, JavaScript, C, C++, and Scala. Cool. What we said may be wonderful, but that’s not all! By using one or more programming languages, people create application software or, as they are sometimes called, software solutions, that are adjusted for specific business needs',\n",
       "  'Their smaller scope does not make them less useful, in fact, just the opposite—they are a lot easier to learn and be adopted by others. You have already heard of several of those. Because of its ability to do relatively complex computations and good visualizations quickly, Excel is a tool applicable to more than one category—traditional data, BI, and Data Science. Similarly, SPSS is a very famous tool for working with traditional data and applying statistical analysis',\n",
       "  'Among the many applications we have plotted, we can say there is an increasing amount of software designed for working with big data such as Apache Hadoop, Apache Hbase, and Mongo DB. In terms of big data, Hadoop is the name that must stick with you. Hadoop is listed as a software in the sense that it is a collection of programs, but don’t imagine it as a nice-looking application',\n",
       "  'It’s actually a software framework which was designed to address the complexity of big data and its computational intensity. Most notably, Hadoop distributes the computational tasks on multiple computers which is basically the way to handle big data nowadays. Power BI, SaS, Qlik, and especially Tableau are top-notch examples of software designed for business intelligence visualizations',\n",
       "  'In terms of predictive analytics, EViews is mostly used for working with econometric time-series models, and Stata—for academic statistical and econometric research, where techniques like regression, cluster, and factor analysis are constantly applied. As a final note, remember the following. Should you have the relevant business and theoretical knowledge, learning a software tool is relatively easy as opposed to learning a programming language',\n",
       "  'More importantly, it will be sufficient for your need to create quick and accurate analyses. However, if your theoretical preparation is strong enough, you will find yourself restricted by software. Knowing a programming language such as R and Python, gives you the freedom to create specific, ad-hoc tools for each project you are working on',\n",
       "  'Great! We hope we gave you a good idea about the level of applicability of the most frequently used programming and software tools in the field of data science. Thank you for watching!',\n",
       "  'Alright! So… Let’s discuss the not-so-obvious differences between the terms analysis and analytics. Due to the similarity of the words, some people believe they share the same meaning, and thus use them interchangeably. Technically, this isn’t correct. There is, in fact, a distinct difference between the two. And the reason for one often being used instead of the other is the lack of a transparent understanding of both. So, let’s clear this up, shall we? First, we will start with analysis',\n",
       "  'Consider the following… You have a huge dataset containing data of various types. Instead of tackling the entire dataset and running the risk of becoming overwhelmed, you separate it into easier to digest chunks and study them individually and examine how they relate to other parts. And that’s analysis in a nutshell. One important thing to remember, however, is that you perform analyses on things that have already happened in the past',\n",
       "  'Such as using an analysis to explain how a story ended the way it did or how there was a decrease in sales last summer. All this means that we do analyses to explain how and/or why something happened. Great! Now, this leads us nicely on to the definition of analytics. As you have probably guessed, analytics generally refers to the future. Instead of explaining past events it explores potential future ones',\n",
       "  'Analytics is essentially the application of logical and computational reasoning to the component parts obtained in an analysis. And in doing this you are looking for patterns and exploring what you could do with them in the future. Here, analytics branches off into two areas: qualitative analytics – this is using your intuition and experience in conjunction with the analysis to plan your next business move',\n",
       "  \"And quantitative analytics – this is applying formulas and algorithms to numbers you have gathered from your analysis. Here are a couple of examples. Say, you are an owner of an online clothing store. You are ahead of the competition and have a great understanding of what your customer's needs and wants are. You’ve performed a very detailed analysis from women’s clothing articles and feel sure about which fashion trends to follow\",\n",
       "  'You may use this intuition to decide on which styles of clothing to start selling. This would be qualitative analytics. But you might not know when to introduce the new collection. In that case, relying on past sales data and user experience data, you could predict in which month it would be best to do that. This is an example of using quantitative analytics',\n",
       "  'Fantastic! To backtrack a little, you can combine these areas with analyses also – you could perform qualitative analysis – to explain how or why a story ended the way it did. And you can perform quantitative analysis – working with past data to explain how sales decreased last summer',\n",
       "  'Perfect! Now that we have cleared up the differences between analysis and analytics it shouldn’t be too difficult to see how terms such as ‘data analysis’, ‘data analytics’, ‘business analysis’ and ‘business analytics’ can have their unique meanings too. More of this will be explained in the next video which aims to simplify these, as well as many more with a fantastic diagram. So, let’s move on!',\n",
       "  'Alright! So… How are the techniques used in data, business intelligence, or predictive analytics applied in real life? Certainly, with the help of computers. You can basically split the relevant tools into two categories—programming languages and software. Knowing a programming language enables you to devise programs that can execute specific operations. Moreover, you can reuse these programs whenever you need to execute the same action',\n",
       "  'As you can see from the infographic, R, and Python are the two most popular tools across all columns. Their biggest advantage is that they can manipulate data and are integrated within multiple data and data science software platforms. They are not just suitable for mathematical and statistical computations. In other words, R, and Python are adaptable. They can solve a wide variety of business and data-related problems from beginning to the end',\n",
       "  'Of course, R, and Python do have their limitations. They are not able to address problems specific to some domains. One example is ‘relational database management systems’—there, SQL is king. It was specifically created for that purpose. SQL is at its most advantageous when working with traditional, historical data. When preparing your BI analysis, for instance, you will surely employ it. Okay. When it comes to data science, mentioning MATLAB is inevitable',\n",
       "  'It is ideal for working with mathematical functions or matrix manipulations. That’s why it is present in all categories except for ‘big data’. While respectable, MATLAB usage is a paid service, and that’s one of the reasons why it is losing ground to open-source languages like R and Python. Either way, R, Python, and MATLAB, combined with SQL, cover most of the tools used when working with traditional data, BI, and conventional data science',\n",
       "  'What about big data? Apart from R and Python, people working in this area are often proficient in other languages like Java or Scala. These two have not been developed specifically for doing statistical analyses, however they turn out to be very useful when combining data from multiple sources. All right! Let’s finish off with machine learning. When it comes to machine learning, we often deal with big data',\n",
       "  'Thus, we need a lot of computational power, and we can expect people to use the languages similar to those in the big data column. Apart from R, Python, and MATLAB, other, faster languages are used like Java, JavaScript, C, C++, and Scala. Cool. What we said may be wonderful, but that’s not all! By using one or more programming languages, people create application software or, as they are sometimes called, software solutions, that are adjusted for specific business needs',\n",
       "  'Their smaller scope does not make them less useful, in fact, just the opposite—they are a lot easier to learn and be adopted by others. You have already heard of several of those. Because of its ability to do relatively complex computations and good visualizations quickly, Excel is a tool applicable to more than one category—traditional data, BI, and Data Science. Similarly, SPSS is a very famous tool for working with traditional data and applying statistical analysis',\n",
       "  'Among the many applications we have plotted, we can say there is an increasing amount of software designed for working with big data such as Apache Hadoop, Apache Hbase, and Mongo DB. In terms of big data, Hadoop is the name that must stick with you. Hadoop is listed as a software in the sense that it is a collection of programs, but don’t imagine it as a nice-looking application',\n",
       "  'It’s actually a software framework which was designed to address the complexity of big data and its computational intensity. Most notably, Hadoop distributes the computational tasks on multiple computers which is basically the way to handle big data nowadays. Power BI, SaS, Qlik, and especially Tableau are top-notch examples of software designed for business intelligence visualizations',\n",
       "  'In terms of predictive analytics, EViews is mostly used for working with econometric time-series models, and Stata—for academic statistical and econometric research, where techniques like regression, cluster, and factor analysis are constantly applied. As a final note, remember the following. Should you have the relevant business and theoretical knowledge, learning a software tool is relatively easy as opposed to learning a programming language',\n",
       "  'More importantly, it will be sufficient for your need to create quick and accurate analyses. However, if your theoretical preparation is strong enough, you will find yourself restricted by software. Knowing a programming language such as R and Python, gives you the freedom to create specific, ad-hoc tools for each project you are working on',\n",
       "  'Great! We hope we gave you a good idea about the level of applicability of the most frequently used programming and software tools in the field of data science. Thank you for watching!'],\n",
       " 'uris': None,\n",
       " 'included': ['metadatas', 'documents'],\n",
       " 'data': None,\n",
       " 'metadatas': [{'Lecture Title': 'Analysis vs Analytics',\n",
       "   'Course Title': 'Introduction to Data and Data Science'},\n",
       "  {'Course Title': 'Introduction to Data and Data Science',\n",
       "   'Lecture Title': 'Analysis vs Analytics'},\n",
       "  {'Lecture Title': 'Analysis vs Analytics',\n",
       "   'Course Title': 'Introduction to Data and Data Science'},\n",
       "  {'Lecture Title': 'Analysis vs Analytics',\n",
       "   'Course Title': 'Introduction to Data and Data Science'},\n",
       "  {'Course Title': 'Introduction to Data and Data Science',\n",
       "   'Lecture Title': 'Analysis vs Analytics'},\n",
       "  {'Lecture Title': 'Analysis vs Analytics',\n",
       "   'Course Title': 'Introduction to Data and Data Science'},\n",
       "  {'Course Title': 'Introduction to Data and Data Science',\n",
       "   'Lecture Title': 'Analysis vs Analytics'},\n",
       "  {'Lecture Title': 'Analysis vs Analytics',\n",
       "   'Course Title': 'Introduction to Data and Data Science'},\n",
       "  {'Course Title': 'Introduction to Data and Data Science',\n",
       "   'Lecture Title': 'Programming Languages & Software Employed in Data Science - All the Tools You Need'},\n",
       "  {'Course Title': 'Introduction to Data and Data Science',\n",
       "   'Lecture Title': 'Programming Languages & Software Employed in Data Science - All the Tools You Need'},\n",
       "  {'Course Title': 'Introduction to Data and Data Science',\n",
       "   'Lecture Title': 'Programming Languages & Software Employed in Data Science - All the Tools You Need'},\n",
       "  {'Lecture Title': 'Programming Languages & Software Employed in Data Science - All the Tools You Need',\n",
       "   'Course Title': 'Introduction to Data and Data Science'},\n",
       "  {'Course Title': 'Introduction to Data and Data Science',\n",
       "   'Lecture Title': 'Programming Languages & Software Employed in Data Science - All the Tools You Need'},\n",
       "  {'Lecture Title': 'Programming Languages & Software Employed in Data Science - All the Tools You Need',\n",
       "   'Course Title': 'Introduction to Data and Data Science'},\n",
       "  {'Course Title': 'Introduction to Data and Data Science',\n",
       "   'Lecture Title': 'Programming Languages & Software Employed in Data Science - All the Tools You Need'},\n",
       "  {'Lecture Title': 'Programming Languages & Software Employed in Data Science - All the Tools You Need',\n",
       "   'Course Title': 'Introduction to Data and Data Science'},\n",
       "  {'Course Title': 'Introduction to Data and Data Science',\n",
       "   'Lecture Title': 'Programming Languages & Software Employed in Data Science - All the Tools You Need'},\n",
       "  {'Lecture Title': 'Programming Languages & Software Employed in Data Science - All the Tools You Need',\n",
       "   'Course Title': 'Introduction to Data and Data Science'},\n",
       "  {'Lecture Title': 'Programming Languages & Software Employed in Data Science - All the Tools You Need',\n",
       "   'Course Title': 'Introduction to Data and Data Science'},\n",
       "  {'Lecture Title': 'Programming Languages & Software Employed in Data Science - All the Tools You Need',\n",
       "   'Course Title': 'Introduction to Data and Data Science'},\n",
       "  {'Course Title': 'Introduction to Data and Data Science',\n",
       "   'Lecture Title': 'Analysis vs Analytics'},\n",
       "  {'Course Title': 'Introduction to Data and Data Science',\n",
       "   'Lecture Title': 'Analysis vs Analytics'},\n",
       "  {'Lecture Title': 'Analysis vs Analytics',\n",
       "   'Course Title': 'Introduction to Data and Data Science'},\n",
       "  {'Course Title': 'Introduction to Data and Data Science',\n",
       "   'Lecture Title': 'Analysis vs Analytics'},\n",
       "  {'Course Title': 'Introduction to Data and Data Science',\n",
       "   'Lecture Title': 'Analysis vs Analytics'},\n",
       "  {'Lecture Title': 'Analysis vs Analytics',\n",
       "   'Course Title': 'Introduction to Data and Data Science'},\n",
       "  {'Lecture Title': 'Analysis vs Analytics',\n",
       "   'Course Title': 'Introduction to Data and Data Science'},\n",
       "  {'Course Title': 'Introduction to Data and Data Science',\n",
       "   'Lecture Title': 'Analysis vs Analytics'},\n",
       "  {'Lecture Title': 'Programming Languages & Software Employed in Data Science - All the Tools You Need',\n",
       "   'Course Title': 'Introduction to Data and Data Science'},\n",
       "  {'Course Title': 'Introduction to Data and Data Science',\n",
       "   'Lecture Title': 'Programming Languages & Software Employed in Data Science - All the Tools You Need'},\n",
       "  {'Course Title': 'Introduction to Data and Data Science',\n",
       "   'Lecture Title': 'Programming Languages & Software Employed in Data Science - All the Tools You Need'},\n",
       "  {'Lecture Title': 'Programming Languages & Software Employed in Data Science - All the Tools You Need',\n",
       "   'Course Title': 'Introduction to Data and Data Science'},\n",
       "  {'Course Title': 'Introduction to Data and Data Science',\n",
       "   'Lecture Title': 'Programming Languages & Software Employed in Data Science - All the Tools You Need'},\n",
       "  {'Lecture Title': 'Programming Languages & Software Employed in Data Science - All the Tools You Need',\n",
       "   'Course Title': 'Introduction to Data and Data Science'},\n",
       "  {'Course Title': 'Introduction to Data and Data Science',\n",
       "   'Lecture Title': 'Programming Languages & Software Employed in Data Science - All the Tools You Need'},\n",
       "  {'Lecture Title': 'Programming Languages & Software Employed in Data Science - All the Tools You Need',\n",
       "   'Course Title': 'Introduction to Data and Data Science'},\n",
       "  {'Lecture Title': 'Programming Languages & Software Employed in Data Science - All the Tools You Need',\n",
       "   'Course Title': 'Introduction to Data and Data Science'},\n",
       "  {'Course Title': 'Introduction to Data and Data Science',\n",
       "   'Lecture Title': 'Programming Languages & Software Employed in Data Science - All the Tools You Need'},\n",
       "  {'Course Title': 'Introduction to Data and Data Science',\n",
       "   'Lecture Title': 'Programming Languages & Software Employed in Data Science - All the Tools You Need'},\n",
       "  {'Lecture Title': 'Programming Languages & Software Employed in Data Science - All the Tools You Need',\n",
       "   'Course Title': 'Introduction to Data and Data Science'},\n",
       "  {'Course Title': 'Introduction to Data and Data Science',\n",
       "   'Lecture Title': 'Analysis vs Analytics'},\n",
       "  {'Lecture Title': 'Analysis vs Analytics',\n",
       "   'Course Title': 'Introduction to Data and Data Science'},\n",
       "  {'Lecture Title': 'Analysis vs Analytics',\n",
       "   'Course Title': 'Introduction to Data and Data Science'},\n",
       "  {'Lecture Title': 'Analysis vs Analytics',\n",
       "   'Course Title': 'Introduction to Data and Data Science'},\n",
       "  {'Lecture Title': 'Analysis vs Analytics',\n",
       "   'Course Title': 'Introduction to Data and Data Science'},\n",
       "  {'Course Title': 'Introduction to Data and Data Science',\n",
       "   'Lecture Title': 'Analysis vs Analytics'},\n",
       "  {'Course Title': 'Introduction to Data and Data Science',\n",
       "   'Lecture Title': 'Analysis vs Analytics'},\n",
       "  {'Course Title': 'Introduction to Data and Data Science',\n",
       "   'Lecture Title': 'Analysis vs Analytics'},\n",
       "  {'Lecture Title': 'Programming Languages & Software Employed in Data Science - All the Tools You Need',\n",
       "   'Course Title': 'Introduction to Data and Data Science'},\n",
       "  {'Lecture Title': 'Programming Languages & Software Employed in Data Science - All the Tools You Need',\n",
       "   'Course Title': 'Introduction to Data and Data Science'},\n",
       "  {'Lecture Title': 'Programming Languages & Software Employed in Data Science - All the Tools You Need',\n",
       "   'Course Title': 'Introduction to Data and Data Science'},\n",
       "  {'Course Title': 'Introduction to Data and Data Science',\n",
       "   'Lecture Title': 'Programming Languages & Software Employed in Data Science - All the Tools You Need'},\n",
       "  {'Course Title': 'Introduction to Data and Data Science',\n",
       "   'Lecture Title': 'Programming Languages & Software Employed in Data Science - All the Tools You Need'},\n",
       "  {'Lecture Title': 'Programming Languages & Software Employed in Data Science - All the Tools You Need',\n",
       "   'Course Title': 'Introduction to Data and Data Science'},\n",
       "  {'Lecture Title': 'Programming Languages & Software Employed in Data Science - All the Tools You Need',\n",
       "   'Course Title': 'Introduction to Data and Data Science'},\n",
       "  {'Course Title': 'Introduction to Data and Data Science',\n",
       "   'Lecture Title': 'Programming Languages & Software Employed in Data Science - All the Tools You Need'},\n",
       "  {'Course Title': 'Introduction to Data and Data Science',\n",
       "   'Lecture Title': 'Programming Languages & Software Employed in Data Science - All the Tools You Need'},\n",
       "  {'Lecture Title': 'Programming Languages & Software Employed in Data Science - All the Tools You Need',\n",
       "   'Course Title': 'Introduction to Data and Data Science'},\n",
       "  {'Lecture Title': 'Programming Languages & Software Employed in Data Science - All the Tools You Need',\n",
       "   'Course Title': 'Introduction to Data and Data Science'},\n",
       "  {'Lecture Title': 'Programming Languages & Software Employed in Data Science - All the Tools You Need',\n",
       "   'Course Title': 'Introduction to Data and Data Science'}]}"
      ]
     },
     "execution_count": 7,
     "metadata": {},
     "output_type": "execute_result"
    }
   ],
   "source": [
    "# View vectorstore directory\n",
    "vectorstore_from_directory.get()"
   ]
  },
  {
   "cell_type": "code",
   "execution_count": 10,
   "id": "a91ea6e6",
   "metadata": {},
   "outputs": [
    {
     "data": {
      "text/plain": [
       "{'ids': ['d71b1324-f782-45dc-9e4e-92b5afe850d4'],\n",
       " 'embeddings': array([[-0.00145079,  0.00294724,  0.04136246, ...,  0.00858565,\n",
       "         -0.02052466, -0.00128198]]),\n",
       " 'documents': None,\n",
       " 'uris': None,\n",
       " 'included': ['embeddings'],\n",
       " 'data': None,\n",
       " 'metadatas': None}"
      ]
     },
     "execution_count": 10,
     "metadata": {},
     "output_type": "execute_result"
    }
   ],
   "source": [
    "# Pass a vectorstore id to the get() method and include embeddings string\n",
    "vectorstore_from_directory.get(ids = \"d71b1324-f782-45dc-9e4e-92b5afe850d4\", \n",
    "                               include = [\"embeddings\"])"
   ]
  },
  {
   "cell_type": "code",
   "execution_count": 11,
   "id": "c87368be",
   "metadata": {},
   "outputs": [],
   "source": [
    "# Create a new variable document\n",
    "added_document = Document(page_content='Alright! So… Let’s discuss the not-so-obvious differences between the terms analysis and analytics. Due to the similarity of the words, some people believe they share the same meaning, and thus use them interchangeably. Technically, this isn’t correct. There is, in fact, a distinct difference between the two. And the reason for one often being used instead of the other is the lack of a transparent understanding of both. So, let’s clear this up, shall we? First, we will start with analysis', \n",
    "                          metadata={'Course Title': 'Introduction to Data and Data Science', \n",
    "                                    'Lecture Title': 'Analysis vs Analytics'})"
   ]
  },
  {
   "cell_type": "code",
   "execution_count": 12,
   "id": "f6b2c46d",
   "metadata": {},
   "outputs": [
    {
     "data": {
      "text/plain": [
       "['fd0e66c2-9018-4dd5-b7f3-2b72121bdaa0']"
      ]
     },
     "execution_count": 12,
     "metadata": {},
     "output_type": "execute_result"
    }
   ],
   "source": [
    "# Apply Add_Documents method to the added_document object\n",
    "vectorstore_from_directory.add_documents([added_document])"
   ]
  },
  {
   "cell_type": "code",
   "execution_count": 13,
   "id": "db517d41",
   "metadata": {},
   "outputs": [
    {
     "data": {
      "text/plain": [
       "{'ids': ['fd0e66c2-9018-4dd5-b7f3-2b72121bdaa0'],\n",
       " 'embeddings': None,\n",
       " 'documents': ['Alright! So… Let’s discuss the not-so-obvious differences between the terms analysis and analytics. Due to the similarity of the words, some people believe they share the same meaning, and thus use them interchangeably. Technically, this isn’t correct. There is, in fact, a distinct difference between the two. And the reason for one often being used instead of the other is the lack of a transparent understanding of both. So, let’s clear this up, shall we? First, we will start with analysis'],\n",
       " 'uris': None,\n",
       " 'included': ['metadatas', 'documents'],\n",
       " 'data': None,\n",
       " 'metadatas': [{'Course Title': 'Introduction to Data and Data Science',\n",
       "   'Lecture Title': 'Analysis vs Analytics'}]}"
      ]
     },
     "execution_count": 13,
     "metadata": {},
     "output_type": "execute_result"
    }
   ],
   "source": [
    "# Verify vector id with the get() method\n",
    "vectorstore_from_directory.get(\"fd0e66c2-9018-4dd5-b7f3-2b72121bdaa0\")"
   ]
  },
  {
   "cell_type": "code",
   "execution_count": 14,
   "id": "43eba571",
   "metadata": {},
   "outputs": [],
   "source": [
    "# Configure new object updated_document\n",
    "updated_document = Document(page_content='Great! We hope we gave you a good idea about the level of applicability of the most frequently used programming and software tools in the field of data science. Thank you for watching!', \n",
    "                            metadata={'Course Title': 'Introduction to Data and Data Science', \n",
    "                                     'Lecture Title': 'Programming Languages & Software Employed in Data Science - All the Tools You Need'})"
   ]
  },
  {
   "cell_type": "code",
   "execution_count": 15,
   "id": "834ce920",
   "metadata": {},
   "outputs": [],
   "source": [
    "# Pass vectorstore id of the added_document above\n",
    "vectorstore_from_directory.update_document(document_id = \"fd0e66c2-9018-4dd5-b7f3-2b72121bdaa0\", \n",
    "                                           document = updated_document)"
   ]
  },
  {
   "cell_type": "code",
   "execution_count": 16,
   "id": "7c198988",
   "metadata": {},
   "outputs": [
    {
     "data": {
      "text/plain": [
       "{'ids': ['fd0e66c2-9018-4dd5-b7f3-2b72121bdaa0'],\n",
       " 'embeddings': None,\n",
       " 'documents': ['Great! We hope we gave you a good idea about the level of applicability of the most frequently used programming and software tools in the field of data science. Thank you for watching!'],\n",
       " 'uris': None,\n",
       " 'included': ['metadatas', 'documents'],\n",
       " 'data': None,\n",
       " 'metadatas': [{'Course Title': 'Introduction to Data and Data Science',\n",
       "   'Lecture Title': 'Programming Languages & Software Employed in Data Science - All the Tools You Need'}]}"
      ]
     },
     "execution_count": 16,
     "metadata": {},
     "output_type": "execute_result"
    }
   ],
   "source": [
    "# Verify document updated\n",
    "vectorstore_from_directory.get(\"fd0e66c2-9018-4dd5-b7f3-2b72121bdaa0\")"
   ]
  },
  {
   "cell_type": "code",
   "execution_count": 17,
   "id": "6bb80a70",
   "metadata": {},
   "outputs": [],
   "source": [
    "# Pass vectorstore id to the delete() method\n",
    "vectorstore_from_directory.delete(\"fd0e66c2-9018-4dd5-b7f3-2b72121bdaa0\")"
   ]
  },
  {
   "cell_type": "code",
   "execution_count": 18,
   "id": "b349839c",
   "metadata": {},
   "outputs": [
    {
     "data": {
      "text/plain": [
       "{'ids': [],\n",
       " 'embeddings': None,\n",
       " 'documents': [],\n",
       " 'uris': None,\n",
       " 'included': ['metadatas', 'documents'],\n",
       " 'data': None,\n",
       " 'metadatas': []}"
      ]
     },
     "execution_count": 18,
     "metadata": {},
     "output_type": "execute_result"
    }
   ],
   "source": [
    "# Verify id was deleted\n",
    "vectorstore_from_directory.get(\"fd0e66c2-9018-4dd5-b7f3-2b72121bdaa0\")"
   ]
  },
  {
   "cell_type": "code",
   "execution_count": null,
   "id": "70aef855",
   "metadata": {},
   "outputs": [],
   "source": []
  },
  {
   "cell_type": "code",
   "execution_count": null,
   "id": "7fa1049b",
   "metadata": {},
   "outputs": [],
   "source": []
  }
 ],
 "metadata": {
  "kernelspec": {
   "display_name": "langchain_env_py312",
   "language": "python",
   "name": "langchain_env_py312"
  },
  "language_info": {
   "codemirror_mode": {
    "name": "ipython",
    "version": 3
   },
   "file_extension": ".py",
   "mimetype": "text/x-python",
   "name": "python",
   "nbconvert_exporter": "python",
   "pygments_lexer": "ipython3",
   "version": "3.12.11"
  }
 },
 "nbformat": 4,
 "nbformat_minor": 5
}
