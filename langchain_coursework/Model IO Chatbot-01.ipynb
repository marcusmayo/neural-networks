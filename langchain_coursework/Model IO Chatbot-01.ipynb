{
 "cells": [
  {
   "cell_type": "markdown",
   "id": "ce58af63-81f7-4450-8c59-0bc844636d47",
   "metadata": {},
   "source": [
    "# ChatOpenAI"
   ]
  },
  {
   "cell_type": "code",
   "execution_count": 1,
   "id": "7defa008-3903-4811-af34-33fa6cd77c15",
   "metadata": {},
   "outputs": [],
   "source": [
    "# Load the environment variable\n",
    "%load_ext dotenv\n",
    "%dotenv"
   ]
  },
  {
   "cell_type": "code",
   "execution_count": 2,
   "id": "1bdff48f-c8fb-40a7-8f3a-d7f5c4960bbf",
   "metadata": {},
   "outputs": [
    {
     "name": "stdout",
     "output_type": "stream",
     "text": [
      "Requirement already satisfied: langchain-core in c:\\users\\marcus\\anaconda3\\lib\\site-packages (0.3.66)\n",
      "Requirement already satisfied: langchain-openai in c:\\users\\marcus\\anaconda3\\lib\\site-packages (0.3.27)\n",
      "Requirement already satisfied: langsmith>=0.3.45 in c:\\users\\marcus\\anaconda3\\lib\\site-packages (from langchain-core) (0.4.4)\n",
      "Requirement already satisfied: tenacity!=8.4.0,<10.0.0,>=8.1.0 in c:\\users\\marcus\\anaconda3\\lib\\site-packages (from langchain-core) (8.2.3)\n",
      "Requirement already satisfied: jsonpatch<2.0,>=1.33 in c:\\users\\marcus\\anaconda3\\lib\\site-packages (from langchain-core) (1.33)\n",
      "Requirement already satisfied: PyYAML>=5.3 in c:\\users\\marcus\\anaconda3\\lib\\site-packages (from langchain-core) (6.0.1)\n",
      "Requirement already satisfied: packaging<25,>=23.2 in c:\\users\\marcus\\anaconda3\\lib\\site-packages (from langchain-core) (24.1)\n",
      "Requirement already satisfied: typing-extensions>=4.7 in c:\\users\\marcus\\anaconda3\\lib\\site-packages (from langchain-core) (4.11.0)\n",
      "Requirement already satisfied: pydantic>=2.7.4 in c:\\users\\marcus\\anaconda3\\lib\\site-packages (from langchain-core) (2.8.2)\n",
      "Requirement already satisfied: openai<2.0.0,>=1.86.0 in c:\\users\\marcus\\anaconda3\\lib\\site-packages (from langchain-openai) (1.93.0)\n",
      "Requirement already satisfied: tiktoken<1,>=0.7 in c:\\users\\marcus\\anaconda3\\lib\\site-packages (from langchain-openai) (0.9.0)\n",
      "Requirement already satisfied: jsonpointer>=1.9 in c:\\users\\marcus\\anaconda3\\lib\\site-packages (from jsonpatch<2.0,>=1.33->langchain-core) (2.1)\n",
      "Requirement already satisfied: httpx<1,>=0.23.0 in c:\\users\\marcus\\anaconda3\\lib\\site-packages (from langsmith>=0.3.45->langchain-core) (0.27.0)\n",
      "Requirement already satisfied: orjson<4.0.0,>=3.9.14 in c:\\users\\marcus\\anaconda3\\lib\\site-packages (from langsmith>=0.3.45->langchain-core) (3.10.18)\n",
      "Requirement already satisfied: requests<3,>=2 in c:\\users\\marcus\\anaconda3\\lib\\site-packages (from langsmith>=0.3.45->langchain-core) (2.32.3)\n",
      "Requirement already satisfied: requests-toolbelt<2.0.0,>=1.0.0 in c:\\users\\marcus\\anaconda3\\lib\\site-packages (from langsmith>=0.3.45->langchain-core) (1.0.0)\n",
      "Requirement already satisfied: zstandard<0.24.0,>=0.23.0 in c:\\users\\marcus\\anaconda3\\lib\\site-packages (from langsmith>=0.3.45->langchain-core) (0.23.0)\n",
      "Requirement already satisfied: anyio<5,>=3.5.0 in c:\\users\\marcus\\anaconda3\\lib\\site-packages (from openai<2.0.0,>=1.86.0->langchain-openai) (4.2.0)\n",
      "Requirement already satisfied: distro<2,>=1.7.0 in c:\\users\\marcus\\anaconda3\\lib\\site-packages (from openai<2.0.0,>=1.86.0->langchain-openai) (1.9.0)\n",
      "Requirement already satisfied: jiter<1,>=0.4.0 in c:\\users\\marcus\\anaconda3\\lib\\site-packages (from openai<2.0.0,>=1.86.0->langchain-openai) (0.10.0)\n",
      "Requirement already satisfied: sniffio in c:\\users\\marcus\\anaconda3\\lib\\site-packages (from openai<2.0.0,>=1.86.0->langchain-openai) (1.3.0)\n",
      "Requirement already satisfied: tqdm>4 in c:\\users\\marcus\\anaconda3\\lib\\site-packages (from openai<2.0.0,>=1.86.0->langchain-openai) (4.66.5)\n",
      "Requirement already satisfied: annotated-types>=0.4.0 in c:\\users\\marcus\\anaconda3\\lib\\site-packages (from pydantic>=2.7.4->langchain-core) (0.6.0)\n",
      "Requirement already satisfied: pydantic-core==2.20.1 in c:\\users\\marcus\\anaconda3\\lib\\site-packages (from pydantic>=2.7.4->langchain-core) (2.20.1)\n",
      "Requirement already satisfied: regex>=2022.1.18 in c:\\users\\marcus\\anaconda3\\lib\\site-packages (from tiktoken<1,>=0.7->langchain-openai) (2024.9.11)\n",
      "Requirement already satisfied: idna>=2.8 in c:\\users\\marcus\\anaconda3\\lib\\site-packages (from anyio<5,>=3.5.0->openai<2.0.0,>=1.86.0->langchain-openai) (3.7)\n",
      "Requirement already satisfied: certifi in c:\\users\\marcus\\anaconda3\\lib\\site-packages (from httpx<1,>=0.23.0->langsmith>=0.3.45->langchain-core) (2025.4.26)\n",
      "Requirement already satisfied: httpcore==1.* in c:\\users\\marcus\\anaconda3\\lib\\site-packages (from httpx<1,>=0.23.0->langsmith>=0.3.45->langchain-core) (1.0.2)\n",
      "Requirement already satisfied: h11<0.15,>=0.13 in c:\\users\\marcus\\anaconda3\\lib\\site-packages (from httpcore==1.*->httpx<1,>=0.23.0->langsmith>=0.3.45->langchain-core) (0.14.0)\n",
      "Requirement already satisfied: charset-normalizer<4,>=2 in c:\\users\\marcus\\anaconda3\\lib\\site-packages (from requests<3,>=2->langsmith>=0.3.45->langchain-core) (3.3.2)\n",
      "Requirement already satisfied: urllib3<3,>=1.21.1 in c:\\users\\marcus\\anaconda3\\lib\\site-packages (from requests<3,>=2->langsmith>=0.3.45->langchain-core) (2.2.3)\n",
      "Requirement already satisfied: colorama in c:\\users\\marcus\\anaconda3\\lib\\site-packages (from tqdm>4->openai<2.0.0,>=1.86.0->langchain-openai) (0.4.6)\n"
     ]
    }
   ],
   "source": [
    "# First, update the required packages to compatible versions\n",
    "# Run this in a cell:\n",
    "!pip install --upgrade langchain-core langchain-openai"
   ]
  },
  {
   "cell_type": "code",
   "execution_count": 3,
   "id": "3e3dc2c7-f625-4c64-bc07-8df835192332",
   "metadata": {},
   "outputs": [
    {
     "name": "stdout",
     "output_type": "stream",
     "text": [
      "Name: langchain-core\n",
      "Version: 0.3.66\n",
      "Summary: Building applications with LLMs through composability\n",
      "Home-page: \n",
      "Author: \n",
      "Author-email: \n",
      "License: MIT\n",
      "Location: C:\\Users\\Marcus\\anaconda3\\envs\\langchain_env_py312\\Lib\\site-packages\n",
      "Requires: jsonpatch, langsmith, packaging, pydantic, PyYAML, tenacity, typing-extensions\n",
      "Required-by: langchain, langchain-openai, langchain-text-splitters\n",
      "---\n",
      "Name: langchain-openai\n",
      "Version: 0.3.27\n",
      "Summary: An integration package connecting OpenAI and LangChain\n",
      "Home-page: \n",
      "Author: \n",
      "Author-email: \n",
      "License: MIT\n",
      "Location: C:\\Users\\Marcus\\anaconda3\\envs\\langchain_env_py312\\Lib\\site-packages\n",
      "Requires: langchain-core, openai, tiktoken\n",
      "Required-by: \n",
      "Note: you may need to restart the kernel to use updated packages.\n"
     ]
    }
   ],
   "source": [
    "# Confirm versions of langchain-core and langchain-openai\n",
    "pip show langchain-core langchain-openai"
   ]
  },
  {
   "cell_type": "code",
   "execution_count": 4,
   "id": "c4f9e64c-57c1-4bed-890e-7ba1d4fa1f59",
   "metadata": {},
   "outputs": [],
   "source": [
    "# Import modules\n",
    "from langchain_openai.chat_models import ChatOpenAI"
   ]
  },
  {
   "cell_type": "code",
   "execution_count": 11,
   "id": "ab1b7c45-da86-46e3-9484-aca4c8a44b0c",
   "metadata": {},
   "outputs": [],
   "source": [
    "# Create chat variable\n",
    "chat = ChatOpenAI(model_name = 'gpt-4', \n",
    "                  seed = 365,\n",
    "                  temperature = 0,\n",
    "                  max_tokens = 100)"
   ]
  },
  {
   "cell_type": "code",
   "execution_count": 12,
   "id": "d7b850d9-a3ab-4b3b-a15b-239200a5a3f1",
   "metadata": {},
   "outputs": [],
   "source": [
    "# Create response variable\n",
    "response = chat.invoke(''' I've recently adopted a dog. Could you suggest some dog names? ''')"
   ]
  },
  {
   "cell_type": "code",
   "execution_count": 13,
   "id": "964415fd-3aed-478d-b08f-65d1f78ee804",
   "metadata": {},
   "outputs": [
    {
     "data": {
      "text/plain": [
       "AIMessage(content='Of course! Here are some suggestions:\\n\\nMale Dog Names:\\n1. Max\\n2. Charlie\\n3. Cooper\\n4. Buddy\\n5. Jack\\n6. Rocky\\n7. Duke\\n8. Bear\\n9. Tucker\\n10. Oliver\\n\\nFemale Dog Names:\\n1. Bella\\n2. Lucy\\n3. Daisy\\n4. Luna\\n5. Lola\\n6. Sadie\\n7. Molly\\n8. Bailey\\n9. Stella\\n10. Maggie\\n\\nUnisex Dog', additional_kwargs={'refusal': None}, response_metadata={'token_usage': {'completion_tokens': 100, 'prompt_tokens': 22, 'total_tokens': 122, 'completion_tokens_details': {'accepted_prediction_tokens': 0, 'audio_tokens': 0, 'reasoning_tokens': 0, 'rejected_prediction_tokens': 0}, 'prompt_tokens_details': {'audio_tokens': 0, 'cached_tokens': 0}}, 'model_name': 'gpt-4-0613', 'system_fingerprint': None, 'id': 'chatcmpl-BnmTFY42p10Av6Lhd4GOyWa8vhmyc', 'service_tier': 'default', 'finish_reason': 'length', 'logprobs': None}, id='run--c8fa0ab4-ae02-4010-b589-bb75c076b35e-0', usage_metadata={'input_tokens': 22, 'output_tokens': 100, 'total_tokens': 122, 'input_token_details': {'audio': 0, 'cache_read': 0}, 'output_token_details': {'audio': 0, 'reasoning': 0}})"
      ]
     },
     "execution_count": 13,
     "metadata": {},
     "output_type": "execute_result"
    }
   ],
   "source": [
    "# Call response variable\n",
    "response"
   ]
  },
  {
   "cell_type": "code",
   "execution_count": 14,
   "id": "434ac1cf-e703-429e-851a-a6f2ce3eb3b3",
   "metadata": {},
   "outputs": [
    {
     "name": "stdout",
     "output_type": "stream",
     "text": [
      "Of course! Here are some suggestions:\n",
      "\n",
      "Male Dog Names:\n",
      "1. Max\n",
      "2. Charlie\n",
      "3. Cooper\n",
      "4. Buddy\n",
      "5. Jack\n",
      "6. Rocky\n",
      "7. Duke\n",
      "8. Bear\n",
      "9. Tucker\n",
      "10. Oliver\n",
      "\n",
      "Female Dog Names:\n",
      "1. Bella\n",
      "2. Lucy\n",
      "3. Daisy\n",
      "4. Luna\n",
      "5. Lola\n",
      "6. Sadie\n",
      "7. Molly\n",
      "8. Bailey\n",
      "9. Stella\n",
      "10. Maggie\n",
      "\n",
      "Unisex Dog\n"
     ]
    }
   ],
   "source": [
    "# Print and format content\n",
    "print(response.content)"
   ]
  },
  {
   "cell_type": "code",
   "execution_count": null,
   "id": "da58d264-c36f-4574-8b1b-4ab4e08eb890",
   "metadata": {},
   "outputs": [],
   "source": []
  }
 ],
 "metadata": {
  "kernelspec": {
   "display_name": "langchain_env_py312",
   "language": "python",
   "name": "langchain_env_py312"
  },
  "language_info": {
   "codemirror_mode": {
    "name": "ipython",
    "version": 3
   },
   "file_extension": ".py",
   "mimetype": "text/x-python",
   "name": "python",
   "nbconvert_exporter": "python",
   "pygments_lexer": "ipython3",
   "version": "3.12.11"
  }
 },
 "nbformat": 4,
 "nbformat_minor": 5
}
