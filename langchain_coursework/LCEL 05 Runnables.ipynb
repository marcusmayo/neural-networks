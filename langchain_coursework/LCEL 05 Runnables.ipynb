{
 "cells": [
  {
   "cell_type": "markdown",
   "id": "f249264a",
   "metadata": {},
   "source": [
    "# Piping Chains and the RunnablePassthrough Class"
   ]
  },
  {
   "cell_type": "code",
   "execution_count": null,
   "id": "5b46f7f6-83a9-47e4-9afa-0c5fb8049153",
   "metadata": {},
   "outputs": [],
   "source": [
    "# Run the line of code below to check the version of langchain in the current environment.\n",
    "# Substitute \"langchain\" with any other package name to check their version."
   ]
  },
  {
   "cell_type": "code",
   "execution_count": 1,
   "id": "e55eecd9-ddaa-4e27-a385-aee9ee4d292d",
   "metadata": {},
   "outputs": [
    {
     "name": "stdout",
     "output_type": "stream",
     "text": [
      "Name: langchain\n",
      "Version: 0.3.26\n",
      "Summary: Building applications with LLMs through composability\n",
      "Home-page: \n",
      "Author: \n",
      "Author-email: \n",
      "License: MIT\n",
      "Location: C:\\Users\\Marcus\\anaconda3\\envs\\langchain_env_py312\\Lib\\site-packages\n",
      "Requires: langchain-core, langchain-text-splitters, langsmith, pydantic, PyYAML, requests, SQLAlchemy\n",
      "Required-by: \n",
      "Note: you may need to restart the kernel to use updated packages.\n"
     ]
    }
   ],
   "source": [
    "pip show langchain"
   ]
  },
  {
   "cell_type": "code",
   "execution_count": 5,
   "id": "46f2064c",
   "metadata": {},
   "outputs": [
    {
     "name": "stdout",
     "output_type": "stream",
     "text": [
      "The dotenv extension is already loaded. To reload it, use:\n",
      "  %reload_ext dotenv\n"
     ]
    }
   ],
   "source": [
    "%load_ext dotenv\n",
    "%dotenv"
   ]
  },
  {
   "cell_type": "code",
   "execution_count": 6,
   "id": "229e6a94",
   "metadata": {},
   "outputs": [],
   "source": [
    "from langchain_core.prompts import ChatPromptTemplate\n",
    "from langchain_openai import ChatOpenAI\n",
    "from langchain_core.output_parsers import StrOutputParser\n",
    "from langchain_core.runnables import RunnablePassthrough"
   ]
  },
  {
   "cell_type": "code",
   "execution_count": 7,
   "id": "bef54a9c",
   "metadata": {},
   "outputs": [
    {
     "data": {
      "text/plain": [
       "[1, 2, 3]"
      ]
     },
     "execution_count": 7,
     "metadata": {},
     "output_type": "execute_result"
    }
   ],
   "source": [
    "RunnablePassthrough().invoke([1, 2, 3])"
   ]
  },
  {
   "cell_type": "code",
   "execution_count": 8,
   "id": "3adc8eaf",
   "metadata": {},
   "outputs": [],
   "source": [
    "# Define chat template objects\n",
    "chat_template_tools = ChatPromptTemplate.from_template('''\n",
    "What are the five most important tools a {job title} needs?\n",
    "Answer only by listing the tools.\n",
    "''')\n",
    "\n",
    "chat_template_strategy = ChatPromptTemplate.from_template('''\n",
    "Considering the tools provided, develop a strategy for effectively learning and mastering them:\n",
    "{tools}\n",
    "''')"
   ]
  },
  {
   "cell_type": "code",
   "execution_count": 10,
   "id": "b1789759",
   "metadata": {},
   "outputs": [
    {
     "data": {
      "text/plain": [
       "ChatPromptTemplate(input_variables=['job title'], input_types={}, partial_variables={}, messages=[HumanMessagePromptTemplate(prompt=PromptTemplate(input_variables=['job title'], input_types={}, partial_variables={}, template='\\nWhat are the five most important tools a {job title} needs?\\nAnswer only by listing the tools.\\n'), additional_kwargs={})])"
      ]
     },
     "execution_count": 10,
     "metadata": {},
     "output_type": "execute_result"
    }
   ],
   "source": [
    "# Display chat template variable\n",
    "chat_template_tools"
   ]
  },
  {
   "cell_type": "code",
   "execution_count": 11,
   "id": "3cda9404",
   "metadata": {},
   "outputs": [],
   "source": [
    "# Define chat variable\n",
    "chat = ChatOpenAI(model_name = 'gpt-4', \n",
    "                  seed = 365,\n",
    "                  temperature = 0,\n",
    "                  max_tokens = 100)"
   ]
  },
  {
   "cell_type": "code",
   "execution_count": 12,
   "id": "bc537a26",
   "metadata": {},
   "outputs": [],
   "source": [
    "# Define string output parser\n",
    "string_parser = StrOutputParser()"
   ]
  },
  {
   "cell_type": "code",
   "execution_count": 18,
   "id": "94772379",
   "metadata": {},
   "outputs": [],
   "source": [
    "# Create LCEL chains piping elements together using the RunnablePassthrough class\n",
    "chain_tools = (chat_template_tools | chat | string_parser | {'tools':RunnablePassthrough()})\n",
    "chain_strategy = chat_template_strategy | chat | string_parser"
   ]
  },
  {
   "cell_type": "code",
   "execution_count": 19,
   "id": "08b19e51",
   "metadata": {},
   "outputs": [
    {
     "name": "stdout",
     "output_type": "stream",
     "text": [
      "{'tools': '1. Python\\n2. R Programming Language\\n3. SQL (Structured Query Language)\\n4. Tableau\\n5. Jupyter Notebooks'}\n"
     ]
    }
   ],
   "source": [
    "# Print chain tools template invoking input variables\n",
    "print(chain_tools.invoke({'job title':'data scientist'}))"
   ]
  },
  {
   "cell_type": "code",
   "execution_count": 21,
   "id": "f5bdeed6",
   "metadata": {},
   "outputs": [
    {
     "name": "stdout",
     "output_type": "stream",
     "text": [
      "1. Python: Start with the basics of Python, such as variables, data types, loops, and functions. Once you have a good understanding of these, move on to more advanced topics like classes and file I/O. Use online resources like Codecademy, Coursera, or edX for structured learning. Practice coding problems on platforms like LeetCode or HackerRank. Work on small projects to apply what you've learned.\n",
      "\n",
      "2. R Programming: Start with the basics of R, such\n"
     ]
    }
   ],
   "source": [
    "# Print chain strategy template invoking input variables\n",
    "print(chain_strategy.invoke({'tools':'''\n",
    "1. Python\n",
    "2. R Programming\n",
    "3. SQL\n",
    "4. Tableau\n",
    "5. Jupyter Notebooks\n",
    "'''}))"
   ]
  },
  {
   "cell_type": "code",
   "execution_count": 22,
   "id": "25a4452f",
   "metadata": {},
   "outputs": [],
   "source": [
    "# Combine chains together piping them together\n",
    "chain_combined = chain_tools | chain_strategy"
   ]
  },
  {
   "cell_type": "code",
   "execution_count": 23,
   "id": "0d24d012",
   "metadata": {},
   "outputs": [
    {
     "name": "stdout",
     "output_type": "stream",
     "text": [
      "1. Python: Start with the basics of Python, such as variables, data types, operators, control flow, and functions. Once you have a good understanding of these, move on to more advanced topics like classes, exceptions, and modules. Use online resources like Codecademy, Coursera, or edX for structured learning. Practice coding regularly on platforms like LeetCode or HackerRank. Work on small projects to apply what you've learned.\n",
      "\n",
      "2. R Programming: Start with the basics\n"
     ]
    }
   ],
   "source": [
    "# Print combined chain invoking input variables\n",
    "print(chain_combined.invoke({'job title':'data scientist'}))"
   ]
  },
  {
   "cell_type": "code",
   "execution_count": 24,
   "id": "6236a709",
   "metadata": {},
   "outputs": [],
   "source": [
    "# Can combine the two chain inputs to create the same answer as the combined chain\n",
    "chain_long = (chat_template_tools | chat | string_parser | {'tools':RunnablePassthrough()} | \n",
    "              chat_template_strategy | chat | string_parser)"
   ]
  },
  {
   "cell_type": "code",
   "execution_count": 25,
   "id": "efb1ca0b",
   "metadata": {},
   "outputs": [
    {
     "name": "stdout",
     "output_type": "stream",
     "text": [
      "1. Python: Start with the basics of Python, such as variables, data types, loops, and functions. Once you have a good understanding of these, move on to more complex topics like classes and objects. Use online resources like Codecademy, Coursera, or edX for structured learning. Practice coding problems on platforms like LeetCode or HackerRank. Work on small projects to apply what you've learned.\n",
      "\n",
      "2. R Programming: Start with the basics of R, such as data\n"
     ]
    }
   ],
   "source": [
    "print(chain_long.invoke({'job title':'data scientist'}))"
   ]
  },
  {
   "cell_type": "code",
   "execution_count": null,
   "id": "fd4bb105",
   "metadata": {},
   "outputs": [],
   "source": []
  }
 ],
 "metadata": {
  "kernelspec": {
   "display_name": "Python [conda env:langchain_env_py312]",
   "language": "python",
   "name": "conda-env-langchain_env_py312-py"
  },
  "language_info": {
   "codemirror_mode": {
    "name": "ipython",
    "version": 3
   },
   "file_extension": ".py",
   "mimetype": "text/x-python",
   "name": "python",
   "nbconvert_exporter": "python",
   "pygments_lexer": "ipython3",
   "version": "3.12.11"
  }
 },
 "nbformat": 4,
 "nbformat_minor": 5
}
