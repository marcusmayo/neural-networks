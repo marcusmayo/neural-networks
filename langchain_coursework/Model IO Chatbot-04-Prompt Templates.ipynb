{
 "cells": [
  {
   "cell_type": "markdown",
   "id": "664af328-6961-41c0-813a-1df3c6a7bb16",
   "metadata": {},
   "source": [
    "# Prompt Templates and Prompt Values"
   ]
  },
  {
   "cell_type": "code",
   "execution_count": 13,
   "id": "28ffc8c4-6dac-45de-8200-b0fb6864d0d3",
   "metadata": {},
   "outputs": [],
   "source": [
    "from langchain_core.prompts import PromptTemplate"
   ]
  },
  {
   "cell_type": "code",
   "execution_count": 14,
   "id": "f7117e92-313c-46a0-894e-7c2ad9b77637",
   "metadata": {},
   "outputs": [],
   "source": [
    "# Create string template with input variables\n",
    "TEMPLATE = '''\n",
    "System:\n",
    "{description}\n",
    "\n",
    "Human:\n",
    "I've recently adopted a {pet}.\n",
    "Could you suggest some {pet} names?\n",
    "'''"
   ]
  },
  {
   "cell_type": "code",
   "execution_count": 15,
   "id": "aea267c6-8214-4942-9dd0-404bde05df17",
   "metadata": {},
   "outputs": [],
   "source": [
    "# Create prompt template imstance\n",
    "prompt_template = PromptTemplate.from_template(template = TEMPLATE)"
   ]
  },
  {
   "cell_type": "code",
   "execution_count": 16,
   "id": "5dc3afd1-a6ea-45c4-ad70-0d9cadf2b084",
   "metadata": {},
   "outputs": [
    {
     "data": {
      "text/plain": [
       "PromptTemplate(input_variables=['description', 'pet'], input_types={}, partial_variables={}, template=\"\\nSystem:\\n{description}\\n\\nHuman:\\nI've recently adopted a {pet}.\\nCould you suggest some {pet} names?\\n\")"
      ]
     },
     "execution_count": 16,
     "metadata": {},
     "output_type": "execute_result"
    }
   ],
   "source": [
    "# Call and verify prompt_template\n",
    "prompt_template"
   ]
  },
  {
   "cell_type": "code",
   "execution_count": 17,
   "id": "081009f3-f1b4-49ae-9595-2bb70018d8b6",
   "metadata": {},
   "outputs": [],
   "source": [
    "# Applied invoke method\n",
    "prompt_value = prompt_template.invoke({'description':''' The chatbot should reluctantly answer questions with sarcastic responses, ''', \n",
    "                                       'pet':'dog'})"
   ]
  },
  {
   "cell_type": "code",
   "execution_count": 18,
   "id": "e68a69be-3d07-4431-b2d3-91453e073d6f",
   "metadata": {},
   "outputs": [
    {
     "data": {
      "text/plain": [
       "StringPromptValue(text=\"\\nSystem:\\n The chatbot should reluctantly answer questions with sarcastic responses, \\n\\nHuman:\\nI've recently adopted a dog.\\nCould you suggest some dog names?\\n\")"
      ]
     },
     "execution_count": 18,
     "metadata": {},
     "output_type": "execute_result"
    }
   ],
   "source": [
    "#Call and verify prompt_value\n",
    "prompt_value"
   ]
  },
  {
   "cell_type": "code",
   "execution_count": 20,
   "id": "a8989905-155a-422f-ad59-0cea3a29f282",
   "metadata": {},
   "outputs": [
    {
     "name": "stdout",
     "output_type": "stream",
     "text": [
      "\n",
      "System:\n",
      " The chatbot should reluctantly answer questions with sarcastic responses, \n",
      "\n",
      "Human:\n",
      "I've recently adopted a dog.\n",
      "Could you suggest some dog names?\n",
      "\n"
     ]
    }
   ],
   "source": [
    "# Print prompt value in human readable format\n",
    "print(prompt_value.text)"
   ]
  },
  {
   "cell_type": "code",
   "execution_count": null,
   "id": "51d7adb2-21da-4094-b7a9-8e2b38a69306",
   "metadata": {},
   "outputs": [],
   "source": []
  }
 ],
 "metadata": {
  "kernelspec": {
   "display_name": "Python [conda env:langchain_env_py312]",
   "language": "python",
   "name": "conda-env-langchain_env_py312-py"
  },
  "language_info": {
   "codemirror_mode": {
    "name": "ipython",
    "version": 3
   },
   "file_extension": ".py",
   "mimetype": "text/x-python",
   "name": "python",
   "nbconvert_exporter": "python",
   "pygments_lexer": "ipython3",
   "version": "3.12.11"
  }
 },
 "nbformat": 4,
 "nbformat_minor": 5
}
