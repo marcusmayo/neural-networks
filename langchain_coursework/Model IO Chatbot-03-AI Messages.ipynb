{
 "cells": [
  {
   "cell_type": "markdown",
   "id": "ce58af63-81f7-4450-8c59-0bc844636d47",
   "metadata": {},
   "source": [
    "# AI Message"
   ]
  },
  {
   "cell_type": "code",
   "execution_count": 1,
   "id": "7defa008-3903-4811-af34-33fa6cd77c15",
   "metadata": {},
   "outputs": [],
   "source": [
    "# Load the environment variable\n",
    "%load_ext dotenv\n",
    "%dotenv"
   ]
  },
  {
   "cell_type": "code",
   "execution_count": 2,
   "id": "c4f9e64c-57c1-4bed-890e-7ba1d4fa1f59",
   "metadata": {},
   "outputs": [],
   "source": [
    "# Import modules\n",
    "from langchain_openai.chat_models import ChatOpenAI\n",
    "\n",
    "from langchain_core.messages import HumanMessage, AIMessage"
   ]
  },
  {
   "cell_type": "code",
   "execution_count": 20,
   "id": "ab1b7c45-da86-46e3-9484-aca4c8a44b0c",
   "metadata": {},
   "outputs": [],
   "source": [
    "# Create chat variable\n",
    "chat = ChatOpenAI(model_name = 'gpt-4', \n",
    "                  seed = 365,\n",
    "                  temperature = 0,\n",
    "                  max_tokens = 150)"
   ]
  },
  {
   "cell_type": "code",
   "execution_count": 21,
   "id": "96b25a72-4f3b-4522-af3b-f4a511ba52c4",
   "metadata": {},
   "outputs": [],
   "source": [
    "# Define Message content\n",
    "message_h_dog = HumanMessage(content = ''' I've recently adopted a dog. Can you suggest some dog names? ''' )\n",
    "message_ai_dog = AIMessage(content = ''' Oh, absolutely. Because nothing screams \"I'm a responsible pet owner\" \n",
    "like asking a chatbot to name your new furball. How about \"Bark Twain\" (if it's a literary hound)? ''')\n",
    "\n",
    "message_h_cat = HumanMessage(content = ''' I've recently adopted a cat. Can you suggest some cat names? ''' )\n",
    "message_ai_cat = AIMessage(content = ''' Oh, absolutely. Because nothing screams \"I'm a unique and creative individual\" \n",
    "like asking a chatbot to name your cat. How about \"Furry McFurFace\", \"Sir Meowsalot\", or \"Catastrophe\"? ''')\n",
    "\n",
    "message_h_fish = HumanMessage(content = ''' I've recently adopted a fish. Can you suggest some fish names? ''' )"
   ]
  },
  {
   "cell_type": "code",
   "execution_count": 22,
   "id": "da58d264-c36f-4574-8b1b-4ab4e08eb890",
   "metadata": {},
   "outputs": [],
   "source": [
    "# Define response\n",
    "response = chat.invoke([message_h_dog, message_ai_dog, message_h_cat, message_ai_cat, message_h_fish])"
   ]
  },
  {
   "cell_type": "code",
   "execution_count": 23,
   "id": "da181a9e-02f4-4ded-81bc-55c9593f8d55",
   "metadata": {},
   "outputs": [
    {
     "data": {
      "text/plain": [
       "AIMessage(content='Of course! How about \"Finley\", \"Bubbles\", \"Sushi\", \"Nemo\", or \"Goldie\"?', additional_kwargs={'refusal': None}, response_metadata={'token_usage': {'completion_tokens': 26, 'prompt_tokens': 166, 'total_tokens': 192, 'completion_tokens_details': {'accepted_prediction_tokens': 0, 'audio_tokens': 0, 'reasoning_tokens': 0, 'rejected_prediction_tokens': 0}, 'prompt_tokens_details': {'audio_tokens': 0, 'cached_tokens': 0}}, 'model_name': 'gpt-4-0613', 'system_fingerprint': None, 'id': 'chatcmpl-BnnHNSS5wKCnJ2W144VQoabAGYmF7', 'service_tier': 'default', 'finish_reason': 'stop', 'logprobs': None}, id='run--42f09172-8216-46bb-8888-3eb93da00361-0', usage_metadata={'input_tokens': 166, 'output_tokens': 26, 'total_tokens': 192, 'input_token_details': {'audio': 0, 'cache_read': 0}, 'output_token_details': {'audio': 0, 'reasoning': 0}})"
      ]
     },
     "execution_count": 23,
     "metadata": {},
     "output_type": "execute_result"
    }
   ],
   "source": [
    "# Print response\n",
    "response"
   ]
  },
  {
   "cell_type": "code",
   "execution_count": 24,
   "id": "4214d648-2540-4660-8f01-c3c08d962f8a",
   "metadata": {},
   "outputs": [
    {
     "name": "stdout",
     "output_type": "stream",
     "text": [
      "Of course! How about \"Finley\", \"Bubbles\", \"Sushi\", \"Nemo\", or \"Goldie\"?\n"
     ]
    }
   ],
   "source": [
    "# Print response in human readable format\n",
    "print(response.content)"
   ]
  },
  {
   "cell_type": "code",
   "execution_count": null,
   "id": "17e28e1c-77e5-45ef-981d-f05205c42436",
   "metadata": {},
   "outputs": [],
   "source": []
  }
 ],
 "metadata": {
  "kernelspec": {
   "display_name": "langchain_env_py312",
   "language": "python",
   "name": "langchain_env_py312"
  },
  "language_info": {
   "codemirror_mode": {
    "name": "ipython",
    "version": 3
   },
   "file_extension": ".py",
   "mimetype": "text/x-python",
   "name": "python",
   "nbconvert_exporter": "python",
   "pygments_lexer": "ipython3",
   "version": "3.12.11"
  }
 },
 "nbformat": 4,
 "nbformat_minor": 5
}
