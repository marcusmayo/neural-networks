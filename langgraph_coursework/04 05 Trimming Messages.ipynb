{
 "cells": [
  {
   "cell_type": "markdown",
   "id": "6031a3a5",
   "metadata": {},
   "source": [
    "# Trimming Messages"
   ]
  },
  {
   "cell_type": "markdown",
   "id": "f6b9d646",
   "metadata": {},
   "source": [
    "### Set the OpenAI API Key as an Environment Variable"
   ]
  },
  {
   "cell_type": "code",
   "execution_count": 1,
   "id": "a0680bc5",
   "metadata": {},
   "outputs": [],
   "source": [
    "%load_ext dotenv\n",
    "%dotenv\n",
    "%load_ext mypy_ipython"
   ]
  },
  {
   "cell_type": "markdown",
   "id": "8d324ad4",
   "metadata": {},
   "source": [
    "### Import Relevant Classes and Functions"
   ]
  },
  {
   "cell_type": "code",
   "execution_count": 2,
   "id": "dfe1f1e5",
   "metadata": {},
   "outputs": [],
   "source": [
    "from langgraph.graph import START, END, StateGraph, add_messages, MessagesState\n",
    "from typing_extensions import TypedDict\n",
    "from langchain_openai.chat_models import ChatOpenAI\n",
    "from langchain_core.messages import AIMessage, HumanMessage, BaseMessage, RemoveMessage\n",
    "from collections.abc import Sequence\n",
    "from typing import Literal, Annotated"
   ]
  },
  {
   "cell_type": "markdown",
   "id": "dc5d9eb4",
   "metadata": {},
   "source": [
    "### Define the Nodes"
   ]
  },
  {
   "cell_type": "code",
   "execution_count": 3,
   "id": "e8769981",
   "metadata": {},
   "outputs": [],
   "source": [
    "chat = ChatOpenAI(model = \"gpt-4o\", \n",
    "                  seed = 365, \n",
    "                  temperature = 0, \n",
    "                  max_completion_tokens = 100)"
   ]
  },
  {
   "cell_type": "code",
   "execution_count": 4,
   "id": "a0ba824c",
   "metadata": {},
   "outputs": [],
   "source": [
    "def ask_question(state: MessagesState) -> MessagesState:\n",
    "    \n",
    "    print(f\"\\n-------> ENTERING ask_question:\")\n",
    "    for i in state[\"messages\"]:\n",
    "        i.pretty_print()\n",
    "    \n",
    "    question = \"What is your question?\"\n",
    "    print(question)\n",
    "    \n",
    "    return MessagesState(messages = [AIMessage(question), HumanMessage(input())])"
   ]
  },
  {
   "cell_type": "code",
   "execution_count": 5,
   "id": "2ccf17a9",
   "metadata": {},
   "outputs": [],
   "source": [
    "def chatbot(state: MessagesState) -> MessagesState:\n",
    "    \n",
    "    print(f\"\\n-------> ENTERING chatbot:\")\n",
    "    for i in state[\"messages\"]:\n",
    "        i.pretty_print()\n",
    "    \n",
    "    response = chat.invoke(state[\"messages\"])\n",
    "    response.pretty_print()\n",
    "    \n",
    "    return MessagesState(messages = [response])"
   ]
  },
  {
   "cell_type": "code",
   "execution_count": 6,
   "id": "19a6bbf6",
   "metadata": {},
   "outputs": [],
   "source": [
    "def ask_another_question(state: MessagesState) -> MessagesState:\n",
    "    \n",
    "    print(f\"\\n-------> ENTERING ask_another_question:\")\n",
    "    for i in state[\"messages\"]:\n",
    "        i.pretty_print()\n",
    "    \n",
    "    question = \"Would you like to ask one more question (yes/no)?\"\n",
    "    print(question)\n",
    "    \n",
    "    return MessagesState(messages = [AIMessage(question), HumanMessage(input())])"
   ]
  },
  {
   "cell_type": "code",
   "execution_count": 7,
   "id": "cc80b050",
   "metadata": {},
   "outputs": [],
   "source": [
    "def trim_messages(state: MessagesState) -> MessagesState:\n",
    "    print(f\"\\n-------> ENTERING trim_messages:\")\n",
    "    \n",
    "    remove_messages = [RemoveMessage(id = i.id) for i in state[\"messages\"][:-5]]\n",
    "    \n",
    "    return MessagesState(messages = remove_messages)"
   ]
  },
  {
   "cell_type": "markdown",
   "id": "27a00ccf",
   "metadata": {},
   "source": [
    "### Define the Routing Function"
   ]
  },
  {
   "cell_type": "code",
   "execution_count": 8,
   "id": "3af6bae6",
   "metadata": {},
   "outputs": [],
   "source": [
    "def routing_function(state: MessagesState) -> Literal[\"trim_messages\", \"__end__\"]:\n",
    "    \n",
    "    if state[\"messages\"][-1].content == \"yes\":\n",
    "        return \"trim_messages\"\n",
    "    else:\n",
    "        return \"__end__\""
   ]
  },
  {
   "cell_type": "markdown",
   "id": "0e619ab9",
   "metadata": {},
   "source": [
    "### Define the Graph"
   ]
  },
  {
   "cell_type": "code",
   "execution_count": 9,
   "id": "6761dc27",
   "metadata": {},
   "outputs": [],
   "source": [
    "graph = StateGraph(MessagesState)"
   ]
  },
  {
   "cell_type": "code",
   "execution_count": 10,
   "id": "6ee92c2b",
   "metadata": {},
   "outputs": [
    {
     "data": {
      "text/plain": [
       "<langgraph.graph.state.StateGraph at 0x195916775d0>"
      ]
     },
     "execution_count": 10,
     "metadata": {},
     "output_type": "execute_result"
    }
   ],
   "source": [
    "graph.add_node(\"ask_question\", ask_question)\n",
    "graph.add_node(\"chatbot\", chatbot)\n",
    "graph.add_node(\"ask_another_question\", ask_another_question)\n",
    "graph.add_node(\"trim_messages\", trim_messages)\n",
    "\n",
    "graph.add_edge(START, \"ask_question\")\n",
    "graph.add_edge(\"ask_question\", \"chatbot\")\n",
    "graph.add_edge(\"chatbot\", \"ask_another_question\")\n",
    "graph.add_conditional_edges(source = \"ask_another_question\", \n",
    "                            path = routing_function)\n",
    "graph.add_edge(\"trim_messages\", \"ask_question\")"
   ]
  },
  {
   "cell_type": "code",
   "execution_count": 11,
   "id": "2423cb76",
   "metadata": {},
   "outputs": [],
   "source": [
    "graph_compiled = graph.compile()"
   ]
  },
  {
   "cell_type": "code",
   "execution_count": 12,
   "id": "1b749c11",
   "metadata": {},
   "outputs": [
    {
     "data": {
      "image/png": "[encoded data removed]",
      "text/plain": [
       "<langgraph.graph.state.CompiledStateGraph object at 0x00000195916C0790>"
      ]
     },
     "execution_count": 12,
     "metadata": {},
     "output_type": "execute_result"
    }
   ],
   "source": [
    "graph_compiled"
   ]
  },
  {
   "cell_type": "markdown",
   "id": "4d30cc9c",
   "metadata": {},
   "source": [
    "### Test the Graph"
   ]
  },
  {
   "cell_type": "code",
   "execution_count": 14,
   "id": "281a2ee0",
   "metadata": {},
   "outputs": [
    {
     "name": "stdout",
     "output_type": "stream",
     "text": [
      "\n",
      "-------> ENTERING ask_question:\n",
      "What is your question?\n"
     ]
    },
    {
     "name": "stdin",
     "output_type": "stream",
     "text": [
      " What is the shortest bible verse?\n"
     ]
    },
    {
     "name": "stdout",
     "output_type": "stream",
     "text": [
      "\n",
      "-------> ENTERING chatbot:\n",
      "==================================\u001b[1m Ai Message \u001b[0m==================================\n",
      "\n",
      "What is your question?\n",
      "================================\u001b[1m Human Message \u001b[0m=================================\n",
      "\n",
      "What is the shortest bible verse?\n",
      "==================================\u001b[1m Ai Message \u001b[0m==================================\n",
      "\n",
      "The shortest verse in the Bible is John 11:35, which simply states, \"Jesus wept.\"\n",
      "\n",
      "-------> ENTERING ask_another_question:\n",
      "==================================\u001b[1m Ai Message \u001b[0m==================================\n",
      "\n",
      "What is your question?\n",
      "================================\u001b[1m Human Message \u001b[0m=================================\n",
      "\n",
      "What is the shortest bible verse?\n",
      "==================================\u001b[1m Ai Message \u001b[0m==================================\n",
      "\n",
      "The shortest verse in the Bible is John 11:35, which simply states, \"Jesus wept.\"\n",
      "Would you like to ask one more question (yes/no)?\n"
     ]
    },
    {
     "name": "stdin",
     "output_type": "stream",
     "text": [
      " yes\n"
     ]
    },
    {
     "name": "stdout",
     "output_type": "stream",
     "text": [
      "\n",
      "-------> ENTERING trim_messages:\n",
      "\n",
      "-------> ENTERING ask_question:\n",
      "==================================\u001b[1m Ai Message \u001b[0m==================================\n",
      "\n",
      "What is your question?\n",
      "================================\u001b[1m Human Message \u001b[0m=================================\n",
      "\n",
      "What is the shortest bible verse?\n",
      "==================================\u001b[1m Ai Message \u001b[0m==================================\n",
      "\n",
      "The shortest verse in the Bible is John 11:35, which simply states, \"Jesus wept.\"\n",
      "==================================\u001b[1m Ai Message \u001b[0m==================================\n",
      "\n",
      "Would you like to ask one more question (yes/no)?\n",
      "================================\u001b[1m Human Message \u001b[0m=================================\n",
      "\n",
      "yes\n",
      "What is your question?\n"
     ]
    },
    {
     "name": "stdin",
     "output_type": "stream",
     "text": [
      " what else did he do?\n"
     ]
    },
    {
     "name": "stdout",
     "output_type": "stream",
     "text": [
      "\n",
      "-------> ENTERING chatbot:\n",
      "==================================\u001b[1m Ai Message \u001b[0m==================================\n",
      "\n",
      "What is your question?\n",
      "================================\u001b[1m Human Message \u001b[0m=================================\n",
      "\n",
      "What is the shortest bible verse?\n",
      "==================================\u001b[1m Ai Message \u001b[0m==================================\n",
      "\n",
      "The shortest verse in the Bible is John 11:35, which simply states, \"Jesus wept.\"\n",
      "==================================\u001b[1m Ai Message \u001b[0m==================================\n",
      "\n",
      "Would you like to ask one more question (yes/no)?\n",
      "================================\u001b[1m Human Message \u001b[0m=================================\n",
      "\n",
      "yes\n",
      "==================================\u001b[1m Ai Message \u001b[0m==================================\n",
      "\n",
      "What is your question?\n",
      "================================\u001b[1m Human Message \u001b[0m=================================\n",
      "\n",
      "what else did he do?\n",
      "==================================\u001b[1m Ai Message \u001b[0m==================================\n",
      "\n",
      "In the context of John 11, where the shortest verse \"Jesus wept\" is found, Jesus was deeply moved by the death of his friend Lazarus and the grief of Lazarus's sisters, Mary and Martha. After expressing his own sorrow, Jesus went on to perform a significant miracle. He asked for the stone to be removed from Lazarus's tomb, prayed to God, and then called Lazarus to come out. Lazarus, who had been dead for four days, emerged from\n",
      "\n",
      "-------> ENTERING ask_another_question:\n",
      "==================================\u001b[1m Ai Message \u001b[0m==================================\n",
      "\n",
      "What is your question?\n",
      "================================\u001b[1m Human Message \u001b[0m=================================\n",
      "\n",
      "What is the shortest bible verse?\n",
      "==================================\u001b[1m Ai Message \u001b[0m==================================\n",
      "\n",
      "The shortest verse in the Bible is John 11:35, which simply states, \"Jesus wept.\"\n",
      "==================================\u001b[1m Ai Message \u001b[0m==================================\n",
      "\n",
      "Would you like to ask one more question (yes/no)?\n",
      "================================\u001b[1m Human Message \u001b[0m=================================\n",
      "\n",
      "yes\n",
      "==================================\u001b[1m Ai Message \u001b[0m==================================\n",
      "\n",
      "What is your question?\n",
      "================================\u001b[1m Human Message \u001b[0m=================================\n",
      "\n",
      "what else did he do?\n",
      "==================================\u001b[1m Ai Message \u001b[0m==================================\n",
      "\n",
      "In the context of John 11, where the shortest verse \"Jesus wept\" is found, Jesus was deeply moved by the death of his friend Lazarus and the grief of Lazarus's sisters, Mary and Martha. After expressing his own sorrow, Jesus went on to perform a significant miracle. He asked for the stone to be removed from Lazarus's tomb, prayed to God, and then called Lazarus to come out. Lazarus, who had been dead for four days, emerged from\n",
      "Would you like to ask one more question (yes/no)?\n"
     ]
    },
    {
     "name": "stdin",
     "output_type": "stream",
     "text": [
      " yes\n"
     ]
    },
    {
     "name": "stdout",
     "output_type": "stream",
     "text": [
      "\n",
      "-------> ENTERING trim_messages:\n",
      "\n",
      "-------> ENTERING ask_question:\n",
      "==================================\u001b[1m Ai Message \u001b[0m==================================\n",
      "\n",
      "What is your question?\n",
      "================================\u001b[1m Human Message \u001b[0m=================================\n",
      "\n",
      "what else did he do?\n",
      "==================================\u001b[1m Ai Message \u001b[0m==================================\n",
      "\n",
      "In the context of John 11, where the shortest verse \"Jesus wept\" is found, Jesus was deeply moved by the death of his friend Lazarus and the grief of Lazarus's sisters, Mary and Martha. After expressing his own sorrow, Jesus went on to perform a significant miracle. He asked for the stone to be removed from Lazarus's tomb, prayed to God, and then called Lazarus to come out. Lazarus, who had been dead for four days, emerged from\n",
      "==================================\u001b[1m Ai Message \u001b[0m==================================\n",
      "\n",
      "Would you like to ask one more question (yes/no)?\n",
      "================================\u001b[1m Human Message \u001b[0m=================================\n",
      "\n",
      "yes\n",
      "What is your question?\n"
     ]
    },
    {
     "name": "stdin",
     "output_type": "stream",
     "text": [
      " Do you remember the bible verse you told me?\n"
     ]
    },
    {
     "name": "stdout",
     "output_type": "stream",
     "text": [
      "\n",
      "-------> ENTERING chatbot:\n",
      "==================================\u001b[1m Ai Message \u001b[0m==================================\n",
      "\n",
      "What is your question?\n",
      "================================\u001b[1m Human Message \u001b[0m=================================\n",
      "\n",
      "what else did he do?\n",
      "==================================\u001b[1m Ai Message \u001b[0m==================================\n",
      "\n",
      "In the context of John 11, where the shortest verse \"Jesus wept\" is found, Jesus was deeply moved by the death of his friend Lazarus and the grief of Lazarus's sisters, Mary and Martha. After expressing his own sorrow, Jesus went on to perform a significant miracle. He asked for the stone to be removed from Lazarus's tomb, prayed to God, and then called Lazarus to come out. Lazarus, who had been dead for four days, emerged from\n",
      "==================================\u001b[1m Ai Message \u001b[0m==================================\n",
      "\n",
      "Would you like to ask one more question (yes/no)?\n",
      "================================\u001b[1m Human Message \u001b[0m=================================\n",
      "\n",
      "yes\n",
      "==================================\u001b[1m Ai Message \u001b[0m==================================\n",
      "\n",
      "What is your question?\n",
      "================================\u001b[1m Human Message \u001b[0m=================================\n",
      "\n",
      "Do you remember the bible verse you told me?\n",
      "==================================\u001b[1m Ai Message \u001b[0m==================================\n",
      "\n",
      "Yes, I mentioned John 11:35, which is the shortest verse in the Bible: \"Jesus wept.\" This verse is part of the story where Jesus raises Lazarus from the dead. If you have more questions about this passage or any other topic, feel free to ask!\n",
      "\n",
      "-------> ENTERING ask_another_question:\n",
      "==================================\u001b[1m Ai Message \u001b[0m==================================\n",
      "\n",
      "What is your question?\n",
      "================================\u001b[1m Human Message \u001b[0m=================================\n",
      "\n",
      "what else did he do?\n",
      "==================================\u001b[1m Ai Message \u001b[0m==================================\n",
      "\n",
      "In the context of John 11, where the shortest verse \"Jesus wept\" is found, Jesus was deeply moved by the death of his friend Lazarus and the grief of Lazarus's sisters, Mary and Martha. After expressing his own sorrow, Jesus went on to perform a significant miracle. He asked for the stone to be removed from Lazarus's tomb, prayed to God, and then called Lazarus to come out. Lazarus, who had been dead for four days, emerged from\n",
      "==================================\u001b[1m Ai Message \u001b[0m==================================\n",
      "\n",
      "Would you like to ask one more question (yes/no)?\n",
      "================================\u001b[1m Human Message \u001b[0m=================================\n",
      "\n",
      "yes\n",
      "==================================\u001b[1m Ai Message \u001b[0m==================================\n",
      "\n",
      "What is your question?\n",
      "================================\u001b[1m Human Message \u001b[0m=================================\n",
      "\n",
      "Do you remember the bible verse you told me?\n",
      "==================================\u001b[1m Ai Message \u001b[0m==================================\n",
      "\n",
      "Yes, I mentioned John 11:35, which is the shortest verse in the Bible: \"Jesus wept.\" This verse is part of the story where Jesus raises Lazarus from the dead. If you have more questions about this passage or any other topic, feel free to ask!\n",
      "Would you like to ask one more question (yes/no)?\n"
     ]
    },
    {
     "name": "stdin",
     "output_type": "stream",
     "text": [
      " no\n"
     ]
    },
    {
     "data": {
      "text/plain": [
       "{'messages': [AIMessage(content='What is your question?', additional_kwargs={}, response_metadata={}, id='bfcfd958-0022-4596-87c3-ee31ebf5d836'),\n",
       "  HumanMessage(content='what else did he do?', additional_kwargs={}, response_metadata={}, id='d8f2e55a-b5a1-4272-ad19-cf969031b219'),\n",
       "  AIMessage(content='In the context of John 11, where the shortest verse \"Jesus wept\" is found, Jesus was deeply moved by the death of his friend Lazarus and the grief of Lazarus\\'s sisters, Mary and Martha. After expressing his own sorrow, Jesus went on to perform a significant miracle. He asked for the stone to be removed from Lazarus\\'s tomb, prayed to God, and then called Lazarus to come out. Lazarus, who had been dead for four days, emerged from', additional_kwargs={'refusal': None}, response_metadata={'token_usage': {'completion_tokens': 100, 'prompt_tokens': 89, 'total_tokens': 189, 'completion_tokens_details': {'accepted_prediction_tokens': 0, 'audio_tokens': 0, 'reasoning_tokens': 0, 'rejected_prediction_tokens': 0}, 'prompt_tokens_details': {'audio_tokens': 0, 'cached_tokens': 0}}, 'model_name': 'gpt-4o-2024-08-06', 'system_fingerprint': 'fp_07871e2ad8', 'id': 'chatcmpl-Bz4BeFZrAB936roTppr3Ys2nL4rJW', 'service_tier': 'default', 'finish_reason': 'length', 'logprobs': None}, id='run--68cf3336-fce6-4b16-813f-28a14e9ddc5a-0', usage_metadata={'input_tokens': 89, 'output_tokens': 100, 'total_tokens': 189, 'input_token_details': {'audio': 0, 'cache_read': 0}, 'output_token_details': {'audio': 0, 'reasoning': 0}}),\n",
       "  AIMessage(content='Would you like to ask one more question (yes/no)?', additional_kwargs={}, response_metadata={}, id='37d07c04-e760-4d4d-9d17-a9e57e50e577'),\n",
       "  HumanMessage(content='yes', additional_kwargs={}, response_metadata={}, id='1b510381-012f-4e78-89ca-e78a3c637d03'),\n",
       "  AIMessage(content='What is your question?', additional_kwargs={}, response_metadata={}, id='cf2b0a0e-ecbe-4c46-a66c-856856d5e7e3'),\n",
       "  HumanMessage(content='Do you remember the bible verse you told me?', additional_kwargs={}, response_metadata={}, id='e994fd06-e6c6-4698-b972-8fe4659fc8a3'),\n",
       "  AIMessage(content='Yes, I mentioned John 11:35, which is the shortest verse in the Bible: \"Jesus wept.\" This verse is part of the story where Jesus raises Lazarus from the dead. If you have more questions about this passage or any other topic, feel free to ask!', additional_kwargs={'refusal': None}, response_metadata={'token_usage': {'completion_tokens': 58, 'prompt_tokens': 170, 'total_tokens': 228, 'completion_tokens_details': {'accepted_prediction_tokens': 0, 'audio_tokens': 0, 'reasoning_tokens': 0, 'rejected_prediction_tokens': 0}, 'prompt_tokens_details': {'audio_tokens': 0, 'cached_tokens': 0}}, 'model_name': 'gpt-4o-2024-08-06', 'system_fingerprint': 'fp_07871e2ad8', 'id': 'chatcmpl-Bz4CAzdmgIU7fj86yjYOfY4Mnu5WI', 'service_tier': 'default', 'finish_reason': 'stop', 'logprobs': None}, id='run--53cd2a86-8cc3-43df-8187-a5898612f66c-0', usage_metadata={'input_tokens': 170, 'output_tokens': 58, 'total_tokens': 228, 'input_token_details': {'audio': 0, 'cache_read': 0}, 'output_token_details': {'audio': 0, 'reasoning': 0}}),\n",
       "  AIMessage(content='Would you like to ask one more question (yes/no)?', additional_kwargs={}, response_metadata={}, id='77114506-a258-466e-92e4-3c16a8c74f93'),\n",
       "  HumanMessage(content='no', additional_kwargs={}, response_metadata={}, id='19de0446-6499-4285-8cee-ce072fadc6aa')]}"
      ]
     },
     "execution_count": 14,
     "metadata": {},
     "output_type": "execute_result"
    }
   ],
   "source": [
    "graph_compiled.invoke(MessagesState(messages = []))"
   ]
  },
  {
   "cell_type": "code",
   "execution_count": null,
   "id": "3b5bf9a6",
   "metadata": {},
   "outputs": [],
   "source": []
  },
  {
   "cell_type": "code",
   "execution_count": null,
   "id": "e1a50cc4",
   "metadata": {},
   "outputs": [],
   "source": []
  },
  {
   "cell_type": "code",
   "execution_count": null,
   "id": "5c41d0d7",
   "metadata": {},
   "outputs": [],
   "source": []
  },
  {
   "cell_type": "code",
   "execution_count": null,
   "id": "ff7da38b",
   "metadata": {},
   "outputs": [],
   "source": []
  },
  {
   "cell_type": "code",
   "execution_count": null,
   "id": "70026368",
   "metadata": {},
   "outputs": [],
   "source": []
  },
  {
   "cell_type": "code",
   "execution_count": null,
   "id": "55f7af45",
   "metadata": {},
   "outputs": [],
   "source": []
  },
  {
   "cell_type": "code",
   "execution_count": null,
   "id": "a483466c",
   "metadata": {},
   "outputs": [],
   "source": []
  },
  {
   "cell_type": "code",
   "execution_count": null,
   "id": "d604b0c0",
   "metadata": {},
   "outputs": [],
   "source": []
  },
  {
   "cell_type": "code",
   "execution_count": null,
   "id": "bc7bb28e",
   "metadata": {},
   "outputs": [],
   "source": []
  },
  {
   "cell_type": "code",
   "execution_count": null,
   "id": "353014e0",
   "metadata": {},
   "outputs": [],
   "source": []
  }
 ],
 "metadata": {
  "kernelspec": {
   "display_name": "langgraph_env",
   "language": "python",
   "name": "langgraph_env"
  },
  "language_info": {
   "codemirror_mode": {
    "name": "ipython",
    "version": 3
   },
   "file_extension": ".py",
   "mimetype": "text/x-python",
   "name": "python",
   "nbconvert_exporter": "python",
   "pygments_lexer": "ipython3",
   "version": "3.11.11"
  }
 },
 "nbformat": 4,
 "nbformat_minor": 5
}
