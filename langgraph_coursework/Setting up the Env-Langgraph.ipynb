{
 "cells": [
  {
   "cell_type": "code",
   "execution_count": null,
   "id": "44f8878b-aed9-40e6-9458-8171e8b6f549",
   "metadata": {},
   "outputs": [],
   "source": [
    "import os"
   ]
  },
  {
   "cell_type": "code",
   "execution_count": null,
   "id": "5fadfbce-c3c2-44ed-be4a-b6e8a5143784",
   "metadata": {},
   "outputs": [],
   "source": [
    "os.environ.items()"
   ]
  },
  {
   "cell_type": "code",
   "execution_count": null,
   "id": "11b99492-c821-4e68-a5d9-2102caf1d62a",
   "metadata": {},
   "outputs": [],
   "source": [
    "for key, value in os.environ.items():\n",
    "    if key == 'OPENAI_API_KEY':\n",
    "      print(f\"{key}:{value}\")"
   ]
  },
  {
   "cell_type": "code",
   "execution_count": null,
   "id": "1d1755bd-e09f-49e8-a295-095de87e8521",
   "metadata": {},
   "outputs": [],
   "source": [
    "%reload_ext dotenv\n",
    "%dotenv"
   ]
  },
  {
   "cell_type": "code",
   "execution_count": null,
   "id": "b2ec753e-5bf2-4f9f-9b42-655d99b4ce2a",
   "metadata": {},
   "outputs": [],
   "source": [
    "# Ensure .env exists in the working drive and .txt is not appended to the file\n",
    "print(\"Current working directory:\", os.getcwd())\n",
    "print(\"Files in current directory:\", os.listdir('.'))"
   ]
  },
  {
   "cell_type": "code",
   "execution_count": null,
   "id": "cd52eab8-7b60-4acd-b76f-b9010c088874",
   "metadata": {},
   "outputs": [],
   "source": []
  }
 ],
 "metadata": {
  "kernelspec": {
   "display_name": "langgraph_env",
   "language": "python",
   "name": "langgraph_env"
  },
  "language_info": {
   "codemirror_mode": {
    "name": "ipython",
    "version": 3
   },
   "file_extension": ".py",
   "mimetype": "text/x-python",
   "name": "python",
   "nbconvert_exporter": "python",
   "pygments_lexer": "ipython3",
   "version": "3.11.11"
  }
 },
 "nbformat": 4,
 "nbformat_minor": 5
}
