{
 "cells": [
  {
   "cell_type": "markdown",
   "id": "6031a3a5",
   "metadata": {},
   "source": [
    "# Reducer Functions in Action"
   ]
  },
  {
   "cell_type": "markdown",
   "id": "f6b9d646",
   "metadata": {},
   "source": [
    "### Set the OpenAI API Key as an Environment Variable"
   ]
  },
  {
   "cell_type": "code",
   "execution_count": 1,
   "id": "a0680bc5",
   "metadata": {},
   "outputs": [],
   "source": [
    "%load_ext dotenv\n",
    "%dotenv\n",
    "%load_ext mypy_ipython"
   ]
  },
  {
   "cell_type": "markdown",
   "id": "8d324ad4",
   "metadata": {},
   "source": [
    "### Import Relevant Classes and Functions"
   ]
  },
  {
   "cell_type": "code",
   "execution_count": 2,
   "id": "dfe1f1e5",
   "metadata": {},
   "outputs": [],
   "source": [
    "from langgraph.graph import START, END, StateGraph, add_messages\n",
    "from typing_extensions import TypedDict\n",
    "from langchain_openai.chat_models import ChatOpenAI\n",
    "from langchain_core.messages import AIMessage, HumanMessage, BaseMessage\n",
    "from collections.abc import Sequence\n",
    "from typing import Literal, Annotated"
   ]
  },
  {
   "cell_type": "markdown",
   "id": "6eb5e035",
   "metadata": {},
   "source": [
    "### Get Familiar with the add_messages Function"
   ]
  },
  {
   "cell_type": "code",
   "execution_count": 3,
   "id": "393c8b7f",
   "metadata": {},
   "outputs": [],
   "source": [
    "my_list = add_messages([HumanMessage(\"Hi! I'm Oscar.\"), \n",
    "                        AIMessage(\"Hey, Oscar. How can I assist you?\")],\n",
    "                       [HumanMessage(\"Could you summarize today's news?\")])"
   ]
  },
  {
   "cell_type": "code",
   "execution_count": 4,
   "id": "d4a5e0f4",
   "metadata": {},
   "outputs": [
    {
     "data": {
      "text/plain": [
       "[HumanMessage(content=\"Hi! I'm Oscar.\", additional_kwargs={}, response_metadata={}, id='c505cc6b-b2df-4951-b87a-91492c73c2b6'),\n",
       " AIMessage(content='Hey, Oscar. How can I assist you?', additional_kwargs={}, response_metadata={}, id='d33241b3-3fcc-4884-a3b0-1fc2acc250da'),\n",
       " HumanMessage(content=\"Could you summarize today's news?\", additional_kwargs={}, response_metadata={}, id='a4f164b0-0d2e-4d75-874f-fab3b0aa3c54')]"
      ]
     },
     "execution_count": 4,
     "metadata": {},
     "output_type": "execute_result"
    }
   ],
   "source": [
    "my_list"
   ]
  },
  {
   "cell_type": "markdown",
   "id": "a0542967",
   "metadata": {},
   "source": [
    "### Define the State"
   ]
  },
  {
   "cell_type": "code",
   "execution_count": 5,
   "id": "15a836f0",
   "metadata": {},
   "outputs": [],
   "source": [
    "class State(TypedDict):\n",
    "    messages: Annotated[Sequence[BaseMessage], add_messages]"
   ]
  },
  {
   "cell_type": "markdown",
   "id": "dc5d9eb4",
   "metadata": {},
   "source": [
    "### Define the Nodes"
   ]
  },
  {
   "cell_type": "code",
   "execution_count": 6,
   "id": "e8769981",
   "metadata": {},
   "outputs": [],
   "source": [
    "chat = ChatOpenAI(model = \"gpt-4o\", \n",
    "                  seed = 365, \n",
    "                  temperature = 0, \n",
    "                  max_completion_tokens = 100)"
   ]
  },
  {
   "cell_type": "code",
   "execution_count": 7,
   "id": "a0ba824c",
   "metadata": {},
   "outputs": [],
   "source": [
    "def ask_question(state: State) -> State:\n",
    "    \n",
    "    print(f\"\\n-------> ENTERING ask_question:\")\n",
    "    for i in state[\"messages\"]:\n",
    "        i.pretty_print()\n",
    "    \n",
    "    question = \"What is your question?\"\n",
    "    print(question)\n",
    "    \n",
    "    return State(messages = [AIMessage(question), HumanMessage(input())])"
   ]
  },
  {
   "cell_type": "code",
   "execution_count": 8,
   "id": "2ccf17a9",
   "metadata": {},
   "outputs": [],
   "source": [
    "def chatbot(state: State) -> State:\n",
    "    \n",
    "    print(f\"\\n-------> ENTERING chatbot:\")\n",
    "    for i in state[\"messages\"]:\n",
    "        i.pretty_print()\n",
    "    \n",
    "    response = chat.invoke(state[\"messages\"])\n",
    "    response.pretty_print()\n",
    "    \n",
    "    return State(messages = [response])"
   ]
  },
  {
   "cell_type": "code",
   "execution_count": 9,
   "id": "19a6bbf6",
   "metadata": {},
   "outputs": [],
   "source": [
    "def ask_another_question(state: State) -> State:\n",
    "    \n",
    "    print(f\"\\n-------> ENTERING ask_another_question:\")\n",
    "    for i in state[\"messages\"]:\n",
    "        i.pretty_print()\n",
    "    \n",
    "    question = \"Would you like to ask one more question (yes/no)?\"\n",
    "    print(question)\n",
    "    \n",
    "    return State(messages = [AIMessage(question), HumanMessage(input())])"
   ]
  },
  {
   "cell_type": "markdown",
   "id": "27a00ccf",
   "metadata": {},
   "source": [
    "### Define the Routing Function"
   ]
  },
  {
   "cell_type": "code",
   "execution_count": 10,
   "id": "3af6bae6",
   "metadata": {},
   "outputs": [],
   "source": [
    "def routing_function(state: State) -> Literal[\"ask_question\", \"__end__\"]:\n",
    "    \n",
    "    if state[\"messages\"][-1].content == \"yes\":\n",
    "        return \"ask_question\"\n",
    "    else:\n",
    "        return \"__end__\""
   ]
  },
  {
   "cell_type": "markdown",
   "id": "0e619ab9",
   "metadata": {},
   "source": [
    "### Define the Graph"
   ]
  },
  {
   "cell_type": "code",
   "execution_count": 11,
   "id": "6761dc27",
   "metadata": {},
   "outputs": [],
   "source": [
    "graph = StateGraph(State)"
   ]
  },
  {
   "cell_type": "code",
   "execution_count": 12,
   "id": "6ee92c2b",
   "metadata": {},
   "outputs": [
    {
     "data": {
      "text/plain": [
       "<langgraph.graph.state.StateGraph at 0x217bf97fd50>"
      ]
     },
     "execution_count": 12,
     "metadata": {},
     "output_type": "execute_result"
    }
   ],
   "source": [
    "graph.add_node(\"ask_question\", ask_question)\n",
    "graph.add_node(\"chatbot\", chatbot)\n",
    "graph.add_node(\"ask_another_question\", ask_another_question)\n",
    "\n",
    "graph.add_edge(START, \"ask_question\")\n",
    "graph.add_edge(\"ask_question\", \"chatbot\")\n",
    "graph.add_edge(\"chatbot\", \"ask_another_question\")\n",
    "graph.add_conditional_edges(source = \"ask_another_question\", \n",
    "                            path = routing_function)"
   ]
  },
  {
   "cell_type": "code",
   "execution_count": 13,
   "id": "2423cb76",
   "metadata": {},
   "outputs": [],
   "source": [
    "graph_compiled = graph.compile()"
   ]
  },
  {
   "cell_type": "code",
   "execution_count": 14,
   "id": "1b749c11",
   "metadata": {},
   "outputs": [
    {
     "data": {
      "image/png": "[encoded data removed]",
      "text/plain": [
       "<langgraph.graph.state.CompiledStateGraph object at 0x00000217C2F34710>"
      ]
     },
     "execution_count": 14,
     "metadata": {},
     "output_type": "execute_result"
    }
   ],
   "source": [
    "graph_compiled"
   ]
  },
  {
   "cell_type": "markdown",
   "id": "4d30cc9c",
   "metadata": {},
   "source": [
    "### Test the Graph"
   ]
  },
  {
   "cell_type": "code",
   "execution_count": 15,
   "id": "281a2ee0",
   "metadata": {},
   "outputs": [
    {
     "name": "stdout",
     "output_type": "stream",
     "text": [
      "\n",
      "-------> ENTERING ask_question:\n",
      "What is your question?\n"
     ]
    },
    {
     "name": "stdin",
     "output_type": "stream",
     "text": [
      " Could you tell me a grook by Piet Hein?\n"
     ]
    },
    {
     "name": "stdout",
     "output_type": "stream",
     "text": [
      "\n",
      "-------> ENTERING chatbot:\n",
      "==================================\u001b[1m Ai Message \u001b[0m==================================\n",
      "\n",
      "What is your question?\n",
      "================================\u001b[1m Human Message \u001b[0m=================================\n",
      "\n",
      "Could you tell me a grook by Piet Hein?\n",
      "==================================\u001b[1m Ai Message \u001b[0m==================================\n",
      "\n",
      "Certainly! Here's a well-known grook by Piet Hein:\n",
      "\n",
      "**The Road to Wisdom**\n",
      "\n",
      "The road to wisdom?—Well, it's plain\n",
      "and simple to express:\n",
      "Err\n",
      "and err\n",
      "and err again,\n",
      "but less\n",
      "and less\n",
      "and less.\n",
      "\n",
      "-------> ENTERING ask_another_question:\n",
      "==================================\u001b[1m Ai Message \u001b[0m==================================\n",
      "\n",
      "What is your question?\n",
      "================================\u001b[1m Human Message \u001b[0m=================================\n",
      "\n",
      "Could you tell me a grook by Piet Hein?\n",
      "==================================\u001b[1m Ai Message \u001b[0m==================================\n",
      "\n",
      "Certainly! Here's a well-known grook by Piet Hein:\n",
      "\n",
      "**The Road to Wisdom**\n",
      "\n",
      "The road to wisdom?—Well, it's plain\n",
      "and simple to express:\n",
      "Err\n",
      "and err\n",
      "and err again,\n",
      "but less\n",
      "and less\n",
      "and less.\n",
      "Would you like to ask one more question (yes/no)?\n"
     ]
    },
    {
     "name": "stdin",
     "output_type": "stream",
     "text": [
      " yes\n"
     ]
    },
    {
     "name": "stdout",
     "output_type": "stream",
     "text": [
      "\n",
      "-------> ENTERING ask_question:\n",
      "==================================\u001b[1m Ai Message \u001b[0m==================================\n",
      "\n",
      "What is your question?\n",
      "================================\u001b[1m Human Message \u001b[0m=================================\n",
      "\n",
      "Could you tell me a grook by Piet Hein?\n",
      "==================================\u001b[1m Ai Message \u001b[0m==================================\n",
      "\n",
      "Certainly! Here's a well-known grook by Piet Hein:\n",
      "\n",
      "**The Road to Wisdom**\n",
      "\n",
      "The road to wisdom?—Well, it's plain\n",
      "and simple to express:\n",
      "Err\n",
      "and err\n",
      "and err again,\n",
      "but less\n",
      "and less\n",
      "and less.\n",
      "==================================\u001b[1m Ai Message \u001b[0m==================================\n",
      "\n",
      "Would you like to ask one more question (yes/no)?\n",
      "================================\u001b[1m Human Message \u001b[0m=================================\n",
      "\n",
      "yes\n",
      "What is your question?\n"
     ]
    },
    {
     "name": "stdin",
     "output_type": "stream",
     "text": [
      " Where was the poet born?\n"
     ]
    },
    {
     "name": "stdout",
     "output_type": "stream",
     "text": [
      "\n",
      "-------> ENTERING chatbot:\n",
      "==================================\u001b[1m Ai Message \u001b[0m==================================\n",
      "\n",
      "What is your question?\n",
      "================================\u001b[1m Human Message \u001b[0m=================================\n",
      "\n",
      "Could you tell me a grook by Piet Hein?\n",
      "==================================\u001b[1m Ai Message \u001b[0m==================================\n",
      "\n",
      "Certainly! Here's a well-known grook by Piet Hein:\n",
      "\n",
      "**The Road to Wisdom**\n",
      "\n",
      "The road to wisdom?—Well, it's plain\n",
      "and simple to express:\n",
      "Err\n",
      "and err\n",
      "and err again,\n",
      "but less\n",
      "and less\n",
      "and less.\n",
      "==================================\u001b[1m Ai Message \u001b[0m==================================\n",
      "\n",
      "Would you like to ask one more question (yes/no)?\n",
      "================================\u001b[1m Human Message \u001b[0m=================================\n",
      "\n",
      "yes\n",
      "==================================\u001b[1m Ai Message \u001b[0m==================================\n",
      "\n",
      "What is your question?\n",
      "================================\u001b[1m Human Message \u001b[0m=================================\n",
      "\n",
      "Where was the poet born?\n",
      "==================================\u001b[1m Ai Message \u001b[0m==================================\n",
      "\n",
      "Piet Hein was born in Copenhagen, Denmark, on December 16, 1905.\n",
      "\n",
      "-------> ENTERING ask_another_question:\n",
      "==================================\u001b[1m Ai Message \u001b[0m==================================\n",
      "\n",
      "What is your question?\n",
      "================================\u001b[1m Human Message \u001b[0m=================================\n",
      "\n",
      "Could you tell me a grook by Piet Hein?\n",
      "==================================\u001b[1m Ai Message \u001b[0m==================================\n",
      "\n",
      "Certainly! Here's a well-known grook by Piet Hein:\n",
      "\n",
      "**The Road to Wisdom**\n",
      "\n",
      "The road to wisdom?—Well, it's plain\n",
      "and simple to express:\n",
      "Err\n",
      "and err\n",
      "and err again,\n",
      "but less\n",
      "and less\n",
      "and less.\n",
      "==================================\u001b[1m Ai Message \u001b[0m==================================\n",
      "\n",
      "Would you like to ask one more question (yes/no)?\n",
      "================================\u001b[1m Human Message \u001b[0m=================================\n",
      "\n",
      "yes\n",
      "==================================\u001b[1m Ai Message \u001b[0m==================================\n",
      "\n",
      "What is your question?\n",
      "================================\u001b[1m Human Message \u001b[0m=================================\n",
      "\n",
      "Where was the poet born?\n",
      "==================================\u001b[1m Ai Message \u001b[0m==================================\n",
      "\n",
      "Piet Hein was born in Copenhagen, Denmark, on December 16, 1905.\n",
      "Would you like to ask one more question (yes/no)?\n"
     ]
    },
    {
     "name": "stdin",
     "output_type": "stream",
     "text": [
      " no\n"
     ]
    },
    {
     "data": {
      "text/plain": [
       "{'messages': [AIMessage(content='What is your question?', additional_kwargs={}, response_metadata={}, id='31b37e30-088e-472a-a516-3d446da08f73'),\n",
       "  HumanMessage(content='Could you tell me a grook by Piet Hein?', additional_kwargs={}, response_metadata={}, id='2deaf34f-daf4-448f-96a6-88524d79a2bc'),\n",
       "  AIMessage(content=\"Certainly! Here's a well-known grook by Piet Hein:\\n\\n**The Road to Wisdom**\\n\\nThe road to wisdom?—Well, it's plain\\nand simple to express:\\nErr\\nand err\\nand err again,\\nbut less\\nand less\\nand less.\", additional_kwargs={'refusal': None}, response_metadata={'token_usage': {'completion_tokens': 52, 'prompt_tokens': 27, 'total_tokens': 79, 'completion_tokens_details': {'accepted_prediction_tokens': 0, 'audio_tokens': 0, 'reasoning_tokens': 0, 'rejected_prediction_tokens': 0}, 'prompt_tokens_details': {'audio_tokens': 0, 'cached_tokens': 0}}, 'model_name': 'gpt-4o-2024-08-06', 'system_fingerprint': 'fp_a288987b44', 'id': 'chatcmpl-Bz3iRdTwhdBAictkqP7XZuapkPLwk', 'service_tier': 'default', 'finish_reason': 'stop', 'logprobs': None}, id='run--62ee9418-6ac4-43ff-b027-d733893a23a2-0', usage_metadata={'input_tokens': 27, 'output_tokens': 52, 'total_tokens': 79, 'input_token_details': {'audio': 0, 'cache_read': 0}, 'output_token_details': {'audio': 0, 'reasoning': 0}}),\n",
       "  AIMessage(content='Would you like to ask one more question (yes/no)?', additional_kwargs={}, response_metadata={}, id='53f2e8d2-2615-4155-8d60-37f764551e63'),\n",
       "  HumanMessage(content='yes', additional_kwargs={}, response_metadata={}, id='71391169-385b-4ba1-9476-5aca1c3db748'),\n",
       "  AIMessage(content='What is your question?', additional_kwargs={}, response_metadata={}, id='5b5e7d11-b8ff-4bff-94ef-8bed7fc6ee6f'),\n",
       "  HumanMessage(content='Where was the poet born?', additional_kwargs={}, response_metadata={}, id='911589f3-b4b3-4e5a-9418-2eac06e796dd'),\n",
       "  AIMessage(content='Piet Hein was born in Copenhagen, Denmark, on December 16, 1905.', additional_kwargs={'refusal': None}, response_metadata={'token_usage': {'completion_tokens': 19, 'prompt_tokens': 123, 'total_tokens': 142, 'completion_tokens_details': {'accepted_prediction_tokens': 0, 'audio_tokens': 0, 'reasoning_tokens': 0, 'rejected_prediction_tokens': 0}, 'prompt_tokens_details': {'audio_tokens': 0, 'cached_tokens': 0}}, 'model_name': 'gpt-4o-2024-08-06', 'system_fingerprint': 'fp_a288987b44', 'id': 'chatcmpl-Bz3ixh4OaZpcCzHQwIYfyOFJaKEiS', 'service_tier': 'default', 'finish_reason': 'stop', 'logprobs': None}, id='run--00fa1e0b-0b0e-4767-a1f9-249c888b0b83-0', usage_metadata={'input_tokens': 123, 'output_tokens': 19, 'total_tokens': 142, 'input_token_details': {'audio': 0, 'cache_read': 0}, 'output_token_details': {'audio': 0, 'reasoning': 0}}),\n",
       "  AIMessage(content='Would you like to ask one more question (yes/no)?', additional_kwargs={}, response_metadata={}, id='227cb8ee-b0d7-4905-85b2-5c5730e26668'),\n",
       "  HumanMessage(content='no', additional_kwargs={}, response_metadata={}, id='fd910190-58f8-4522-8a7c-13df3b80d066')]}"
      ]
     },
     "execution_count": 15,
     "metadata": {},
     "output_type": "execute_result"
    }
   ],
   "source": [
    "graph_compiled.invoke(State(messages = []))"
   ]
  },
  {
   "cell_type": "code",
   "execution_count": null,
   "id": "3b5bf9a6",
   "metadata": {},
   "outputs": [],
   "source": []
  },
  {
   "cell_type": "code",
   "execution_count": null,
   "id": "e1a50cc4",
   "metadata": {},
   "outputs": [],
   "source": []
  },
  {
   "cell_type": "code",
   "execution_count": null,
   "id": "5c41d0d7",
   "metadata": {},
   "outputs": [],
   "source": []
  },
  {
   "cell_type": "code",
   "execution_count": null,
   "id": "ff7da38b",
   "metadata": {},
   "outputs": [],
   "source": []
  },
  {
   "cell_type": "code",
   "execution_count": null,
   "id": "70026368",
   "metadata": {},
   "outputs": [],
   "source": []
  },
  {
   "cell_type": "code",
   "execution_count": null,
   "id": "55f7af45",
   "metadata": {},
   "outputs": [],
   "source": []
  },
  {
   "cell_type": "code",
   "execution_count": null,
   "id": "a483466c",
   "metadata": {},
   "outputs": [],
   "source": []
  },
  {
   "cell_type": "code",
   "execution_count": null,
   "id": "d604b0c0",
   "metadata": {},
   "outputs": [],
   "source": []
  },
  {
   "cell_type": "code",
   "execution_count": null,
   "id": "bc7bb28e",
   "metadata": {},
   "outputs": [],
   "source": []
  },
  {
   "cell_type": "code",
   "execution_count": null,
   "id": "353014e0",
   "metadata": {},
   "outputs": [],
   "source": []
  }
 ],
 "metadata": {
  "kernelspec": {
   "display_name": "langgraph_env",
   "language": "python",
   "name": "langgraph_env"
  },
  "language_info": {
   "codemirror_mode": {
    "name": "ipython",
    "version": 3
   },
   "file_extension": ".py",
   "mimetype": "text/x-python",
   "name": "python",
   "nbconvert_exporter": "python",
   "pygments_lexer": "ipython3",
   "version": "3.11.11"
  }
 },
 "nbformat": 4,
 "nbformat_minor": 5
}
