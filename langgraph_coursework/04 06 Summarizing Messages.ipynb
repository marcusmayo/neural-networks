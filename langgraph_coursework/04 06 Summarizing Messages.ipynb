{
 "cells": [
  {
   "cell_type": "markdown",
   "id": "6031a3a5",
   "metadata": {},
   "source": [
    "# Summarizing Messages"
   ]
  },
  {
   "cell_type": "markdown",
   "id": "f6b9d646",
   "metadata": {},
   "source": [
    "### Set the OpenAI API Key as an Environment Variable"
   ]
  },
  {
   "cell_type": "code",
   "execution_count": 1,
   "id": "a0680bc5",
   "metadata": {},
   "outputs": [],
   "source": [
    "%load_ext dotenv\n",
    "%dotenv\n",
    "%load_ext mypy_ipython"
   ]
  },
  {
   "cell_type": "markdown",
   "id": "8d324ad4",
   "metadata": {},
   "source": [
    "### Import Relevant Classes and Functions"
   ]
  },
  {
   "cell_type": "code",
   "execution_count": 2,
   "id": "dfe1f1e5",
   "metadata": {},
   "outputs": [],
   "source": [
    "from langgraph.graph import StateGraph, START, END, MessagesState\n",
    "from langchain_openai.chat_models import ChatOpenAI\n",
    "from langchain_core.messages import AIMessage, HumanMessage, SystemMessage, RemoveMessage\n",
    "from typing import Literal"
   ]
  },
  {
   "cell_type": "markdown",
   "id": "1461aa23",
   "metadata": {},
   "source": [
    "### Define the State"
   ]
  },
  {
   "cell_type": "code",
   "execution_count": 3,
   "id": "0b59eb90",
   "metadata": {},
   "outputs": [],
   "source": [
    "class State(MessagesState):\n",
    "    summary: str"
   ]
  },
  {
   "cell_type": "code",
   "execution_count": 4,
   "id": "41ef7cc8",
   "metadata": {},
   "outputs": [],
   "source": [
    "test_state = State()"
   ]
  },
  {
   "cell_type": "code",
   "execution_count": 5,
   "id": "a7e617a4",
   "metadata": {},
   "outputs": [
    {
     "ename": "KeyError",
     "evalue": "'summary'",
     "output_type": "error",
     "traceback": [
      "\u001b[31m---------------------------------------------------------------------------\u001b[39m",
      "\u001b[31mKeyError\u001b[39m                                  Traceback (most recent call last)",
      "\u001b[36mCell\u001b[39m\u001b[36m \u001b[39m\u001b[32mIn[5]\u001b[39m\u001b[32m, line 1\u001b[39m\n\u001b[32m----> \u001b[39m\u001b[32m1\u001b[39m \u001b[43mtest_state\u001b[49m\u001b[43m[\u001b[49m\u001b[33;43m\"\u001b[39;49m\u001b[33;43msummary\u001b[39;49m\u001b[33;43m\"\u001b[39;49m\u001b[43m]\u001b[49m\n",
      "\u001b[31mKeyError\u001b[39m: 'summary'"
     ]
    }
   ],
   "source": [
    "test_state[\"summary\"]"
   ]
  },
  {
   "cell_type": "code",
   "execution_count": 6,
   "id": "00b0cee3",
   "metadata": {},
   "outputs": [
    {
     "data": {
      "text/plain": [
       "False"
      ]
     },
     "execution_count": 6,
     "metadata": {},
     "output_type": "execute_result"
    }
   ],
   "source": [
    "bool(test_state.get(\"summary\", \"\"))"
   ]
  },
  {
   "cell_type": "markdown",
   "id": "dc5d9eb4",
   "metadata": {},
   "source": [
    "### Define the Nodes"
   ]
  },
  {
   "cell_type": "code",
   "execution_count": 7,
   "id": "e8769981",
   "metadata": {},
   "outputs": [],
   "source": [
    "chat = ChatOpenAI(model = \"gpt-4o\", \n",
    "                  seed = 365, \n",
    "                  temperature = 0, \n",
    "                  max_completion_tokens = 100)"
   ]
  },
  {
   "cell_type": "code",
   "execution_count": 8,
   "id": "a0ba824c",
   "metadata": {},
   "outputs": [],
   "source": [
    "def ask_question(state: State) -> State:\n",
    "    \n",
    "    print(f\"\\n-------> ENTERING ask_question:\")\n",
    "    \n",
    "    question = \"What is your question?\"\n",
    "    print(question)\n",
    "    \n",
    "    return State(messages = [AIMessage(question), HumanMessage(input())])"
   ]
  },
  {
   "cell_type": "code",
   "execution_count": 9,
   "id": "2ccf17a9",
   "metadata": {},
   "outputs": [],
   "source": [
    "def chatbot(state: State) -> State:\n",
    "    \n",
    "    print(f\"\\n-------> ENTERING chatbot:\")\n",
    "    for i in state[\"messages\"]:\n",
    "        i.pretty_print()\n",
    "        \n",
    "    system_message = f'''\n",
    "    Here's a quick summary of what's been discussed so far:\n",
    "    {state.get(\"summary\", \"\")}\n",
    "    \n",
    "    Keep this in mind as you answer the next question.\n",
    "    '''\n",
    "    \n",
    "    response = chat.invoke([SystemMessage(system_message)] + state[\"messages\"])\n",
    "    response.pretty_print()\n",
    "    \n",
    "    return State(messages = [response])"
   ]
  },
  {
   "cell_type": "code",
   "execution_count": 10,
   "id": "19a6bbf6",
   "metadata": {},
   "outputs": [],
   "source": [
    "def ask_another_question(state: State) -> State:\n",
    "    \n",
    "    print(f\"\\n-------> ENTERING ask_another_question:\")\n",
    "    \n",
    "    question = \"Would you like to ask one more question (yes/no)?\"\n",
    "    print(question)\n",
    "    \n",
    "    return State(messages = [AIMessage(question), HumanMessage(input())])"
   ]
  },
  {
   "cell_type": "code",
   "execution_count": 18,
   "id": "cc80b050",
   "metadata": {},
   "outputs": [],
   "source": [
    "def summarize_and_delete_messages(state: State) -> State:\n",
    "    print(f\"\\n-------> ENTERING summarize_and_delete_messages:\")\n",
    "    \n",
    "    new_conversation = \"\"\n",
    "    for i in state[\"messages\"]:\n",
    "        new_conversation += f\"{i.type}: {i.content}\\n\\n\"\n",
    "        \n",
    "    summary_instructions = f'''\n",
    "Update the ongoing summary by incorporating the new lines of conversation below.  \n",
    "Build upon the previous summary rather than repeating it so that the result  \n",
    "reflects the most recent context and developments.\n",
    "\n",
    "\n",
    "Previous Summary:\n",
    "{state.get(\"summary\", \"\")}\n",
    "\n",
    "New Conversation:\n",
    "{new_conversation}\n",
    "'''\n",
    "    \n",
    "    print(summary_instructions)\n",
    "    \n",
    "    summary = chat.invoke([HumanMessage(summary_instructions)])\n",
    "    \n",
    "    remove_messages = [RemoveMessage(id = i.id) for i in state[\"messages\"][:]]\n",
    "    \n",
    "    return State(messages = remove_messages, summary = summary.content)"
   ]
  },
  {
   "cell_type": "markdown",
   "id": "27a00ccf",
   "metadata": {},
   "source": [
    "### Define the Routing Function"
   ]
  },
  {
   "cell_type": "code",
   "execution_count": 19,
   "id": "3af6bae6",
   "metadata": {},
   "outputs": [],
   "source": [
    "def routing_function(state: State) -> Literal[\"summarize_and_delete_messages\", \"__end__\"]:\n",
    "    \n",
    "    if state[\"messages\"][-1].content == \"yes\":\n",
    "        return \"summarize_and_delete_messages\"\n",
    "    else:\n",
    "        return \"__end__\""
   ]
  },
  {
   "cell_type": "markdown",
   "id": "0e619ab9",
   "metadata": {},
   "source": [
    "### Define the Graph"
   ]
  },
  {
   "cell_type": "code",
   "execution_count": 20,
   "id": "6761dc27",
   "metadata": {},
   "outputs": [],
   "source": [
    "graph = StateGraph(State)"
   ]
  },
  {
   "cell_type": "code",
   "execution_count": 21,
   "id": "6ee92c2b",
   "metadata": {},
   "outputs": [
    {
     "data": {
      "text/plain": [
       "<langgraph.graph.state.StateGraph at 0x1fd20a16b10>"
      ]
     },
     "execution_count": 21,
     "metadata": {},
     "output_type": "execute_result"
    }
   ],
   "source": [
    "graph.add_node(\"ask_question\", ask_question)\n",
    "graph.add_node(\"chatbot\", chatbot)\n",
    "graph.add_node(\"ask_another_question\", ask_another_question)\n",
    "graph.add_node(\"summarize_and_delete_messages\", summarize_and_delete_messages)\n",
    "\n",
    "graph.add_edge(START, \"ask_question\")\n",
    "graph.add_edge(\"ask_question\", \"chatbot\")\n",
    "graph.add_edge(\"chatbot\", \"ask_another_question\")\n",
    "graph.add_conditional_edges(source = \"ask_another_question\", \n",
    "                            path = routing_function)\n",
    "graph.add_edge(\"summarize_and_delete_messages\", \"ask_question\")"
   ]
  },
  {
   "cell_type": "code",
   "execution_count": 22,
   "id": "2423cb76",
   "metadata": {},
   "outputs": [],
   "source": [
    "graph_compiled = graph.compile()"
   ]
  },
  {
   "cell_type": "code",
   "execution_count": 23,
   "id": "1b749c11",
   "metadata": {},
   "outputs": [
    {
     "data": {
      "image/png": "[encoded data removed]",
      "text/plain": [
       "<langgraph.graph.state.CompiledStateGraph object at 0x000001FD2072D390>"
      ]
     },
     "execution_count": 23,
     "metadata": {},
     "output_type": "execute_result"
    }
   ],
   "source": [
    "graph_compiled"
   ]
  },
  {
   "cell_type": "markdown",
   "id": "4d30cc9c",
   "metadata": {},
   "source": [
    "### Test the Graph"
   ]
  },
  {
   "cell_type": "code",
   "execution_count": 24,
   "id": "281a2ee0",
   "metadata": {},
   "outputs": [
    {
     "name": "stdout",
     "output_type": "stream",
     "text": [
      "\n",
      "-------> ENTERING ask_question:\n",
      "What is your question?\n"
     ]
    },
    {
     "name": "stdin",
     "output_type": "stream",
     "text": [
      " What is Langston Hughes shortest poem?\n"
     ]
    },
    {
     "name": "stdout",
     "output_type": "stream",
     "text": [
      "\n",
      "-------> ENTERING chatbot:\n",
      "==================================\u001b[1m Ai Message \u001b[0m==================================\n",
      "\n",
      "What is your question?\n",
      "================================\u001b[1m Human Message \u001b[0m=================================\n",
      "\n",
      "What is Langston Hughes shortest poem?\n",
      "==================================\u001b[1m Ai Message \u001b[0m==================================\n",
      "\n",
      "Langston Hughes's shortest poem is often considered to be \"Dreams,\" which is concise yet powerful. It reads:\n",
      "\n",
      "```\n",
      "Hold fast to dreams\n",
      "For if dreams die\n",
      "Life is a broken-winged bird\n",
      "That cannot fly.\n",
      "\n",
      "Hold fast to dreams\n",
      "For when dreams go\n",
      "Life is a barren field\n",
      "Frozen with snow.\n",
      "```\n",
      "\n",
      "This poem captures the essence of holding onto dreams and aspirations, using vivid imagery in just a few lines.\n",
      "\n",
      "-------> ENTERING ask_another_question:\n",
      "Would you like to ask one more question (yes/no)?\n"
     ]
    },
    {
     "name": "stdin",
     "output_type": "stream",
     "text": [
      " yes\n"
     ]
    },
    {
     "name": "stdout",
     "output_type": "stream",
     "text": [
      "\n",
      "-------> ENTERING summarize_and_delete_messages:\n",
      "\n",
      "Update the ongoing summary by incorporating the new lines of conversation below.  \n",
      "Build upon the previous summary rather than repeating it so that the result  \n",
      "reflects the most recent context and developments.\n",
      "\n",
      "\n",
      "Previous Summary:\n",
      "\n",
      "\n",
      "New Conversation:\n",
      "ai: What is your question?\n",
      "\n",
      "human: What is Langston Hughes shortest poem?\n",
      "\n",
      "ai: Langston Hughes's shortest poem is often considered to be \"Dreams,\" which is concise yet powerful. It reads:\n",
      "\n",
      "```\n",
      "Hold fast to dreams\n",
      "For if dreams die\n",
      "Life is a broken-winged bird\n",
      "That cannot fly.\n",
      "\n",
      "Hold fast to dreams\n",
      "For when dreams go\n",
      "Life is a barren field\n",
      "Frozen with snow.\n",
      "```\n",
      "\n",
      "This poem captures the essence of holding onto dreams and aspirations, using vivid imagery in just a few lines.\n",
      "\n",
      "ai: Would you like to ask one more question (yes/no)?\n",
      "\n",
      "human: yes\n",
      "\n",
      "\n",
      "\n",
      "\n",
      "-------> ENTERING ask_question:\n",
      "What is your question?\n"
     ]
    },
    {
     "name": "stdin",
     "output_type": "stream",
     "text": [
      " what other poems did he write?\n"
     ]
    },
    {
     "name": "stdout",
     "output_type": "stream",
     "text": [
      "\n",
      "-------> ENTERING chatbot:\n",
      "==================================\u001b[1m Ai Message \u001b[0m==================================\n",
      "\n",
      "What is your question?\n",
      "================================\u001b[1m Human Message \u001b[0m=================================\n",
      "\n",
      "what other poems did he write?\n",
      "==================================\u001b[1m Ai Message \u001b[0m==================================\n",
      "\n",
      "Langston Hughes wrote many notable poems throughout his career. Some of his most famous works include:\n",
      "\n",
      "1. **\"The Negro Speaks of Rivers\"** - One of his earliest and most celebrated poems, it explores the deep connections between African heritage and the rivers of the world.\n",
      "\n",
      "2. **\"Harlem\" (also known as \"A Dream Deferred\")** - This poem questions the consequences of postponed dreams and is famous for its opening line, \"What happens to a dream deferred?\"\n",
      "\n",
      "3.\n",
      "\n",
      "-------> ENTERING ask_another_question:\n",
      "Would you like to ask one more question (yes/no)?\n"
     ]
    },
    {
     "name": "stdin",
     "output_type": "stream",
     "text": [
      " yes\n"
     ]
    },
    {
     "name": "stdout",
     "output_type": "stream",
     "text": [
      "\n",
      "-------> ENTERING summarize_and_delete_messages:\n",
      "\n",
      "Update the ongoing summary by incorporating the new lines of conversation below.  \n",
      "Build upon the previous summary rather than repeating it so that the result  \n",
      "reflects the most recent context and developments.\n",
      "\n",
      "\n",
      "Previous Summary:\n",
      "Updated Summary:\n",
      "\n",
      "The conversation began with a question about Langston Hughes's shortest poem. The AI identified \"Dreams\" as one of his shortest and most impactful works, highlighting its concise yet vivid imagery that emphasizes the importance of holding onto dreams. The human expressed interest in continuing the conversation by indicating they would like to ask another question.\n",
      "\n",
      "New Conversation:\n",
      "ai: What is your question?\n",
      "\n",
      "human: what other poems did he write?\n",
      "\n",
      "ai: Langston Hughes wrote many notable poems throughout his career. Some of his most famous works include:\n",
      "\n",
      "1. **\"The Negro Speaks of Rivers\"** - One of his earliest and most celebrated poems, it explores the deep connections between African heritage and the rivers of the world.\n",
      "\n",
      "2. **\"Harlem\" (also known as \"A Dream Deferred\")** - This poem questions the consequences of postponed dreams and is famous for its opening line, \"What happens to a dream deferred?\"\n",
      "\n",
      "3.\n",
      "\n",
      "ai: Would you like to ask one more question (yes/no)?\n",
      "\n",
      "human: yes\n",
      "\n",
      "\n",
      "\n",
      "\n",
      "-------> ENTERING ask_question:\n",
      "What is your question?\n"
     ]
    },
    {
     "name": "stdin",
     "output_type": "stream",
     "text": [
      " What else did he do?\n"
     ]
    },
    {
     "name": "stdout",
     "output_type": "stream",
     "text": [
      "\n",
      "-------> ENTERING chatbot:\n",
      "==================================\u001b[1m Ai Message \u001b[0m==================================\n",
      "\n",
      "What is your question?\n",
      "================================\u001b[1m Human Message \u001b[0m=================================\n",
      "\n",
      "What else did he do?\n",
      "==================================\u001b[1m Ai Message \u001b[0m==================================\n",
      "\n",
      "Langston Hughes was a multifaceted figure in American literature and culture. Beyond his poetry, he was a novelist, playwright, and social activist. Some of his notable contributions include:\n",
      "\n",
      "1. **Novels**: Hughes wrote several novels, including \"Not Without Laughter,\" which explores the life of an African American family in Kansas, and \"Tambourines to Glory,\" a satirical novel about two women who start a church in Harlem.\n",
      "\n",
      "2. **Plays**: He wrote numerous plays\n",
      "\n",
      "-------> ENTERING ask_another_question:\n",
      "Would you like to ask one more question (yes/no)?\n"
     ]
    },
    {
     "name": "stdin",
     "output_type": "stream",
     "text": [
      " no\n"
     ]
    },
    {
     "data": {
      "text/plain": [
       "{'messages': [AIMessage(content='What is your question?', additional_kwargs={}, response_metadata={}, id='dc0f6d42-5b3a-4ba8-b7e4-88e50b5c1ad9'),\n",
       "  HumanMessage(content='What else did he do?', additional_kwargs={}, response_metadata={}, id='d7652da0-924a-45a0-9b25-423ec8cb097c'),\n",
       "  AIMessage(content='Langston Hughes was a multifaceted figure in American literature and culture. Beyond his poetry, he was a novelist, playwright, and social activist. Some of his notable contributions include:\\n\\n1. **Novels**: Hughes wrote several novels, including \"Not Without Laughter,\" which explores the life of an African American family in Kansas, and \"Tambourines to Glory,\" a satirical novel about two women who start a church in Harlem.\\n\\n2. **Plays**: He wrote numerous plays', additional_kwargs={'refusal': None}, response_metadata={'token_usage': {'completion_tokens': 100, 'prompt_tokens': 154, 'total_tokens': 254, 'completion_tokens_details': {'accepted_prediction_tokens': 0, 'audio_tokens': 0, 'reasoning_tokens': 0, 'rejected_prediction_tokens': 0}, 'prompt_tokens_details': {'audio_tokens': 0, 'cached_tokens': 0}}, 'model_name': 'gpt-4o-2024-08-06', 'system_fingerprint': 'fp_a288987b44', 'id': 'chatcmpl-Bz4sflAoEinedLhmye4WmQoc3whF5', 'service_tier': 'default', 'finish_reason': 'length', 'logprobs': None}, id='run--f2333b6f-c6f4-474f-8d1a-90c81c865e0c-0', usage_metadata={'input_tokens': 154, 'output_tokens': 100, 'total_tokens': 254, 'input_token_details': {'audio': 0, 'cache_read': 0}, 'output_token_details': {'audio': 0, 'reasoning': 0}}),\n",
       "  AIMessage(content='Would you like to ask one more question (yes/no)?', additional_kwargs={}, response_metadata={}, id='b24f2906-ffd6-4bd0-a837-48278974c438'),\n",
       "  HumanMessage(content='no', additional_kwargs={}, response_metadata={}, id='966bcbe5-cb79-4b32-81b7-4cae15af4e74')],\n",
       " 'summary': 'Updated Summary:\\n\\nThe conversation began with a question about Langston Hughes\\'s shortest poem, with the AI identifying \"Dreams\" as one of his shortest and most impactful works. The human expressed interest in continuing the conversation, leading to a discussion about other notable poems by Hughes. The AI mentioned several of his famous works, including \"The Negro Speaks of Rivers,\" which explores the connections between African heritage and the world\\'s rivers, and \"Harlem\" (also known as \"A Dream Deferred\"), which'}"
      ]
     },
     "execution_count": 24,
     "metadata": {},
     "output_type": "execute_result"
    }
   ],
   "source": [
    "graph_compiled.invoke(State(messages = []))"
   ]
  },
  {
   "cell_type": "code",
   "execution_count": null,
   "id": "3b5bf9a6",
   "metadata": {},
   "outputs": [],
   "source": []
  },
  {
   "cell_type": "code",
   "execution_count": null,
   "id": "e1a50cc4",
   "metadata": {},
   "outputs": [],
   "source": []
  },
  {
   "cell_type": "code",
   "execution_count": null,
   "id": "5c41d0d7",
   "metadata": {},
   "outputs": [],
   "source": []
  },
  {
   "cell_type": "code",
   "execution_count": null,
   "id": "ff7da38b",
   "metadata": {},
   "outputs": [],
   "source": []
  },
  {
   "cell_type": "code",
   "execution_count": null,
   "id": "70026368",
   "metadata": {},
   "outputs": [],
   "source": []
  },
  {
   "cell_type": "code",
   "execution_count": null,
   "id": "55f7af45",
   "metadata": {},
   "outputs": [],
   "source": []
  },
  {
   "cell_type": "code",
   "execution_count": null,
   "id": "a483466c",
   "metadata": {},
   "outputs": [],
   "source": []
  },
  {
   "cell_type": "code",
   "execution_count": null,
   "id": "d604b0c0",
   "metadata": {},
   "outputs": [],
   "source": []
  },
  {
   "cell_type": "code",
   "execution_count": null,
   "id": "bc7bb28e",
   "metadata": {},
   "outputs": [],
   "source": []
  },
  {
   "cell_type": "code",
   "execution_count": null,
   "id": "353014e0",
   "metadata": {},
   "outputs": [],
   "source": []
  }
 ],
 "metadata": {
  "kernelspec": {
   "display_name": "langgraph_env",
   "language": "python",
   "name": "langgraph_env"
  },
  "language_info": {
   "codemirror_mode": {
    "name": "ipython",
    "version": 3
   },
   "file_extension": ".py",
   "mimetype": "text/x-python",
   "name": "python",
   "nbconvert_exporter": "python",
   "pygments_lexer": "ipython3",
   "version": "3.11.11"
  }
 },
 "nbformat": 4,
 "nbformat_minor": 5
}
