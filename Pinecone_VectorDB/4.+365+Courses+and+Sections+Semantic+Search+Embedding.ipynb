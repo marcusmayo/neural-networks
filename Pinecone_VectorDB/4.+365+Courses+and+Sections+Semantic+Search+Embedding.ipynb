{
 "cells": [
  {
   "cell_type": "code",
   "execution_count": 1,
   "metadata": {},
   "outputs": [],
   "source": [
    "%load_ext dotenv\n",
    "%dotenv"
   ]
  },
  {
   "cell_type": "code",
   "execution_count": 2,
   "metadata": {},
   "outputs": [
    {
     "name": "stderr",
     "output_type": "stream",
     "text": [
      "C:\\Users\\nikol\\AppData\\Local\\Continuum\\anaconda3\\envs\\langchain_env_24\\lib\\site-packages\\pinecone\\data\\index.py:1: TqdmWarning: IProgress not found. Please update jupyter and ipywidgets. See https://ipywidgets.readthedocs.io/en/stable/user_install.html\n",
      "  from tqdm.autonotebook import tqdm\n"
     ]
    }
   ],
   "source": [
    "import pandas as pd\n",
    "import os\n",
    "from pinecone import Pinecone, ServerlessSpec\n",
    "from dotenv import load_dotenv, find_dotenv\n",
    "import pinecone\n",
    "from sentence_transformers import SentenceTransformer"
   ]
  },
  {
   "cell_type": "code",
   "execution_count": 3,
   "metadata": {},
   "outputs": [],
   "source": [
    "files = pd.read_csv(\"course_section_descriptions.csv\", encoding = \"ANSI\")"
   ]
  },
  {
   "cell_type": "code",
   "execution_count": 4,
   "metadata": {},
   "outputs": [],
   "source": [
    "files[\"unique_id\"] = files[\"course_id\"].astype(str) + '-' + files[\"section_id\"].astype(str)"
   ]
  },
  {
   "cell_type": "code",
   "execution_count": 5,
   "metadata": {},
   "outputs": [],
   "source": [
    "files[\"metadata\"] = files.apply(lambda row: {\n",
    "    \"course_name\": row[\"course_name\"],\n",
    "    \"section_name\": row[\"section_name\"],\n",
    "    \"section_description\": row[\"section_description\"],\n",
    "}, axis = 1)"
   ]
  },
  {
   "cell_type": "code",
   "execution_count": 6,
   "metadata": {},
   "outputs": [],
   "source": [
    "def create_embeddings(row):\n",
    "    combined_text = f'''{row[\"course_name\"]} {row[\"course_technology\"]}\n",
    "                        {row[\"course_description\"]} {row[\"section_name\"]}{row[\"section_description\"]}'''\n",
    "    return model.encode(combined_text, show_progress_bar = False)"
   ]
  },
  {
   "cell_type": "code",
   "execution_count": 7,
   "metadata": {},
   "outputs": [],
   "source": [
    "model = SentenceTransformer(\"all-MiniLM-L6-v2\")"
   ]
  },
  {
   "cell_type": "code",
   "execution_count": 8,
   "metadata": {},
   "outputs": [],
   "source": [
    "files[\"embedding\"] = files.apply(create_embeddings, axis = 1)"
   ]
  },
  {
   "cell_type": "markdown",
   "metadata": {},
   "source": [
    "## Upserting data to Pinecone"
   ]
  },
  {
   "cell_type": "code",
   "execution_count": 9,
   "metadata": {},
   "outputs": [
    {
     "data": {
      "text/plain": [
       "True"
      ]
     },
     "execution_count": 9,
     "metadata": {},
     "output_type": "execute_result"
    }
   ],
   "source": [
    "load_dotenv(find_dotenv(), override = True)"
   ]
  },
  {
   "cell_type": "code",
   "execution_count": 10,
   "metadata": {},
   "outputs": [],
   "source": [
    "pc = Pinecone(api_key = os.environ.get(\"PINECONE_API_KEY\"), environment = os.environ.get(\"PINECONE_ENV\"))"
   ]
  },
  {
   "cell_type": "code",
   "execution_count": 11,
   "metadata": {},
   "outputs": [],
   "source": [
    "index_name = \"my-index\"\n",
    "dimension = 384\n",
    "metric = \"cosine\""
   ]
  },
  {
   "cell_type": "code",
   "execution_count": 12,
   "metadata": {},
   "outputs": [
    {
     "name": "stdout",
     "output_type": "stream",
     "text": [
      "my-index succesfully deleted.\n"
     ]
    }
   ],
   "source": [
    "if index_name in [index.name for index in pc.list_indexes()]:\n",
    "    pc.delete_index(index_name)\n",
    "    print(f\"{index_name} succesfully deleted.\")\n",
    "else:\n",
    "     print(f\"{index_name} not in index list.\")"
   ]
  },
  {
   "cell_type": "code",
   "execution_count": 13,
   "metadata": {},
   "outputs": [],
   "source": [
    "pc.create_index(\n",
    "    name = index_name, \n",
    "    dimension = dimension, \n",
    "    metric = metric, \n",
    "    spec = ServerlessSpec(\n",
    "        cloud = \"aws\", \n",
    "        region = \"us-east-1\")\n",
    "    )"
   ]
  },
  {
   "cell_type": "code",
   "execution_count": 14,
   "metadata": {},
   "outputs": [],
   "source": [
    "index = pc.Index(index_name)"
   ]
  },
  {
   "cell_type": "code",
   "execution_count": 15,
   "metadata": {},
   "outputs": [],
   "source": [
    "vectors_to_upsert = [(row[\"unique_id\"], row[\"embedding\"].tolist(), row[\"metadata\"]) for index, row in files.iterrows()  ]"
   ]
  },
  {
   "cell_type": "code",
   "execution_count": 16,
   "metadata": {},
   "outputs": [
    {
     "name": "stdout",
     "output_type": "stream",
     "text": [
      "Data succesfully upserted to Pinecone index\n"
     ]
    }
   ],
   "source": [
    "index.upsert(vectors = vectors_to_upsert)\n",
    "print(\"Data succesfully upserted to Pinecone index\")"
   ]
  },
  {
   "cell_type": "code",
   "execution_count": 27,
   "metadata": {},
   "outputs": [],
   "source": [
    "query = \"regression in Python\"\n",
    "query_embedding = model.encode(query, show_progress_bar=False).tolist()"
   ]
  },
  {
   "cell_type": "code",
   "execution_count": 28,
   "metadata": {},
   "outputs": [],
   "source": [
    "query_results = index.query(\n",
    "    vector = [query_embedding],\n",
    "    top_k = 12,\n",
    "    include_metadata=True\n",
    ")"
   ]
  },
  {
   "cell_type": "code",
   "execution_count": 29,
   "metadata": {},
   "outputs": [],
   "source": [
    "score_threshold = 0.4"
   ]
  },
  {
   "cell_type": "code",
   "execution_count": 30,
   "metadata": {},
   "outputs": [
    {
     "name": "stdout",
     "output_type": "stream",
     "text": [
      "Matched item ID: 37-369, Score: 0.75285089\n",
      "Course: Machine Learning in Python \n",
      "Section: Linear Regression with sklearn \n",
      "Description: While there are many libraries that can compute a regression model, the most numerically stable one is sklearn. It is also the preferred choice of many machine learning professionals. In this section, we implement all we know about regressions in this amazing library.\n",
      "Matched item ID: 36-363, Score: 0.675853431\n",
      "Course: Python for Finance \n",
      "Section: Using Regressions for Financial Analysis \n",
      "Description: Understanding rates of return and risk is not all there is about finance. Working with regression analysis is a must, and you will see that Python only helps you to be quicker and more precise when doing such estimations.\n",
      "Matched item ID: 37-368, Score: 0.636714876\n",
      "Course: Machine Learning in Python \n",
      "Section: Linear Regression \n",
      "Description: In this part of the course, we will discuss what the course covers, why you need to learn advanced statistics, what’s the differences are with machine learning, and how to get the most out of this training. In this section, you will also expand on what you learned in our statistics training with additional concepts and will apply all the theory in Python. This section serves two purposes: 1) a useful refresher of regression, and 2) a great way to reinforce what you have learned, applying it in practice while coding.\n",
      "Matched item ID: 36-366, Score: 0.576543629\n",
      "Course: Python for Finance \n",
      "Section: Multivariate Regression Analysis \n",
      "Description: While in Section 4 we deal with simple regression analysis, here we will take this technique to the next level. As you can guess, multivariate regression analysis is more advanced, but is also more interesting, as it allows you to deal with more complex financial problems.\n",
      "Matched item ID: 37-370, Score: 0.560659111\n",
      "Course: Machine Learning in Python \n",
      "Section: Linear Regression Practical Example \n",
      "Description: An all in one practical example, which will test your understanding of each of the concepts that we have discussed so far. We will focus on a used cars dataset and create a linear regression model to predict the prices of cars. At the end you will have a big assignment where you can dive deep into the optimization of a machine learning model.\n",
      "Matched item ID: 35-357, Score: 0.553798556\n",
      "Course: Introduction to Python \n",
      "Section: Functions \n",
      "Description: Python functions are another invaluable tool for programmers. They allow you to carry out pre-defined or specifically-designed operations that manipulate the data you are working with and bring it one step closer to representing a meaningful output.\n",
      "Matched item ID: 37-371, Score: 0.545519948\n",
      "Course: Machine Learning in Python \n",
      "Section: Logistic Regression \n",
      "Description: Data scientists use logistic regressions when the dependent variable is binary (0 and 1, true and false, etc.). This type of data is encountered on a daily basis when working as a data scientist, and here, you will learn how to build a logistic regression, understand tables, interpret the coefficients of a logistic regression, calculate the accuracy of the model, as well as how to test. We will introduce under and overfitting, and will teach you how to test your models.\n",
      "Matched item ID: 35-353, Score: 0.544613242\n",
      "Course: Introduction to Python \n",
      "Section: Python Variables and Data Types \n",
      "Description: This is where you will start coding and learn one of the most fundamental concepts in programming – working with variables.\n",
      "Matched item ID: 35-354, Score: 0.534079\n",
      "Course: Introduction to Python \n",
      "Section: Basic Python Syntax \n",
      "Description: If you want to master Python programming, there is no way around learning basic Python syntax operators first. In this section, we will cover the double equality sign, reassigning of values, adding comments, line continuation, indexing elements, arithmetic operators, comparison operators, logical operators, and identity operators.\n",
      "Matched item ID: 33-341, Score: 0.523129165\n",
      "Course: Customer Analytics in Python \n",
      "Section: Modeling Purchase Quantity \n",
      "Description: We conclude the purchase analytics part of the course with a model for purchase quantity. Here, we’ll use linear regression to determine how many units of our product the customer likes to buy. We’ll examine the effects of promotion on purchase quantity and determine price elasticity of demand.\n",
      "Matched item ID: 36-361, Score: 0.51426\n",
      "Course: Python for Finance \n",
      "Section: Calculating and Comparing Rates of Return in Python \n",
      "Description: As an investor, you would like to be able to compare the performance of the stocks in your portfolio. One of the most important measures that will allow you to do that is the rate of return of the stock. This section will explain the relevant theory in detail and will provide you with the tools to do that yourself using Python.\n",
      "Matched item ID: 35-359, Score: 0.505583227\n",
      "Course: Introduction to Python \n",
      "Section: Iteration \n",
      "Description: Iterations are a programming technique which allows you to execute certain code repeatedly. This is one of the instruments letting you to automate repeated tasks and benefit from one of its main strong points.\n"
     ]
    }
   ],
   "source": [
    "# Assuming query_results are fetched and include metadata\n",
    "for match in query_results['matches']:\n",
    "    if match['score'] >= score_threshold:\n",
    "        course_details = match.get('metadata', {})\n",
    "        course_name = course_details.get('course_name', 'N/A')\n",
    "        section_name = course_details.get('section_name', 'N/A')\n",
    "        section_description = course_details.get('section_description', 'No description available')\n",
    "        \n",
    "        print(f\"Matched item ID: {match['id']}, Score: {match['score']}\")\n",
    "        print(f\"Course: {course_name} \\nSection: {section_name} \\nDescription: {section_description}\")"
   ]
  },
  {
   "cell_type": "code",
   "execution_count": null,
   "metadata": {},
   "outputs": [],
   "source": []
  },
  {
   "cell_type": "code",
   "execution_count": null,
   "metadata": {},
   "outputs": [],
   "source": []
  },
  {
   "cell_type": "code",
   "execution_count": null,
   "metadata": {},
   "outputs": [],
   "source": []
  },
  {
   "cell_type": "code",
   "execution_count": null,
   "metadata": {},
   "outputs": [],
   "source": []
  },
  {
   "cell_type": "code",
   "execution_count": null,
   "metadata": {},
   "outputs": [],
   "source": []
  },
  {
   "cell_type": "code",
   "execution_count": null,
   "metadata": {},
   "outputs": [],
   "source": []
  },
  {
   "cell_type": "code",
   "execution_count": null,
   "metadata": {},
   "outputs": [],
   "source": []
  },
  {
   "cell_type": "code",
   "execution_count": null,
   "metadata": {},
   "outputs": [],
   "source": []
  }
 ],
 "metadata": {
  "kernelspec": {
   "display_name": "Python [conda env:langchain_env_24]",
   "language": "python",
   "name": "conda-env-langchain_env_24-py"
  },
  "language_info": {
   "codemirror_mode": {
    "name": "ipython",
    "version": 3
   },
   "file_extension": ".py",
   "mimetype": "text/x-python",
   "name": "python",
   "nbconvert_exporter": "python",
   "pygments_lexer": "ipython3",
   "version": "3.8.18"
  }
 },
 "nbformat": 4,
 "nbformat_minor": 4
}
