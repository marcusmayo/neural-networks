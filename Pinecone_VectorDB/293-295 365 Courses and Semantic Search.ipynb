{
 "cells": [
  {
   "cell_type": "code",
   "execution_count": 1,
   "id": "13bc3bc1-8420-4bf6-9551-5862db4405d7",
   "metadata": {},
   "outputs": [],
   "source": [
    "%load_ext dotenv\n",
    "%dotenv"
   ]
  },
  {
   "cell_type": "code",
   "execution_count": 2,
   "id": "37b06b9c-840a-4b8a-a55f-9cb34fcc5a7f",
   "metadata": {},
   "outputs": [],
   "source": [
    "import pandas as pd\n",
    "import os\n",
    "from pinecone import Pinecone, ServerlessSpec\n",
    "from dotenv import load_dotenv, find_dotenv\n",
    "import pinecone\n",
    "from sentence_transformers import SentenceTransformer"
   ]
  },
  {
   "cell_type": "code",
   "execution_count": 4,
   "id": "0c54c232-fdb6-4047-b830-315cb6f1fe43",
   "metadata": {},
   "outputs": [],
   "source": [
    "files = pd.read_csv(\"course_section_descriptions.csv\", encoding = \"ANSI\")"
   ]
  },
  {
   "cell_type": "code",
   "execution_count": 6,
   "id": "39e2fb4e-3d9b-4a60-8f34-46d264f50a75",
   "metadata": {},
   "outputs": [],
   "source": [
    "# create course section bridge by creating unique ids for course and section\n",
    "files[\"unique_id\"] = files[\"course_id\"].astype(str) + '-' + files[\"section_id\"].astype(str)"
   ]
  },
  {
   "cell_type": "code",
   "execution_count": 7,
   "id": "bdf8068e-0658-4783-a7fc-804cc063e4df",
   "metadata": {},
   "outputs": [],
   "source": [
    "# add a metadata column, upload it to the vector database, and identify courses and sections in the sources\n",
    "files[\"metadata\"] = files.apply(lambda row: {\n",
    "    \"course_name\": row[\"course_name\"],\n",
    "    \"section_name\": row[\"section_name\"],\n",
    "    \"section_description\": row[\"section_description\"],\n",
    "}, axis = 1)"
   ]
  },
  {
   "cell_type": "code",
   "execution_count": 8,
   "id": "9c457bee-ddd6-4788-bd32-beffc772b18b",
   "metadata": {},
   "outputs": [],
   "source": [
    "# function to cobine text columns into one single column\n",
    "def create_embeddings(row):\n",
    "    combined_text = f'''{row[\"course_name\"]} {row[\"course_technology\"]}\n",
    "                        {row[\"course_description\"]} {row[\"section_name\"]}{row[\"section_description\"]}'''\n",
    "    return model.encode(combined_text, show_progress_bar = False)"
   ]
  },
  {
   "cell_type": "code",
   "execution_count": 10,
   "id": "caefbdc5-0206-493c-8ab3-dd5a4c9b06b6",
   "metadata": {},
   "outputs": [],
   "source": [
    "# Invoke embedding model\n",
    "model = SentenceTransformer(\"all-MiniLM-L6-v2\")"
   ]
  },
  {
   "cell_type": "code",
   "execution_count": 11,
   "id": "9cb917d7-e5f8-42b3-98c3-53373647bc0b",
   "metadata": {},
   "outputs": [
    {
     "name": "stderr",
     "output_type": "stream",
     "text": [
      "C:\\Users\\Marcus\\anaconda3\\envs\\langchain_env_py312\\Lib\\site-packages\\torch\\nn\\modules\\module.py:1762: FutureWarning: `encoder_attention_mask` is deprecated and will be removed in version 4.55.0 for `BertSdpaSelfAttention.forward`.\n",
      "  return forward_call(*args, **kwargs)\n"
     ]
    }
   ],
   "source": [
    "# create file embeddings column\n",
    "files[\"embedding\"] = files.apply(create_embeddings, axis = 1)"
   ]
  },
  {
   "cell_type": "markdown",
   "id": "d8d03a1d-3eff-494f-abec-1180fd367194",
   "metadata": {},
   "source": [
    "# Upserting data to Pincone"
   ]
  },
  {
   "cell_type": "code",
   "execution_count": 12,
   "id": "d7d01b30-4a06-4dc5-b739-92df28d37bba",
   "metadata": {},
   "outputs": [
    {
     "data": {
      "text/plain": [
       "True"
      ]
     },
     "execution_count": 12,
     "metadata": {},
     "output_type": "execute_result"
    }
   ],
   "source": [
    "load_dotenv(find_dotenv(), override = True)"
   ]
  },
  {
   "cell_type": "code",
   "execution_count": 13,
   "id": "5cd5ed2c-3352-4c89-a3fe-23caa6c1c30e",
   "metadata": {},
   "outputs": [],
   "source": [
    "pc = Pinecone(api_key = os.environ.get(\"PINECONE_API_KEY\"), environment = os.environ.get(\"PINECONE_ENV\"))"
   ]
  },
  {
   "cell_type": "code",
   "execution_count": 17,
   "id": "d4bf50bc-d5d4-4815-ba54-3302f6468787",
   "metadata": {},
   "outputs": [],
   "source": [
    "index_name = \"my-index\"\n",
    "dimension = 384\n",
    "metric = \"cosine\""
   ]
  },
  {
   "cell_type": "code",
   "execution_count": 15,
   "id": "9ba32f38-0a59-45b2-8768-2274bd3e3420",
   "metadata": {},
   "outputs": [
    {
     "name": "stdout",
     "output_type": "stream",
     "text": [
      "my-index succesfully deleted.\n"
     ]
    }
   ],
   "source": [
    "if index_name in [index.name for index in pc.list_indexes()]:\n",
    "    pc.delete_index(index_name)\n",
    "    print(f\"{index_name} succesfully deleted.\")\n",
    "else:\n",
    "     print(f\"{index_name} not in index list.\")"
   ]
  },
  {
   "cell_type": "code",
   "execution_count": 18,
   "id": "de75ca1a-2a4d-45c1-a0cb-61ace2e25600",
   "metadata": {},
   "outputs": [
    {
     "data": {
      "text/plain": [
       "{\n",
       "    \"name\": \"my-index\",\n",
       "    \"metric\": \"cosine\",\n",
       "    \"host\": \"my-index-67t99i9.svc.aped-4627-b74a.pinecone.io\",\n",
       "    \"spec\": {\n",
       "        \"serverless\": {\n",
       "            \"cloud\": \"aws\",\n",
       "            \"region\": \"us-east-1\"\n",
       "        }\n",
       "    },\n",
       "    \"status\": {\n",
       "        \"ready\": true,\n",
       "        \"state\": \"Ready\"\n",
       "    },\n",
       "    \"vector_type\": \"dense\",\n",
       "    \"dimension\": 384,\n",
       "    \"deletion_protection\": \"disabled\",\n",
       "    \"tags\": null\n",
       "}"
      ]
     },
     "execution_count": 18,
     "metadata": {},
     "output_type": "execute_result"
    }
   ],
   "source": [
    "pc.create_index(\n",
    "    name = index_name, \n",
    "    dimension = dimension, \n",
    "    metric = metric, \n",
    "    spec = ServerlessSpec(\n",
    "        cloud = \"aws\", \n",
    "        region = \"us-east-1\")\n",
    "    )"
   ]
  },
  {
   "cell_type": "code",
   "execution_count": 19,
   "id": "b3b8a83f-e5fe-4f30-b1f9-f49886b62a14",
   "metadata": {},
   "outputs": [],
   "source": [
    "index = pc.Index(index_name)"
   ]
  },
  {
   "cell_type": "code",
   "execution_count": 21,
   "id": "77872ab2-74db-450f-8e40-c243360ca4eb",
   "metadata": {},
   "outputs": [],
   "source": [
    "vectors_to_upsert = [(row[\"unique_id\"], row[\"embedding\"].tolist(), row[\"metadata\"]) for index, row in files.iterrows()]"
   ]
  },
  {
   "cell_type": "code",
   "execution_count": 23,
   "id": "852e839f-d552-49a6-9bd3-95bec66b4dcd",
   "metadata": {},
   "outputs": [
    {
     "name": "stdout",
     "output_type": "stream",
     "text": [
      "Data succesfully upserted to Pinecone index\n"
     ]
    }
   ],
   "source": [
    "index.upsert(vectors = vectors_to_upsert)\n",
    "print(\"Data succesfully upserted to Pinecone index\")"
   ]
  },
  {
   "cell_type": "code",
   "execution_count": 24,
   "id": "519ed7a4-e347-41f6-8c4f-499a49008835",
   "metadata": {},
   "outputs": [
    {
     "name": "stderr",
     "output_type": "stream",
     "text": [
      "C:\\Users\\Marcus\\anaconda3\\envs\\langchain_env_py312\\Lib\\site-packages\\torch\\nn\\modules\\module.py:1762: FutureWarning: `encoder_attention_mask` is deprecated and will be removed in version 4.55.0 for `BertSdpaSelfAttention.forward`.\n",
      "  return forward_call(*args, **kwargs)\n"
     ]
    }
   ],
   "source": [
    "# Ensure you've already initialized and configured Pinecone and the model\n",
    "# If not, you need to run the initialization code provided earlier\n",
    "\n",
    "# Create the query embedding\n",
    "query = \"clustering\"\n",
    "query_embedding = model.encode(query, show_progress_bar=False).tolist()"
   ]
  },
  {
   "cell_type": "code",
   "execution_count": 25,
   "id": "60210fc6-ee51-44ec-98e6-c11330a03007",
   "metadata": {},
   "outputs": [],
   "source": [
    "query_results = index.query(\n",
    "    vector = [query_embedding],\n",
    "    top_k = 12,\n",
    "    include_metadata = True\n",
    ")"
   ]
  },
  {
   "cell_type": "code",
   "execution_count": 26,
   "id": "c94de509-c4fa-49eb-bc52-72e0c15c1df1",
   "metadata": {},
   "outputs": [],
   "source": [
    "score_threshold = 0.3"
   ]
  },
  {
   "cell_type": "code",
   "execution_count": 27,
   "id": "c44579f2-c845-4294-bc40-b52dab6337b8",
   "metadata": {},
   "outputs": [
    {
     "name": "stdout",
     "output_type": "stream",
     "text": [
      "Matched item ID: 51-469, Score: 0.561120212\n",
      "Course: Machine Learning in Excel \n",
      "Section: Cluster Analysis \n",
      "Description: Cluster analysis is the most intuitive and important example of unsupervised learning. However, to be able to understand cluster analysis, you must first become familiar with the mathematics behind it. Here we will explore the fundamentals of cluster analysis and have a look at the differences between clustering and classification.\n",
      "Matched item ID: 37-374, Score: 0.542959213\n",
      "Course: Machine Learning in Python \n",
      "Section: Other Types of Clustering \n",
      "Description: In previous sections, we focus extensively on k-means clustering, as it is the fastest and most efficient method for clustering. In this section, we explore other approaches that are less common.\n",
      "Matched item ID: 51-470, Score: 0.508886516\n",
      "Course: Machine Learning in Excel \n",
      "Section: K-means Clustering \n",
      "Description: Master K-means clustering in Excel by learning how to choose the number of clusters in your analysis and determine when to standardize or not standardize your data. At the end of this section, we will go through a complete practical example that includes marketing segmentation with cluster analysis. \n",
      "Matched item ID: 33-334, Score: 0.506921411\n",
      "Course: Customer Analytics in Python \n",
      "Section: Hierarchical Clustering \n",
      "Description: Here, we discuss the theory behind hierarchical and flat clustering. Throughout the course we’ll implement both approaches. In this section, we’ll focus on hierarchical clustering and use it to determine the number of clusters in our data set.\n",
      "Matched item ID: 33-335, Score: 0.4897829\n",
      "Course: Customer Analytics in Python \n",
      "Section: K-means Clustering \n",
      "Description: We continue with segmentation, this time focusing on a flat clustering technique, namely K-means. We’ll divide our customers into clusters using K-means and determine the customer segments. This is a crucial part of the customer analysis, as it is where we discover the most important characteristics, which define our customer groups.\n",
      "\n",
      "Matched item ID: 37-373, Score: 0.474662542\n",
      "Course: Machine Learning in Python \n",
      "Section: K-Means Clustering \n",
      "Description: In this section, you will learn how to do Cluster analysis. Cluster analysis consists in dividing your data into separate groups based on an algorithm. Clustering is an amazing technique often employed in data science. But what’s more, it makes much more sense to study patterns observed in a particular group rather than trying to find patterns in the entire dataset. We will provide several practical examples that will help you understand how to carry out cluster analysis and the difference between classification and clustering.\n",
      "Matched item ID: 37-372, Score: 0.446122915\n",
      "Course: Machine Learning in Python \n",
      "Section: Cluster Analysis (Basics and Prerequisites) \n",
      "Description: Cluster analysis is the most intuitive and important example of unsupervised learning. However, to be able to understand cluster analysis, we must first explore the mathematics behind it.\n",
      "Matched item ID: 51-471, Score: 0.425374657\n",
      "Course: Machine Learning in Excel \n",
      "Section: Decision Trees \n",
      "Description: With the use of visual examples this section of the course introduces you to the concept of decision trees. We will cover the advantages and disadvantages of this method and explore its inner workings – how is the tree constructed and what metrics are used in its construction. This will be followed up by a practical example showcasing how to create decision trees in Excel.\n",
      "Matched item ID: 33-336, Score: 0.409528852\n",
      "Course: Customer Analytics in Python \n",
      "Section: K-Means Clustering based on Principal Component Analysis \n",
      "Description: In our final section of customer analytics, we’ll introduce a dimensionality reduction algorithm: Principal Components Analysis (PCA). We’ll combine K-means and PCA to obtain even better clustering results and gain insight about our customers. In addition, we’ll perform the model deployment, which we’ll need in the following sections of our course\n",
      "Matched item ID: 51-464, Score: 0.399757981\n",
      "Course: Machine Learning in Excel \n",
      "Section: Introduction \n",
      "Description: In this introductory section, we will discuss why you need to learn advanced statistics, what sets this discipline apart from machine learning, and how you can get the most out of the Machine Learning in Excel course.\n",
      "Matched item ID: 43-417, Score: 0.38443175\n",
      "Course: Fashion Analytics with Tableau \n",
      "Section: Consumer-Driven Marketing \n",
      "Description: This chapter focuses on the importance of understanding your clients and their needs, as well as creating a seamless customer journey. Here we’ll discuss the main approaches to identifying consumer clusters. You will also gain a better understanding of the main predictors when it comes to consumer scoring, such as preferences, price point, or propensity to buy a product.\n",
      "Matched item ID: 43-423, Score: 0.377165973\n",
      "Course: Fashion Analytics with Tableau \n",
      "Section: Store Localization, Clustering, and In-store Optimization \n",
      "Description: This chapter is all about finding the right spot to open a new store, implementing efficient space-planning techniques, and, ultimately, creating the best customer journey within a physical store. You will learn about the parameters that need to be optimized when opening a new store, illustrated by examples of how industry leaders are using advanced analytics for store localization and in-store optimization to improve margins. \n"
     ]
    }
   ],
   "source": [
    "# Assuming query_results are fetched and include metadata\n",
    "for match in query_results['matches']:\n",
    "    if match['score'] >= score_threshold:\n",
    "        course_details = match.get('metadata', {})\n",
    "        course_name = course_details.get('course_name', 'N/A')\n",
    "        section_name = course_details.get('section_name', 'N/A')\n",
    "        section_description = course_details.get('section_description', 'No description available')\n",
    "        \n",
    "        print(f\"Matched item ID: {match['id']}, Score: {match['score']}\")\n",
    "        print(f\"Course: {course_name} \\nSection: {section_name} \\nDescription: {section_description}\")"
   ]
  },
  {
   "cell_type": "code",
   "execution_count": 28,
   "id": "eadba10e-e06a-4792-8e5d-8698181b95d0",
   "metadata": {},
   "outputs": [
    {
     "name": "stderr",
     "output_type": "stream",
     "text": [
      "C:\\Users\\Marcus\\anaconda3\\envs\\langchain_env_py312\\Lib\\site-packages\\torch\\nn\\modules\\module.py:1762: FutureWarning: `encoder_attention_mask` is deprecated and will be removed in version 4.55.0 for `BertSdpaSelfAttention.forward`.\n",
      "  return forward_call(*args, **kwargs)\n"
     ]
    }
   ],
   "source": [
    "# Ensure you've already initialized and configured Pinecone and the model\n",
    "# If not, you need to run the initialization code provided earlier\n",
    "\n",
    "# Create the query embedding\n",
    "query = \"regression in Python\"\n",
    "query_embedding = model.encode(query, show_progress_bar=False).tolist()"
   ]
  },
  {
   "cell_type": "code",
   "execution_count": 29,
   "id": "a14ef384-447b-41bd-8cf4-2aadf6f1740b",
   "metadata": {},
   "outputs": [],
   "source": [
    "query_results = index.query(\n",
    "    vector = [query_embedding],\n",
    "    top_k = 12,\n",
    "    include_metadata = True\n",
    ")"
   ]
  },
  {
   "cell_type": "code",
   "execution_count": 30,
   "id": "5eaff4fd-6c85-4ec1-9252-b4966e02ecbc",
   "metadata": {},
   "outputs": [],
   "source": [
    "score_threshold = 0.4"
   ]
  },
  {
   "cell_type": "code",
   "execution_count": 31,
   "id": "c28072ee-c658-480e-9bff-96ecbf6559ea",
   "metadata": {},
   "outputs": [
    {
     "name": "stdout",
     "output_type": "stream",
     "text": [
      "Matched item ID: 37-369, Score: 0.753219903\n",
      "Course: Machine Learning in Python \n",
      "Section: Linear Regression with sklearn \n",
      "Description: While there are many libraries that can compute a regression model, the most numerically stable one is sklearn. It is also the preferred choice of many machine learning professionals. In this section, we implement all we know about regressions in this amazing library.\n",
      "Matched item ID: 36-363, Score: 0.67616713\n",
      "Course: Python for Finance \n",
      "Section: Using Regressions for Financial Analysis \n",
      "Description: Understanding rates of return and risk is not all there is about finance. Working with regression analysis is a must, and you will see that Python only helps you to be quicker and more precise when doing such estimations.\n",
      "Matched item ID: 37-368, Score: 0.637206793\n",
      "Course: Machine Learning in Python \n",
      "Section: Linear Regression \n",
      "Description: In this part of the course, we will discuss what the course covers, why you need to learn advanced statistics, what’s the differences are with machine learning, and how to get the most out of this training. In this section, you will also expand on what you learned in our statistics training with additional concepts and will apply all the theory in Python. This section serves two purposes: 1) a useful refresher of regression, and 2) a great way to reinforce what you have learned, applying it in practice while coding.\n",
      "Matched item ID: 36-366, Score: 0.576644\n",
      "Course: Python for Finance \n",
      "Section: Multivariate Regression Analysis \n",
      "Description: While in Section 4 we deal with simple regression analysis, here we will take this technique to the next level. As you can guess, multivariate regression analysis is more advanced, but is also more interesting, as it allows you to deal with more complex financial problems.\n",
      "Matched item ID: 37-370, Score: 0.560537577\n",
      "Course: Machine Learning in Python \n",
      "Section: Linear Regression Practical Example \n",
      "Description: An all in one practical example, which will test your understanding of each of the concepts that we have discussed so far. We will focus on a used cars dataset and create a linear regression model to predict the prices of cars. At the end you will have a big assignment where you can dive deep into the optimization of a machine learning model.\n",
      "Matched item ID: 35-357, Score: 0.553959727\n",
      "Course: Introduction to Python \n",
      "Section: Functions \n",
      "Description: Python functions are another invaluable tool for programmers. They allow you to carry out pre-defined or specifically-designed operations that manipulate the data you are working with and bring it one step closer to representing a meaningful output.\n",
      "Matched item ID: 37-371, Score: 0.545277834\n",
      "Course: Machine Learning in Python \n",
      "Section: Logistic Regression \n",
      "Description: Data scientists use logistic regressions when the dependent variable is binary (0 and 1, true and false, etc.). This type of data is encountered on a daily basis when working as a data scientist, and here, you will learn how to build a logistic regression, understand tables, interpret the coefficients of a logistic regression, calculate the accuracy of the model, as well as how to test. We will introduce under and overfitting, and will teach you how to test your models.\n",
      "Matched item ID: 35-353, Score: 0.544479966\n",
      "Course: Introduction to Python \n",
      "Section: Python Variables and Data Types \n",
      "Description: This is where you will start coding and learn one of the most fundamental concepts in programming – working with variables.\n",
      "Matched item ID: 35-354, Score: 0.533612311\n",
      "Course: Introduction to Python \n",
      "Section: Basic Python Syntax \n",
      "Description: If you want to master Python programming, there is no way around learning basic Python syntax operators first. In this section, we will cover the double equality sign, reassigning of values, adding comments, line continuation, indexing elements, arithmetic operators, comparison operators, logical operators, and identity operators.\n",
      "Matched item ID: 33-341, Score: 0.522844\n",
      "Course: Customer Analytics in Python \n",
      "Section: Modeling Purchase Quantity \n",
      "Description: We conclude the purchase analytics part of the course with a model for purchase quantity. Here, we’ll use linear regression to determine how many units of our product the customer likes to buy. We’ll examine the effects of promotion on purchase quantity and determine price elasticity of demand.\n",
      "Matched item ID: 36-362, Score: 0.516051292\n",
      "Course: Python for Finance \n",
      "Section: Meàsuring Investment Risk \n",
      "Description: Achieving a high rate of return of your stocks doesn’t come at no cost. Every investment is associated with a certain level of risk, and an investor must be well aware of it before putting their money in a certain basket. This section will teach you how to understand and measure such risk using Python.\n",
      "Matched item ID: 36-361, Score: 0.514169812\n",
      "Course: Python for Finance \n",
      "Section: Calculating and Comparing Rates of Return in Python \n",
      "Description: As an investor, you would like to be able to compare the performance of the stocks in your portfolio. One of the most important measures that will allow you to do that is the rate of return of the stock. This section will explain the relevant theory in detail and will provide you with the tools to do that yourself using Python.\n"
     ]
    }
   ],
   "source": [
    "# Assuming query_results are fetched and include metadata\n",
    "for match in query_results['matches']:\n",
    "    if match['score'] >= score_threshold:\n",
    "        course_details = match.get('metadata', {})\n",
    "        course_name = course_details.get('course_name', 'N/A')\n",
    "        section_name = course_details.get('section_name', 'N/A')\n",
    "        section_description = course_details.get('section_description', 'No description available')\n",
    "        \n",
    "        print(f\"Matched item ID: {match['id']}, Score: {match['score']}\")\n",
    "        print(f\"Course: {course_name} \\nSection: {section_name} \\nDescription: {section_description}\")"
   ]
  },
  {
   "cell_type": "code",
   "execution_count": null,
   "id": "9625061c-3799-4f6d-9d8f-841e68d9d88b",
   "metadata": {},
   "outputs": [],
   "source": []
  },
  {
   "cell_type": "code",
   "execution_count": null,
   "id": "716bbc0c-1150-459f-aa19-d983489b12f4",
   "metadata": {},
   "outputs": [],
   "source": []
  },
  {
   "cell_type": "code",
   "execution_count": null,
   "id": "de36703d-0ac8-4fbc-ad0c-bd5eff3a3619",
   "metadata": {},
   "outputs": [],
   "source": []
  }
 ],
 "metadata": {
  "kernelspec": {
   "display_name": "langchain_env_py312",
   "language": "python",
   "name": "langchain_env_py312"
  },
  "language_info": {
   "codemirror_mode": {
    "name": "ipython",
    "version": 3
   },
   "file_extension": ".py",
   "mimetype": "text/x-python",
   "name": "python",
   "nbconvert_exporter": "python",
   "pygments_lexer": "ipython3",
   "version": "3.12.11"
  }
 },
 "nbformat": 4,
 "nbformat_minor": 5
}
