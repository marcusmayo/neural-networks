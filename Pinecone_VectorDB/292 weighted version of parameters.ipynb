{
 "cells": [
  {
   "cell_type": "markdown",
   "id": "48a021be",
   "metadata": {},
   "source": [
    "### Indexing: Creating a Chroma Vectorstore"
   ]
  },
  {
   "cell_type": "code",
   "execution_count": 1,
   "id": "47e681e4",
   "metadata": {},
   "outputs": [],
   "source": [
    "%load_ext dotenv\n",
    "%dotenv"
   ]
  },
  {
   "cell_type": "code",
   "execution_count": 2,
   "id": "0759f45c",
   "metadata": {},
   "outputs": [],
   "source": [
    "from langchain.document_loaders import Docx2txtLoader\n",
    "from langchain.text_splitter import MarkdownHeaderTextSplitter, CharacterTextSplitter\n",
    "from langchain_openai.embeddings import OpenAIEmbeddings\n",
    "from langchain_community.vectorstores import Chroma\n",
    "from langchain.document_loaders.csv_loader import CSVLoader\n",
    "from langchain_community.vectorstores import FAISS "
   ]
  },
  {
   "cell_type": "code",
   "execution_count": 3,
   "id": "780da5d3",
   "metadata": {},
   "outputs": [],
   "source": [
    "import pandas as pd\n",
    "import torch"
   ]
  },
  {
   "cell_type": "code",
   "execution_count": 4,
   "id": "6cd5e225",
   "metadata": {},
   "outputs": [],
   "source": [
    "files = pd.read_csv(\"course_section_descriptions.csv\", encoding='ANSI')"
   ]
  },
  {
   "cell_type": "markdown",
   "id": "b3fc3a9d",
   "metadata": {},
   "source": [
    "## Create text blobs and unite courses and sections"
   ]
  },
  {
   "cell_type": "code",
   "execution_count": 5,
   "id": "4f3a7383",
   "metadata": {},
   "outputs": [],
   "source": [
    "# Create a dictionary to map course IDs to course names\n",
    "id_to_name = pd.Series(files.course_name.values,index=files.course_id).to_dict()"
   ]
  },
  {
   "cell_type": "markdown",
   "id": "cae440ee",
   "metadata": {},
   "source": [
    "### Created weighted versions of the parameters"
   ]
  },
  {
   "cell_type": "code",
   "execution_count": 6,
   "id": "3335e42d",
   "metadata": {},
   "outputs": [
    {
     "name": "stderr",
     "output_type": "stream",
     "text": [
      "C:\\Users\\nikol\\AppData\\Local\\Continuum\\anaconda3\\envs\\langchain_env_24\\lib\\site-packages\\tqdm\\auto.py:21: TqdmWarning: IProgress not found. Please update jupyter and ipywidgets. See https://ipywidgets.readthedocs.io/en/stable/user_install.html\n",
      "  from .autonotebook import tqdm as notebook_tqdm\n"
     ]
    }
   ],
   "source": [
    "from sentence_transformers import SentenceTransformer\n",
    "# Initialize the SentenceTransformer model\n",
    "model = SentenceTransformer('all-MiniLM-L6-v2')"
   ]
  },
  {
   "cell_type": "code",
   "execution_count": 7,
   "id": "efce4bfd",
   "metadata": {},
   "outputs": [],
   "source": [
    "import numpy as np"
   ]
  },
  {
   "cell_type": "code",
   "execution_count": 8,
   "id": "6b7d8f86",
   "metadata": {},
   "outputs": [],
   "source": [
    "# Aggregate course data\n",
    "course_agg = files.groupby('course_id').agg({\n",
    "    'course_name': 'first',\n",
    "    'course_slug': 'first',\n",
    "    'course_description': 'first',\n",
    "    'course_description_short': 'first',\n",
    "    'course_technology': 'first',\n",
    "    'course_topic': 'first',\n",
    "    'course_instructor_quote': 'first',\n",
    "    'section_name': lambda x: list(x),  # Assuming section_name is not already a string\n",
    "    'section_description': ' '.join  # Combine section descriptions into one string\n",
    "}).reset_index()\n"
   ]
  },
  {
   "cell_type": "code",
   "execution_count": 9,
   "id": "cd7bdb77",
   "metadata": {},
   "outputs": [],
   "source": [
    "def create_course_embedding(row):\n",
    "    # Weights\n",
    "    weight_course_name = 5\n",
    "    weight_section_name = 4\n",
    "    weight_other = 1\n",
    "\n",
    "    # Helper function to safely encode text or return a zero vector if text is None\n",
    "    def safe_encode(text, weight):\n",
    "        if text is None:\n",
    "            # Return a zero vector if the text is None\n",
    "            return np.zeros(model.get_sentence_embedding_dimension())\n",
    "        else:\n",
    "            # Otherwise, return the encoded text vector multiplied by its weight\n",
    "            return model.encode(text) * weight\n",
    "\n",
    "    # Generate embeddings for individual components with weights\n",
    "    embedding_course_name = safe_encode(row['course_name'], weight_course_name)\n",
    "    embedding_course_slug = safe_encode(row['course_slug'], weight_other)\n",
    "    embedding_course_description = safe_encode(row['course_description'], weight_other)\n",
    "    embedding_course_description_short = safe_encode(row['course_description_short'], weight_other)\n",
    "    embedding_course_instructor_quote = safe_encode(row['course_instructor_quote'], weight_other)\n",
    "\n",
    "    # Extract section names for the course from the dataframe (assuming 'df' is your original dataframe)\n",
    "    section_names = files[files['course_id'] == row['course_id']]['section_name'].unique().tolist()\n",
    "\n",
    "    # Generate embeddings for section names with weights\n",
    "    embeddings_section_names = [safe_encode(name, weight_section_name) for name in section_names]\n",
    "\n",
    "    # If there are no section names, create a zero vector\n",
    "    if not embeddings_section_names:\n",
    "        embeddings_section_names = [np.zeros(model.get_sentence_embedding_dimension())]\n",
    "\n",
    "    # Average the section name embeddings\n",
    "    embeddings_section_names = np.mean(embeddings_section_names, axis=0)\n",
    "\n",
    "    # Combine the weighted embeddings into a single composite embedding\n",
    "    composite_embedding = np.mean([\n",
    "        embedding_course_name,\n",
    "        embedding_course_slug,\n",
    "        embedding_course_description,\n",
    "        embedding_course_description_short,\n",
    "        embedding_course_instructor_quote,\n",
    "        embeddings_section_names\n",
    "    ], axis=0)\n",
    "    \n",
    "    return composite_embedding\n",
    "\n",
    "# Apply the function to create embeddings for each course\n",
    "course_agg['embedding'] = course_agg.apply(create_course_embedding, axis=1)\n"
   ]
  },
  {
   "cell_type": "code",
   "execution_count": 10,
   "id": "212b7886",
   "metadata": {},
   "outputs": [],
   "source": [
    "# Now each course has an embedding, you can upsert these into Pinecone\n",
    "# (Assuming Pinecone is initialized and 'index' is your Pinecone index object)\n",
    "vectors_to_upsert = [(str(row['course_id']), row['embedding'].tolist()) for index, row in course_agg.iterrows()]\n"
   ]
  },
  {
   "cell_type": "code",
   "execution_count": null,
   "id": "c3c09dd4",
   "metadata": {},
   "outputs": [],
   "source": []
  },
  {
   "cell_type": "markdown",
   "id": "ca1cfd2a",
   "metadata": {},
   "source": [
    "## Connect to Pinecone Index"
   ]
  },
  {
   "cell_type": "code",
   "execution_count": 11,
   "id": "40cc5156",
   "metadata": {},
   "outputs": [],
   "source": [
    "import os\n",
    "from pinecone import Pinecone, ServerlessSpec"
   ]
  },
  {
   "cell_type": "code",
   "execution_count": 12,
   "id": "001e3755",
   "metadata": {},
   "outputs": [],
   "source": [
    "from dotenv import load_dotenv, find_dotenv"
   ]
  },
  {
   "cell_type": "code",
   "execution_count": 13,
   "id": "9ab5ed9d",
   "metadata": {},
   "outputs": [
    {
     "data": {
      "text/plain": [
       "True"
      ]
     },
     "execution_count": 13,
     "metadata": {},
     "output_type": "execute_result"
    }
   ],
   "source": [
    "load_dotenv(find_dotenv(), override = True)"
   ]
  },
  {
   "cell_type": "code",
   "execution_count": 14,
   "id": "ec54df15",
   "metadata": {},
   "outputs": [],
   "source": [
    "import pinecone\n",
    "pc = Pinecone(api_key = os.environ.get(\"PINECONE_API_KEY\"), environment = os.environ.get(\"PINECONE_ENV\"))"
   ]
  },
  {
   "cell_type": "code",
   "execution_count": 15,
   "id": "38ccc495",
   "metadata": {},
   "outputs": [],
   "source": [
    "index = pc.Index(\"my-index\")"
   ]
  },
  {
   "cell_type": "code",
   "execution_count": 16,
   "id": "23d85adf",
   "metadata": {},
   "outputs": [
    {
     "name": "stdout",
     "output_type": "stream",
     "text": [
      "Data upserted to Pinecone index.\n"
     ]
    }
   ],
   "source": [
    "index.upsert(vectors=vectors_to_upsert)\n",
    "\n",
    "print(\"Data upserted to Pinecone index.\")"
   ]
  },
  {
   "cell_type": "markdown",
   "id": "e76c11a7",
   "metadata": {},
   "source": [
    "## Query data"
   ]
  },
  {
   "cell_type": "code",
   "execution_count": 26,
   "id": "6f0acfa6",
   "metadata": {},
   "outputs": [],
   "source": [
    "# Ensure you've already initialized and configured Pinecone and the model\n",
    "# If not, you need to run the initialization code provided earlier\n",
    "\n",
    "# Create the query embedding\n",
    "query = \"clustering\"\n",
    "query_embedding = model.encode(query, show_progress_bar=False).tolist()"
   ]
  },
  {
   "cell_type": "code",
   "execution_count": 27,
   "id": "4bfceb0f",
   "metadata": {},
   "outputs": [],
   "source": [
    "query_results = index.query(\n",
    "   # namespace=\"my-index\",\n",
    "    vector=[query_embedding],\n",
    "    top_k=12,\n",
    "    include_values=True\n",
    ")"
   ]
  },
  {
   "cell_type": "code",
   "execution_count": 28,
   "id": "5c4a6a81",
   "metadata": {},
   "outputs": [
    {
     "name": "stdout",
     "output_type": "stream",
     "text": [
      "Matched course name: Machine Learning in Python, score: 0.528213263\n",
      "Matched course name: Machine Learning in Excel, score: 0.51362443\n",
      "Matched course name: The Machine Learning Algorithms A-Z, score: 0.492124528\n",
      "Matched course name: Machine Learning with K-Nearest Neighbors, score: 0.464035869\n",
      "Matched course name: Linear Algebra and Feature Selection, score: 0.406494081\n",
      "Matched course name: Customer Analytics in Python, score: 0.391526312\n",
      "Matched course name: The Machine Learning Process A-Z, score: 0.388478428\n",
      "Matched course name: Machine Learning with Support Vector Machines, score: 0.364138037\n",
      "Matched course name: Power Query and Data Modeling, score: 0.35380885\n",
      "Matched course name: Machine Learning with Naive Bayes, score: 0.350773185\n",
      "Matched course name: Mathematics, score: 0.350522399\n",
      "Matched course name: Machine Learning with Decision Trees and Random Forests, score: 0.350382417\n"
     ]
    }
   ],
   "source": [
    "score_threshold = 0.2\n",
    "\n",
    "\n",
    "# Print the results that meet the score threshold\n",
    "for match in query_results['matches']:\n",
    "    if match['score'] >= score_threshold:\n",
    "           course_name = id_to_name.get(int(match['id']), \"Unknown Course\")\n",
    "           print(f\"Matched course name: {course_name}, score: {match['score']}\")"
   ]
  },
  {
   "cell_type": "code",
   "execution_count": null,
   "id": "459b9a4a",
   "metadata": {},
   "outputs": [],
   "source": []
  }
 ],
 "metadata": {
  "kernelspec": {
   "display_name": "langchain_env_py312",
   "language": "python",
   "name": "langchain_env_py312"
  },
  "language_info": {
   "codemirror_mode": {
    "name": "ipython",
    "version": 3
   },
   "file_extension": ".py",
   "mimetype": "text/x-python",
   "name": "python",
   "nbconvert_exporter": "python",
   "pygments_lexer": "ipython3",
   "version": "3.12.11"
  }
 },
 "nbformat": 4,
 "nbformat_minor": 5
}
