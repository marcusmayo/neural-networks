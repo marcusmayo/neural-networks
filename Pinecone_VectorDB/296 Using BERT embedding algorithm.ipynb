{
 "cells": [
  {
   "cell_type": "code",
   "execution_count": 1,
   "id": "13bc3bc1-8420-4bf6-9551-5862db4405d7",
   "metadata": {},
   "outputs": [],
   "source": [
    "%load_ext dotenv\n",
    "%dotenv"
   ]
  },
  {
   "cell_type": "code",
   "execution_count": 2,
   "id": "37b06b9c-840a-4b8a-a55f-9cb34fcc5a7f",
   "metadata": {},
   "outputs": [],
   "source": [
    "import pandas as pd\n",
    "import os\n",
    "from pinecone import Pinecone, ServerlessSpec\n",
    "from dotenv import load_dotenv, find_dotenv\n",
    "import pinecone\n",
    "from sentence_transformers import SentenceTransformer"
   ]
  },
  {
   "cell_type": "code",
   "execution_count": 3,
   "id": "0c54c232-fdb6-4047-b830-315cb6f1fe43",
   "metadata": {},
   "outputs": [],
   "source": [
    "files = pd.read_csv(\"course_section_descriptions.csv\", encoding = \"ANSI\")"
   ]
  },
  {
   "cell_type": "code",
   "execution_count": 4,
   "id": "39e2fb4e-3d9b-4a60-8f34-46d264f50a75",
   "metadata": {},
   "outputs": [],
   "source": [
    "# create course section bridge by creating unique ids for course and section\n",
    "files[\"unique_id\"] = files[\"course_id\"].astype(str) + '-' + files[\"section_id\"].astype(str)"
   ]
  },
  {
   "cell_type": "code",
   "execution_count": 5,
   "id": "bdf8068e-0658-4783-a7fc-804cc063e4df",
   "metadata": {},
   "outputs": [],
   "source": [
    "# add a metadata column, upload it to the vector database, and identify courses and sections in the sources\n",
    "files[\"metadata\"] = files.apply(lambda row: {\n",
    "    \"course_name\": row[\"course_name\"],\n",
    "    \"section_name\": row[\"section_name\"],\n",
    "    \"section_description\": row[\"section_description\"],\n",
    "}, axis = 1)"
   ]
  },
  {
   "cell_type": "code",
   "execution_count": 6,
   "id": "9c457bee-ddd6-4788-bd32-beffc772b18b",
   "metadata": {},
   "outputs": [],
   "source": [
    "# function to cobine text columns into one single column\n",
    "def create_embeddings(row):\n",
    "    combined_text = f'''{row[\"course_name\"]} {row[\"course_technology\"]}\n",
    "                        {row[\"course_description\"]} {row[\"section_name\"]}{row[\"section_description\"]}'''\n",
    "    return model.encode(combined_text, show_progress_bar = False)"
   ]
  },
  {
   "cell_type": "code",
   "execution_count": 7,
   "id": "caefbdc5-0206-493c-8ab3-dd5a4c9b06b6",
   "metadata": {},
   "outputs": [],
   "source": [
    "# Invoke embedding model\n",
    "model = SentenceTransformer(\"multi-qa-distilbert-cos-v1\")"
   ]
  },
  {
   "cell_type": "code",
   "execution_count": 8,
   "id": "9cb917d7-e5f8-42b3-98c3-53373647bc0b",
   "metadata": {},
   "outputs": [],
   "source": [
    "# create file embeddings column\n",
    "files[\"embedding\"] = files.apply(create_embeddings, axis = 1)"
   ]
  },
  {
   "cell_type": "markdown",
   "id": "d8d03a1d-3eff-494f-abec-1180fd367194",
   "metadata": {},
   "source": [
    "# Upserting data to Pinecone"
   ]
  },
  {
   "cell_type": "code",
   "execution_count": 9,
   "id": "d7d01b30-4a06-4dc5-b739-92df28d37bba",
   "metadata": {},
   "outputs": [
    {
     "data": {
      "text/plain": [
       "True"
      ]
     },
     "execution_count": 9,
     "metadata": {},
     "output_type": "execute_result"
    }
   ],
   "source": [
    "load_dotenv(find_dotenv(), override = True)"
   ]
  },
  {
   "cell_type": "code",
   "execution_count": 10,
   "id": "5cd5ed2c-3352-4c89-a3fe-23caa6c1c30e",
   "metadata": {},
   "outputs": [],
   "source": [
    "pc = Pinecone(api_key = os.environ.get(\"PINECONE_API_KEY\"), environment = os.environ.get(\"PINECONE_ENV\"))"
   ]
  },
  {
   "cell_type": "code",
   "execution_count": 11,
   "id": "d4bf50bc-d5d4-4815-ba54-3302f6468787",
   "metadata": {},
   "outputs": [],
   "source": [
    "index_name = \"bert\"\n",
    "dimension = 768\n",
    "metric = \"cosine\""
   ]
  },
  {
   "cell_type": "code",
   "execution_count": 12,
   "id": "9ba32f38-0a59-45b2-8768-2274bd3e3420",
   "metadata": {},
   "outputs": [
    {
     "name": "stdout",
     "output_type": "stream",
     "text": [
      "bert succesfully deleted.\n"
     ]
    }
   ],
   "source": [
    "if index_name in [index.name for index in pc.list_indexes()]:\n",
    "    pc.delete_index(index_name)\n",
    "    print(f\"{index_name} succesfully deleted.\")\n",
    "else:\n",
    "     print(f\"{index_name} not in index list.\")"
   ]
  },
  {
   "cell_type": "code",
   "execution_count": 13,
   "id": "de75ca1a-2a4d-45c1-a0cb-61ace2e25600",
   "metadata": {},
   "outputs": [
    {
     "data": {
      "text/plain": [
       "{\n",
       "    \"name\": \"bert\",\n",
       "    \"metric\": \"cosine\",\n",
       "    \"host\": \"bert-67t99i9.svc.aped-4627-b74a.pinecone.io\",\n",
       "    \"spec\": {\n",
       "        \"serverless\": {\n",
       "            \"cloud\": \"aws\",\n",
       "            \"region\": \"us-east-1\"\n",
       "        }\n",
       "    },\n",
       "    \"status\": {\n",
       "        \"ready\": true,\n",
       "        \"state\": \"Ready\"\n",
       "    },\n",
       "    \"vector_type\": \"dense\",\n",
       "    \"dimension\": 768,\n",
       "    \"deletion_protection\": \"disabled\",\n",
       "    \"tags\": null\n",
       "}"
      ]
     },
     "execution_count": 13,
     "metadata": {},
     "output_type": "execute_result"
    }
   ],
   "source": [
    "pc.create_index(\n",
    "    name = index_name, \n",
    "    dimension = dimension, \n",
    "    metric = metric, \n",
    "    spec = ServerlessSpec(\n",
    "        cloud = \"aws\", \n",
    "        region = \"us-east-1\")\n",
    "    )"
   ]
  },
  {
   "cell_type": "code",
   "execution_count": 14,
   "id": "b3b8a83f-e5fe-4f30-b1f9-f49886b62a14",
   "metadata": {},
   "outputs": [],
   "source": [
    "index = pc.Index(index_name)"
   ]
  },
  {
   "cell_type": "code",
   "execution_count": 15,
   "id": "77872ab2-74db-450f-8e40-c243360ca4eb",
   "metadata": {},
   "outputs": [],
   "source": [
    "vectors_to_upsert = [(row[\"unique_id\"], row[\"embedding\"].tolist(), row[\"metadata\"]) for index, row in files.iterrows()]"
   ]
  },
  {
   "cell_type": "code",
   "execution_count": 16,
   "id": "852e839f-d552-49a6-9bd3-95bec66b4dcd",
   "metadata": {},
   "outputs": [
    {
     "name": "stdout",
     "output_type": "stream",
     "text": [
      "Data succesfully upserted to Pinecone index\n"
     ]
    }
   ],
   "source": [
    "index.upsert(vectors = vectors_to_upsert)\n",
    "print(\"Data succesfully upserted to Pinecone index\")"
   ]
  },
  {
   "cell_type": "code",
   "execution_count": 17,
   "id": "eadba10e-e06a-4792-8e5d-8698181b95d0",
   "metadata": {},
   "outputs": [],
   "source": [
    "# Ensure you've already initialized and configured Pinecone and the model\n",
    "# If not, you need to run the initialization code provided earlier\n",
    "\n",
    "# Create the query embedding\n",
    "query = \"regression in Python\"\n",
    "query_embedding = model.encode(query, show_progress_bar=False).tolist()"
   ]
  },
  {
   "cell_type": "code",
   "execution_count": 18,
   "id": "a14ef384-447b-41bd-8cf4-2aadf6f1740b",
   "metadata": {},
   "outputs": [],
   "source": [
    "query_results = index.query(\n",
    "    vector = [query_embedding],\n",
    "    top_k = 12,\n",
    "    include_metadata = True\n",
    ")"
   ]
  },
  {
   "cell_type": "code",
   "execution_count": 19,
   "id": "5eaff4fd-6c85-4ec1-9252-b4966e02ecbc",
   "metadata": {},
   "outputs": [],
   "source": [
    "score_threshold = 0.4"
   ]
  },
  {
   "cell_type": "code",
   "execution_count": 20,
   "id": "c28072ee-c658-480e-9bff-96ecbf6559ea",
   "metadata": {},
   "outputs": [],
   "source": [
    "# Assuming query_results are fetched and include metadata\n",
    "for match in query_results['matches']:\n",
    "    if match['score'] >= score_threshold:\n",
    "        course_details = match.get('metadata', {})\n",
    "        course_name = course_details.get('course_name', 'N/A')\n",
    "        section_name = course_details.get('section_name', 'N/A')\n",
    "        section_description = course_details.get('section_description', 'No description available')\n",
    "        \n",
    "        print(f\"Matched item ID: {match['id']}, Score: {match['score']}\")\n",
    "        print(f\"Course: {course_name} \\nSection: {section_name} \\nDescription: {section_description}\")"
   ]
  },
  {
   "cell_type": "code",
   "execution_count": null,
   "id": "9625061c-3799-4f6d-9d8f-841e68d9d88b",
   "metadata": {},
   "outputs": [],
   "source": []
  },
  {
   "cell_type": "code",
   "execution_count": null,
   "id": "716bbc0c-1150-459f-aa19-d983489b12f4",
   "metadata": {},
   "outputs": [],
   "source": []
  },
  {
   "cell_type": "code",
   "execution_count": null,
   "id": "de36703d-0ac8-4fbc-ad0c-bd5eff3a3619",
   "metadata": {},
   "outputs": [],
   "source": []
  }
 ],
 "metadata": {
  "kernelspec": {
   "display_name": "langchain_env_py312",
   "language": "python",
   "name": "langchain_env_py312"
  },
  "language_info": {
   "codemirror_mode": {
    "name": "ipython",
    "version": 3
   },
   "file_extension": ".py",
   "mimetype": "text/x-python",
   "name": "python",
   "nbconvert_exporter": "python",
   "pygments_lexer": "ipython3",
   "version": "3.12.11"
  }
 },
 "nbformat": 4,
 "nbformat_minor": 5
}
